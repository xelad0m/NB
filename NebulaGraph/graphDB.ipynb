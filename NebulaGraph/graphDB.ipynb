{
 "cells": [
  {
   "cell_type": "markdown",
   "metadata": {},
   "source": [
    "**Содержание**<a id='toc0_'></a>    \n",
    "- [Установка NebulaGraph](#toc1_)    \n",
    "- [Считывание данных из источника](#toc2_)    \n",
    "- [Внесение данных из таблицы в графовую БД](#toc3_)    \n",
    "- [Графовое представление в БД](#toc4_)    \n",
    "  - [Ориентированный граф](#toc4_1_)    \n",
    "    - [Степени вершин](#toc4_1_1_)    \n",
    "    - [Множества достижимости и контрдостижимости вершин](#toc4_1_2_)    \n",
    "    - [Циклы и компоненты сильной связности](#toc4_1_3_)    \n",
    "  - [Неориентированный граф](#toc4_2_)    \n",
    "    - [Степени вершин](#toc4_2_1_)    \n",
    "    - [Циклы и компоненты связности](#toc4_2_2_)    \n",
    "  - [Визуализация](#toc4_3_)    \n",
    "  - [Выводы](#toc4_4_)    \n",
    "- [REST сервис](#toc5_)    \n",
    "\n",
    "<!-- vscode-jupyter-toc-config\n",
    "\tnumbering=false\n",
    "\tanchor=true\n",
    "\tflat=false\n",
    "\tminLevel=1\n",
    "\tmaxLevel=6\n",
    "\t/vscode-jupyter-toc-config -->\n",
    "<!-- THIS CELL WILL BE REPLACED ON TOC UPDATE. DO NOT WRITE YOUR TEXT IN THIS CELL -->"
   ]
  },
  {
   "cell_type": "markdown",
   "metadata": {},
   "source": [
    "# <a id='toc1_'></a>[Установка NebulaGraph](#toc0_)\n",
    "\n",
    "Можно установить Docker Desktop и выбрать мышкой, или взять docker контейнеры из репозитория:\n",
    "```\n",
    "git clone -b release-3.4 https://github.com/vesoft-inc/nebula-docker-compose.git\n",
    "cd ./nebula-docker-compose\n",
    "docker compose up -d\n",
    "```\n",
    "Состоит из трех кластеризованных сервисов (meta, graph, storage) + консоль.\n",
    "\n",
    "Подключение к контейнеру с консолью СУБД: `docker exec -it nebula-docker-compose-console-1 /bin/sh`\n",
    "\n",
    "Открыть консоль СУБД в контейнере: `nebula-console -u root --address=graphd --port=9669`\n",
    "- `root` дефолтный пользователь без пароля\n",
    "    - `SHOW USERS;`\n",
    "    - `CHANGE PASSWORD <user_name> FROM '<old_password>' TO '<new_password>';`\n",
    "\n",
    "Выключить: `docker compose down`"
   ]
  },
  {
   "cell_type": "code",
   "execution_count": 1,
   "metadata": {},
   "outputs": [],
   "source": [
    "# !cd ~/development/nebula-docker-compose && docker compose up -d\n",
    "# !cd ~/development/nebula-docker-compose && docker compose down"
   ]
  },
  {
   "cell_type": "markdown",
   "metadata": {},
   "source": [
    "# <a id='toc2_'></a>[Считывание данных из источника](#toc0_)"
   ]
  },
  {
   "cell_type": "code",
   "execution_count": 2,
   "metadata": {},
   "outputs": [
    {
     "data": {
      "text/plain": [
       "(5000, 9899, 25, 37)"
      ]
     },
     "execution_count": 2,
     "metadata": {},
     "output_type": "execute_result"
    }
   ],
   "source": [
    "import pandas as pd\n",
    "\n",
    "DATA = \"./GraphData/data_test.csv\"\n",
    "\n",
    "df = pd.read_csv(DATA, header=0, names=[\"eid\", \"name1\", \"name2\"], sep=\";\")\n",
    "\n",
    "unique = pd.concat((df.name1, df.name2), axis=0).unique()\n",
    "intersect = set(df.name1).intersection(set(df.name2))\n",
    "\n",
    "df.shape[0], unique.shape[0], len(intersect), max(map(len, unique))"
   ]
  },
  {
   "cell_type": "markdown",
   "metadata": {},
   "source": [
    "- всего записей в датасете 5000, \n",
    "- поля `name1` и `name2` содержат 9899 уникальных объекта, \n",
    "- пересечение множеств уникальных значений полей `name1` и `name2` содержит 25 объектов\n",
    "- максимальная длина идентификатора объекта 37 символов"
   ]
  },
  {
   "cell_type": "markdown",
   "metadata": {},
   "source": [
    "Сразу добавим идентификаторы/индексы вершин"
   ]
  },
  {
   "cell_type": "code",
   "execution_count": 3,
   "metadata": {},
   "outputs": [
    {
     "data": {
      "text/html": [
       "<div>\n",
       "<style scoped>\n",
       "    .dataframe tbody tr th:only-of-type {\n",
       "        vertical-align: middle;\n",
       "    }\n",
       "\n",
       "    .dataframe tbody tr th {\n",
       "        vertical-align: top;\n",
       "    }\n",
       "\n",
       "    .dataframe thead th {\n",
       "        text-align: right;\n",
       "    }\n",
       "</style>\n",
       "<table border=\"1\" class=\"dataframe\">\n",
       "  <thead>\n",
       "    <tr style=\"text-align: right;\">\n",
       "      <th></th>\n",
       "      <th>eid</th>\n",
       "      <th>vid1</th>\n",
       "      <th>vid2</th>\n",
       "      <th>name1</th>\n",
       "      <th>name2</th>\n",
       "    </tr>\n",
       "  </thead>\n",
       "  <tbody>\n",
       "    <tr>\n",
       "      <th>0</th>\n",
       "      <td>189</td>\n",
       "      <td>0</td>\n",
       "      <td>4930</td>\n",
       "      <td>Галчевская Карина Владимировна</td>\n",
       "      <td>Белоновская Анастасия Семеновна</td>\n",
       "    </tr>\n",
       "    <tr>\n",
       "      <th>1</th>\n",
       "      <td>206</td>\n",
       "      <td>1</td>\n",
       "      <td>4931</td>\n",
       "      <td>Офицеров Олег Романович</td>\n",
       "      <td>Сапожник Борис Валерьевич</td>\n",
       "    </tr>\n",
       "    <tr>\n",
       "      <th>2</th>\n",
       "      <td>445</td>\n",
       "      <td>2</td>\n",
       "      <td>4932</td>\n",
       "      <td>Жандарова Лариса Германовна</td>\n",
       "      <td>Чемодуров Дамир Русланович</td>\n",
       "    </tr>\n",
       "    <tr>\n",
       "      <th>3</th>\n",
       "      <td>503</td>\n",
       "      <td>3</td>\n",
       "      <td>4933</td>\n",
       "      <td>Масимова Яна Дамировна</td>\n",
       "      <td>Мингажетдинов Рамиль Семенович</td>\n",
       "    </tr>\n",
       "    <tr>\n",
       "      <th>4</th>\n",
       "      <td>571</td>\n",
       "      <td>4</td>\n",
       "      <td>4934</td>\n",
       "      <td>Мухтарова Алена Яковлевна</td>\n",
       "      <td>Щербатенко Ольга Робертовна</td>\n",
       "    </tr>\n",
       "  </tbody>\n",
       "</table>\n",
       "</div>"
      ],
      "text/plain": [
       "   eid  vid1  vid2                           name1  \\\n",
       "0  189     0  4930  Галчевская Карина Владимировна   \n",
       "1  206     1  4931         Офицеров Олег Романович   \n",
       "2  445     2  4932     Жандарова Лариса Германовна   \n",
       "3  503     3  4933          Масимова Яна Дамировна   \n",
       "4  571     4  4934       Мухтарова Алена Яковлевна   \n",
       "\n",
       "                             name2  \n",
       "0  Белоновская Анастасия Семеновна  \n",
       "1        Сапожник Борис Валерьевич  \n",
       "2       Чемодуров Дамир Русланович  \n",
       "3   Мингажетдинов Рамиль Семенович  \n",
       "4      Щербатенко Ольга Робертовна  "
      ]
     },
     "execution_count": 3,
     "metadata": {},
     "output_type": "execute_result"
    }
   ],
   "source": [
    "vids = pd.DataFrame({\"name\": unique}).reset_index()\n",
    "\n",
    "df[\"vid1\"] = pd.merge(df.name1, vids, how=\"left\", left_on=\"name1\", right_on=\"name\")[\"index\"]\n",
    "df[\"vid2\"] = pd.merge(df.name2, vids, how=\"left\", left_on=\"name2\", right_on=\"name\")[\"index\"]\n",
    "\n",
    "df[[\"eid\",\t\"vid1\",\t\"vid2\", \"name1\", \"name2\"]].head()"
   ]
  },
  {
   "cell_type": "markdown",
   "metadata": {},
   "source": [
    "# <a id='toc3_'></a>[Внесение данных из таблицы в графовую БД](#toc0_)"
   ]
  },
  {
   "cell_type": "code",
   "execution_count": 4,
   "metadata": {},
   "outputs": [],
   "source": [
    "# адрес и порт graphd сервиса\n",
    "HOST = \"127.0.0.1\"      \n",
    "PORT = 9669\n",
    "\n",
    "USER = \"root\"\n",
    "PASS = \"\"\n",
    "\n",
    "SPACE = \"relations\"   # назовем схему данных так"
   ]
  },
  {
   "cell_type": "markdown",
   "metadata": {},
   "source": [
    "Официальные биндинги к API СУБД из питона - пакет `nebula3-python` (версия должна соответствовать СУБД). Есть два вида соединения для выполнения запросов к БД:\n",
    "- отдельная сессия - для существующего пользователя и конкретного пространства (аналог схемы в SQL), в т.ч. служит для разграничения прав доступа\n",
    "- пул соединений - можно создавать пространства, пользователей и т.п."
   ]
  },
  {
   "cell_type": "code",
   "execution_count": 5,
   "metadata": {},
   "outputs": [],
   "source": [
    "# !pip install nebula3-python==3.4\n",
    "import time\n",
    "\n",
    "from tqdm import tqdm\n",
    "\n",
    "from nebula3.Config import Config\n",
    "from nebula3.gclient.net import ConnectionPool\n",
    "\n",
    "config = Config()\n",
    "config.max_connection_pool_size = 10\n",
    "\n",
    "# init connection pool\n",
    "connection_pool = ConnectionPool()\n",
    "# the graphd server's address\n",
    "assert connection_pool.init([(HOST, PORT)], config)"
   ]
  },
  {
   "cell_type": "markdown",
   "metadata": {},
   "source": [
    "- создание схемы БД\n",
    "- внесение данных"
   ]
  },
  {
   "cell_type": "code",
   "execution_count": 6,
   "metadata": {},
   "outputs": [
    {
     "name": "stdout",
     "output_type": "stream",
     "text": [
      "Space 'relations' allready up-to-date\n",
      "(pass 'drop=True' to force rebuild)\n"
     ]
    }
   ],
   "source": [
    "def is_space(conn, space):\n",
    "    with conn.session_context(USER, PASS) as session:\n",
    "        res = session.execute(\"SHOW SPACES;\")       # ResultSet\n",
    "        res = res.column_values(\"Name\")             # list of ValueWrapper\n",
    "        res = [val.as_string() for val in res]\n",
    "    return space in set(res)\n",
    "\n",
    "def init_db(conn, space, nodes=vids, edges=df, drop=False, sleep=10):\n",
    "    \"\"\"Чтоб не ждать бесконечных слипов, пересоздание схемы только:\n",
    "        - если прямо сказано drop=True, или \n",
    "        - если схемы с именем space еще нет\n",
    "    \"\"\"\n",
    "    nGQL_drop   = f\"DROP SPACE IF EXISTS {space};\"\n",
    "    nGQL_create = f\"CREATE SPACE IF NOT EXISTS {space}(\"    \\\n",
    "                   \"PARTITION_NUM=5,\"                       \\\n",
    "                   \"REPLICA_FACTOR=1,\"                      \\\n",
    "                   \"vid_type=FIXED_STRING(30));\"\n",
    "    nGQL_tags   = f\"USE {space};\"                                   \\\n",
    "                   \"CREATE TAG IF NOT EXISTS person(name string);\"  \\\n",
    "                   \"CREATE EDGE IF NOT EXISTS r();\"\n",
    "    \n",
    "    # для экспериментов, хотя совет из манула: DO NOT USE index\n",
    "    # - индекс до 10 раз может замедлить вставку, но ускоряются LOOKUP и GO, \n",
    "    # а в MATCH снимаются ограничения на синтаксис\n",
    "    nGQL_index  = f\"CREATE TAG INDEX IF NOT EXISTS pers_index on person();\"  \\\n",
    "                   \"CREATE EDGE INDEX IF NOT EXISTS r_index on r();\"         \n",
    "\n",
    "    with conn.session_context(USER, PASS) as session:\n",
    "        if drop:\n",
    "            session.execute(nGQL_drop)\n",
    "\n",
    "        if drop or not is_space(conn, space):   # слипы из официального мануала - по 20 сек.\n",
    "            print(f\"Building space '{space}'\")\n",
    "            session.execute(nGQL_create)\n",
    "            time.sleep(sleep)                   # без этого слипа на тесте все работает\n",
    "            session.execute(nGQL_tags)\n",
    "            time.sleep(sleep)                   # без этого слипа на тесте все работает\n",
    "            session.execute(nGQL_index)\n",
    "            time.sleep(sleep)                   # без этого слипа СУБД потеряет часть данных при добавлении :P\n",
    "        else:\n",
    "            print(f\"Space '{space}' allready up-to-date\\n(pass 'drop=True' to force rebuild)\")\n",
    "\n",
    "    if drop:\n",
    "        with conn.session_context(USER, PASS) as session:\n",
    "            session.execute(f\"USE {space};\")\n",
    "\n",
    "            for _, row in tqdm(nodes.iterrows(), total=nodes.shape[0], desc='Vertexes'):\n",
    "                vid = f\"{row['index']}\"\n",
    "                cmd = f\"INSERT VERTEX person(name) VALUES \\\"{vid}\\\":(\\\"{row['name']}\\\")\"\n",
    "                session.execute(cmd)\n",
    "\n",
    "            for _, row in tqdm(edges.iterrows(), total=edges.shape[0], desc='Edges'):\n",
    "                vid1 = f\"{row['vid1']}\"\n",
    "                vid2 = f\"{row['vid2']}\"\n",
    "                cmd = f\"INSERT EDGE r() VALUES \\\"{vid1}\\\"->\\\"{vid2}\\\":()\"\n",
    "                session.execute(cmd)\n",
    "\n",
    "init_db(connection_pool, SPACE)"
   ]
  },
  {
   "cell_type": "markdown",
   "metadata": {},
   "source": [
    "Производительность:\n",
    "- ~600 запросов в сек. при добавлении данных\n",
    "- ~1200 запросов в сек. при отклонении ошибочных запросов\n",
    "\n",
    "Комментарий:\n",
    "- в БД данные вводятся как ориентированные в направлении от `name1` к `name2`"
   ]
  },
  {
   "cell_type": "markdown",
   "metadata": {},
   "source": [
    "# <a id='toc4_'></a>[Графовое представление в БД](#toc0_)\n",
    "\n",
    "Язык запросов NebulaGraph называется `nGQL` и включает в себя подмножество языка `openCypher`. Нельзя смешивать в одном запросе два диалекта:\n",
    "- openCypher (MATCH, RETURN, WITH ...)\n",
    "- native nGQL (FETCH, GO, LOOKUP ...)\n",
    "\n",
    "В native nGQL есть интересный синтаксис подзапросов в виде unix-like пайплайнов через `|` (синхронный, аналог `WITH`)."
   ]
  },
  {
   "cell_type": "code",
   "execution_count": 7,
   "metadata": {},
   "outputs": [],
   "source": [
    "from typing import Dict\n",
    "\n",
    "def result_to_df(result): \n",
    "    \"\"\"\n",
    "    build list for each column, and transform to dataframe \n",
    "    (рекомендуемый способ из мануала)\n",
    "    \"\"\"\n",
    "    assert result.is_succeeded(), \"Похоже, ошибка в запросе nGQL\"\n",
    "    columns = result.keys()\n",
    "    d: Dict[str, list] = {}\n",
    "    for col_num in range(result.col_size()):\n",
    "        col_name = columns[col_num]\n",
    "        col_list = result.column_values(col_name)\n",
    "        d[col_name] = [x.cast() for x in col_list]\n",
    "    return pd.DataFrame.from_dict(d)\n",
    "\n",
    "def q(query, conn=connection_pool):\n",
    "    \"\"\"Запрос к БД на языке NGQL\"\"\"\n",
    "    with conn.session_context(USER, PASS) as session:\n",
    "        session.execute(f\"USE {SPACE};\")\n",
    "        result = session.execute(query)\n",
    "\n",
    "    return result_to_df(result)"
   ]
  },
  {
   "cell_type": "code",
   "execution_count": 8,
   "metadata": {},
   "outputs": [
    {
     "data": {
      "text/html": [
       "<div>\n",
       "<style scoped>\n",
       "    .dataframe tbody tr th:only-of-type {\n",
       "        vertical-align: middle;\n",
       "    }\n",
       "\n",
       "    .dataframe tbody tr th {\n",
       "        vertical-align: top;\n",
       "    }\n",
       "\n",
       "    .dataframe thead th {\n",
       "        text-align: right;\n",
       "    }\n",
       "</style>\n",
       "<table border=\"1\" class=\"dataframe\">\n",
       "  <thead>\n",
       "    <tr style=\"text-align: right;\">\n",
       "      <th></th>\n",
       "      <th>0</th>\n",
       "    </tr>\n",
       "  </thead>\n",
       "  <tbody>\n",
       "    <tr>\n",
       "      <th>v_num</th>\n",
       "      <td>9899</td>\n",
       "    </tr>\n",
       "    <tr>\n",
       "      <th>e_num</th>\n",
       "      <td>5000</td>\n",
       "    </tr>\n",
       "  </tbody>\n",
       "</table>\n",
       "</div>"
      ],
      "text/plain": [
       "          0\n",
       "v_num  9899\n",
       "e_num  5000"
      ]
     },
     "execution_count": 8,
     "metadata": {},
     "output_type": "execute_result"
    }
   ],
   "source": [
    "#native nGQL: \"LOOKUP ON person YIELD id(vertex) | YIELD COUNT(*) AS Total;\"\n",
    "v_num = \"MATCH (v:person) RETURN count(v.person.name) AS v_num;\"\n",
    "e_num = \"MATCH ()-[r]->() RETURN count(r) AS e_num;\"\n",
    "\n",
    "pd.concat((q(v_num).T, q(e_num).T))"
   ]
  },
  {
   "cell_type": "markdown",
   "metadata": {},
   "source": [
    "Все вводимые данные в БД сохранились"
   ]
  },
  {
   "cell_type": "markdown",
   "metadata": {},
   "source": [
    "## <a id='toc4_1_'></a>[Ориентированный граф](#toc0_)\n",
    "\n",
    "### <a id='toc4_1_1_'></a>[Степени вершин](#toc0_)"
   ]
  },
  {
   "cell_type": "markdown",
   "metadata": {},
   "source": [
    "Вершины по количеству входящих и исходящих связей\n",
    "- при `length=\"1\"` соответсвует понятию степени вершины (точнее полустепени захода/исхода, но будем называть их степенями)"
   ]
  },
  {
   "cell_type": "code",
   "execution_count": 9,
   "metadata": {},
   "outputs": [
    {
     "data": {
      "text/html": [
       "<div>\n",
       "<style scoped>\n",
       "    .dataframe tbody tr th:only-of-type {\n",
       "        vertical-align: middle;\n",
       "    }\n",
       "\n",
       "    .dataframe tbody tr th {\n",
       "        vertical-align: top;\n",
       "    }\n",
       "\n",
       "    .dataframe thead th {\n",
       "        text-align: right;\n",
       "    }\n",
       "</style>\n",
       "<table border=\"1\" class=\"dataframe\">\n",
       "  <thead>\n",
       "    <tr style=\"text-align: right;\">\n",
       "      <th></th>\n",
       "      <th>vid</th>\n",
       "      <th>name</th>\n",
       "      <th>Ndst</th>\n",
       "    </tr>\n",
       "  </thead>\n",
       "  <tbody>\n",
       "    <tr>\n",
       "      <th>0</th>\n",
       "      <td>221</td>\n",
       "      <td>Ахромеева Алина Ивановна</td>\n",
       "      <td>49</td>\n",
       "    </tr>\n",
       "    <tr>\n",
       "      <th>1</th>\n",
       "      <td>341</td>\n",
       "      <td>Башнина Антонина Глебовна</td>\n",
       "      <td>14</td>\n",
       "    </tr>\n",
       "    <tr>\n",
       "      <th>2</th>\n",
       "      <td>1794</td>\n",
       "      <td>Диомидов Игорь Ильдарович</td>\n",
       "      <td>5</td>\n",
       "    </tr>\n",
       "    <tr>\n",
       "      <th>3</th>\n",
       "      <td>661</td>\n",
       "      <td>Зимнухова Карина Даниловна</td>\n",
       "      <td>4</td>\n",
       "    </tr>\n",
       "    <tr>\n",
       "      <th>4</th>\n",
       "      <td>503</td>\n",
       "      <td>Пафомова Кира Вадимовна</td>\n",
       "      <td>2</td>\n",
       "    </tr>\n",
       "  </tbody>\n",
       "</table>\n",
       "</div>"
      ],
      "text/plain": [
       "    vid                        name  Ndst\n",
       "0   221    Ахромеева Алина Ивановна    49\n",
       "1   341   Башнина Антонина Глебовна    14\n",
       "2  1794   Диомидов Игорь Ильдарович     5\n",
       "3   661  Зимнухова Карина Даниловна     4\n",
       "4   503     Пафомова Кира Вадимовна     2"
      ]
     },
     "execution_count": 9,
     "metadata": {},
     "output_type": "execute_result"
    }
   ],
   "source": [
    "def dst(vid, length=\"1\"):\n",
    "    \"\"\"Вершины в которые из vid есть путь длины length\"\"\"\n",
    "    return f\"MATCH (v1)-[e:r*{length}]->(v2) WHERE id(v1) == '{vid}' RETURN id(v2) AS vid, v2.person.name AS name;\"\n",
    "\n",
    "def dst_count(length=\"1\"):\n",
    "    \"\"\"Количество вершин, в которые есть путь длины length из vid\"\"\"\n",
    "    return f\"MATCH (v1:person)-[r*{length}]->(v2:person) RETURN id(v1) AS vid, v1.person.name AS name, COUNT(DISTINCT id(v2)) AS Ndst ORDER BY Ndst DESC;\"\n",
    "\n",
    "def src(vid, length=\"1\"):\n",
    "    \"\"\"Вершины из которых в vid есть путь длины length\"\"\"\n",
    "    return f\"MATCH (v1)<-[e:r*{length}]-(v2) WHERE id(v1) == '{vid}' RETURN id(v2) AS vid, v2.person.name AS name;\"\n",
    "\n",
    "def src_count(length=\"1\"):\n",
    "    \"\"\"Количество вершин, из которых есть путь длины length в vid\"\"\"\n",
    "    return f\"MATCH (v1:person)<-[r*{length}]-(v2:person) RETURN id(v1) AS vid, v1.person.name AS name, COUNT(DISTINCT id(v2)) AS Nsrc ORDER BY Nsrc DESC;\"\n",
    "\n",
    "q(dst_count()).head()"
   ]
  },
  {
   "cell_type": "code",
   "execution_count": 10,
   "metadata": {},
   "outputs": [
    {
     "data": {
      "text/html": [
       "<div>\n",
       "<style scoped>\n",
       "    .dataframe tbody tr th:only-of-type {\n",
       "        vertical-align: middle;\n",
       "    }\n",
       "\n",
       "    .dataframe tbody tr th {\n",
       "        vertical-align: top;\n",
       "    }\n",
       "\n",
       "    .dataframe thead th {\n",
       "        text-align: right;\n",
       "    }\n",
       "</style>\n",
       "<table border=\"1\" class=\"dataframe\">\n",
       "  <thead>\n",
       "    <tr style=\"text-align: right;\">\n",
       "      <th></th>\n",
       "      <th>vid</th>\n",
       "      <th>name</th>\n",
       "      <th>Nsrc</th>\n",
       "    </tr>\n",
       "  </thead>\n",
       "  <tbody>\n",
       "    <tr>\n",
       "      <th>0</th>\n",
       "      <td>873</td>\n",
       "      <td>Медведева Дарья Алексеевна</td>\n",
       "      <td>5</td>\n",
       "    </tr>\n",
       "    <tr>\n",
       "      <th>1</th>\n",
       "      <td>1766</td>\n",
       "      <td>Двигубская Валентина Геннадьевна</td>\n",
       "      <td>2</td>\n",
       "    </tr>\n",
       "    <tr>\n",
       "      <th>2</th>\n",
       "      <td>1098</td>\n",
       "      <td>Шолохов Игорь Робертович</td>\n",
       "      <td>2</td>\n",
       "    </tr>\n",
       "    <tr>\n",
       "      <th>3</th>\n",
       "      <td>9836</td>\n",
       "      <td>Ермилова Екатерина Федоровна</td>\n",
       "      <td>1</td>\n",
       "    </tr>\n",
       "    <tr>\n",
       "      <th>4</th>\n",
       "      <td>9147</td>\n",
       "      <td>Шулятикова Анастасия Михаиловна</td>\n",
       "      <td>1</td>\n",
       "    </tr>\n",
       "  </tbody>\n",
       "</table>\n",
       "</div>"
      ],
      "text/plain": [
       "    vid                              name  Nsrc\n",
       "0   873        Медведева Дарья Алексеевна     5\n",
       "1  1766  Двигубская Валентина Геннадьевна     2\n",
       "2  1098          Шолохов Игорь Робертович     2\n",
       "3  9836      Ермилова Екатерина Федоровна     1\n",
       "4  9147   Шулятикова Анастасия Михаиловна     1"
      ]
     },
     "execution_count": 10,
     "metadata": {},
     "output_type": "execute_result"
    }
   ],
   "source": [
    "q(src_count()).head()"
   ]
  },
  {
   "cell_type": "markdown",
   "metadata": {},
   "source": [
    "- Максимальная исходящая степень вершины $d^-(v_{221}) = 49$, \n",
    "- Максимальная входящая степень вершины $d^+(v_{873}) = 5$"
   ]
  },
  {
   "cell_type": "markdown",
   "metadata": {},
   "source": [
    "### <a id='toc4_1_2_'></a>[Множества достижимости и контрдостижимости вершин](#toc0_)\n",
    "\n",
    "- при `length=\"1..\"` соответсвует понятию достижимости (`dst_count` - какие вершины могут быть достигнуты из данной) и контрдостижимости вершин (`src_count` - из каких вершин может быть достигнута данная)"
   ]
  },
  {
   "cell_type": "code",
   "execution_count": 11,
   "metadata": {},
   "outputs": [
    {
     "data": {
      "text/html": [
       "<div>\n",
       "<style scoped>\n",
       "    .dataframe tbody tr th:only-of-type {\n",
       "        vertical-align: middle;\n",
       "    }\n",
       "\n",
       "    .dataframe tbody tr th {\n",
       "        vertical-align: top;\n",
       "    }\n",
       "\n",
       "    .dataframe thead th {\n",
       "        text-align: right;\n",
       "    }\n",
       "</style>\n",
       "<table border=\"1\" class=\"dataframe\">\n",
       "  <thead>\n",
       "    <tr style=\"text-align: right;\">\n",
       "      <th></th>\n",
       "      <th>vid</th>\n",
       "      <th>name</th>\n",
       "      <th>Ndst</th>\n",
       "    </tr>\n",
       "  </thead>\n",
       "  <tbody>\n",
       "    <tr>\n",
       "      <th>0</th>\n",
       "      <td>3968</td>\n",
       "      <td>Ошуров Павел Ильдарович</td>\n",
       "      <td>50</td>\n",
       "    </tr>\n",
       "    <tr>\n",
       "      <th>1</th>\n",
       "      <td>221</td>\n",
       "      <td>Ахромеева Алина Ивановна</td>\n",
       "      <td>49</td>\n",
       "    </tr>\n",
       "    <tr>\n",
       "      <th>2</th>\n",
       "      <td>341</td>\n",
       "      <td>Башнина Антонина Глебовна</td>\n",
       "      <td>14</td>\n",
       "    </tr>\n",
       "    <tr>\n",
       "      <th>3</th>\n",
       "      <td>4505</td>\n",
       "      <td>Ляуданский Валентин Владиславович</td>\n",
       "      <td>13</td>\n",
       "    </tr>\n",
       "    <tr>\n",
       "      <th>4</th>\n",
       "      <td>3611</td>\n",
       "      <td>Троекуров Глеб Ефимович</td>\n",
       "      <td>13</td>\n",
       "    </tr>\n",
       "  </tbody>\n",
       "</table>\n",
       "</div>"
      ],
      "text/plain": [
       "    vid                               name  Ndst\n",
       "0  3968            Ошуров Павел Ильдарович    50\n",
       "1   221           Ахромеева Алина Ивановна    49\n",
       "2   341          Башнина Антонина Глебовна    14\n",
       "3  4505  Ляуданский Валентин Владиславович    13\n",
       "4  3611            Троекуров Глеб Ефимович    13"
      ]
     },
     "execution_count": 11,
     "metadata": {},
     "output_type": "execute_result"
    }
   ],
   "source": [
    "dst_power = q(dst_count(\"1..\"))\n",
    "dst_power.head()"
   ]
  },
  {
   "cell_type": "code",
   "execution_count": 12,
   "metadata": {},
   "outputs": [
    {
     "data": {
      "text/html": [
       "<div>\n",
       "<style scoped>\n",
       "    .dataframe tbody tr th:only-of-type {\n",
       "        vertical-align: middle;\n",
       "    }\n",
       "\n",
       "    .dataframe tbody tr th {\n",
       "        vertical-align: top;\n",
       "    }\n",
       "\n",
       "    .dataframe thead th {\n",
       "        text-align: right;\n",
       "    }\n",
       "</style>\n",
       "<table border=\"1\" class=\"dataframe\">\n",
       "  <thead>\n",
       "    <tr style=\"text-align: right;\">\n",
       "      <th></th>\n",
       "      <th>vid</th>\n",
       "      <th>name</th>\n",
       "      <th>Nsrc</th>\n",
       "    </tr>\n",
       "  </thead>\n",
       "  <tbody>\n",
       "    <tr>\n",
       "      <th>0</th>\n",
       "      <td>1455</td>\n",
       "      <td>Даниленко Владимир Семенович</td>\n",
       "      <td>13</td>\n",
       "    </tr>\n",
       "    <tr>\n",
       "      <th>1</th>\n",
       "      <td>1766</td>\n",
       "      <td>Двигубская Валентина Геннадьевна</td>\n",
       "      <td>13</td>\n",
       "    </tr>\n",
       "    <tr>\n",
       "      <th>2</th>\n",
       "      <td>1926</td>\n",
       "      <td>Ивашев Вячеслав Игоревич</td>\n",
       "      <td>13</td>\n",
       "    </tr>\n",
       "    <tr>\n",
       "      <th>3</th>\n",
       "      <td>3959</td>\n",
       "      <td>Дорожкин Анатолий Егорович</td>\n",
       "      <td>13</td>\n",
       "    </tr>\n",
       "    <tr>\n",
       "      <th>4</th>\n",
       "      <td>4503</td>\n",
       "      <td>Рыскина Эльмира Ивановна</td>\n",
       "      <td>13</td>\n",
       "    </tr>\n",
       "  </tbody>\n",
       "</table>\n",
       "</div>"
      ],
      "text/plain": [
       "    vid                              name  Nsrc\n",
       "0  1455      Даниленко Владимир Семенович    13\n",
       "1  1766  Двигубская Валентина Геннадьевна    13\n",
       "2  1926          Ивашев Вячеслав Игоревич    13\n",
       "3  3959        Дорожкин Анатолий Егорович    13\n",
       "4  4503          Рыскина Эльмира Ивановна    13"
      ]
     },
     "execution_count": 12,
     "metadata": {},
     "output_type": "execute_result"
    }
   ],
   "source": [
    "src_power = q(src_count(\"1..\"))\n",
    "src_power.head()"
   ]
  },
  {
   "cell_type": "markdown",
   "metadata": {},
   "source": [
    "- квантили степеней вершин"
   ]
  },
  {
   "cell_type": "code",
   "execution_count": 13,
   "metadata": {},
   "outputs": [
    {
     "data": {
      "text/plain": [
       "(1.0, 2.0)"
      ]
     },
     "execution_count": 13,
     "metadata": {},
     "output_type": "execute_result"
    }
   ],
   "source": [
    "dst_power.Ndst.quantile(0.99), src_power.Nsrc.quantile(0.99)"
   ]
  },
  {
   "cell_type": "markdown",
   "metadata": {},
   "source": [
    "- 99% квантиль мощности множества достижимости для вершин графа равен 1.0 вершине\n",
    "- 99% квантиль мощности множества контрдостижимости для вершин графа равен 2.0 вершинам (98% квантиль - 1 вершина)\n",
    "\n",
    "Из этого можно сделать вывод, что все вершины в представленном графе, которые связаны более чем с 1 вершиной, можно считать выбросами с точки зрения статистики."
   ]
  },
  {
   "cell_type": "markdown",
   "metadata": {},
   "source": [
    "### <a id='toc4_1_3_'></a>[Циклы и компоненты сильной связности](#toc0_)\n",
    "\n",
    "В ориентированном графе циклы являются частным случаем компонент сильной связности. В общем случае компонента сильной связности ор.графа может состоять из нескольких циклов, имеющих общие вершины.\n",
    "\n",
    "Количество циклов `cycle_count`:\n",
    "- `length=\"0\"` количество вершин в графе\n",
    "- `length=\"1\"` количество петель в графе (**отсутствуют**)\n",
    "- `length=\"2\"` количество вершин, связанных условно неориентированным ребром (**отсутствуют**)\n",
    "- `length=\"3\"` количество циклов длины 3 (**отсутствуют**)\n",
    "- ..."
   ]
  },
  {
   "cell_type": "code",
   "execution_count": 14,
   "metadata": {},
   "outputs": [
    {
     "data": {
      "text/html": [
       "<div>\n",
       "<style scoped>\n",
       "    .dataframe tbody tr th:only-of-type {\n",
       "        vertical-align: middle;\n",
       "    }\n",
       "\n",
       "    .dataframe tbody tr th {\n",
       "        vertical-align: top;\n",
       "    }\n",
       "\n",
       "    .dataframe thead th {\n",
       "        text-align: right;\n",
       "    }\n",
       "</style>\n",
       "<table border=\"1\" class=\"dataframe\">\n",
       "  <thead>\n",
       "    <tr style=\"text-align: right;\">\n",
       "      <th></th>\n",
       "      <th>vid</th>\n",
       "      <th>name</th>\n",
       "      <th>length</th>\n",
       "      <th>cycle</th>\n",
       "    </tr>\n",
       "  </thead>\n",
       "  <tbody>\n",
       "    <tr>\n",
       "      <th>0</th>\n",
       "      <td>3710</td>\n",
       "      <td>Торгунаков Роман Кириллович</td>\n",
       "      <td>7</td>\n",
       "      <td>3710-&gt;1098-&gt;2042-&gt;3611-&gt;4727-&gt;503-&gt;4505</td>\n",
       "    </tr>\n",
       "    <tr>\n",
       "      <th>1</th>\n",
       "      <td>503</td>\n",
       "      <td>Пафомова Кира Вадимовна</td>\n",
       "      <td>7</td>\n",
       "      <td>503-&gt;4505-&gt;3710-&gt;1098-&gt;2042-&gt;3611-&gt;4727</td>\n",
       "    </tr>\n",
       "    <tr>\n",
       "      <th>2</th>\n",
       "      <td>4505</td>\n",
       "      <td>Ляуданский Валентин Владиславович</td>\n",
       "      <td>7</td>\n",
       "      <td>4505-&gt;3710-&gt;1098-&gt;2042-&gt;3611-&gt;4727-&gt;503</td>\n",
       "    </tr>\n",
       "    <tr>\n",
       "      <th>3</th>\n",
       "      <td>3611</td>\n",
       "      <td>Троекуров Глеб Ефимович</td>\n",
       "      <td>7</td>\n",
       "      <td>3611-&gt;4727-&gt;503-&gt;4505-&gt;3710-&gt;1098-&gt;2042</td>\n",
       "    </tr>\n",
       "    <tr>\n",
       "      <th>4</th>\n",
       "      <td>4727</td>\n",
       "      <td>Мараховская Дарья Романовна</td>\n",
       "      <td>7</td>\n",
       "      <td>4727-&gt;503-&gt;4505-&gt;3710-&gt;1098-&gt;2042-&gt;3611</td>\n",
       "    </tr>\n",
       "    <tr>\n",
       "      <th>5</th>\n",
       "      <td>2042</td>\n",
       "      <td>Нагайцева Анжелика Яновна</td>\n",
       "      <td>7</td>\n",
       "      <td>2042-&gt;3611-&gt;4727-&gt;503-&gt;4505-&gt;3710-&gt;1098</td>\n",
       "    </tr>\n",
       "    <tr>\n",
       "      <th>6</th>\n",
       "      <td>1098</td>\n",
       "      <td>Шолохов Игорь Робертович</td>\n",
       "      <td>7</td>\n",
       "      <td>1098-&gt;2042-&gt;3611-&gt;4727-&gt;503-&gt;4505-&gt;3710</td>\n",
       "    </tr>\n",
       "    <tr>\n",
       "      <th>7</th>\n",
       "      <td>3279</td>\n",
       "      <td>Батиевская Ангелина Романовна</td>\n",
       "      <td>6</td>\n",
       "      <td>3279-&gt;3959-&gt;1766-&gt;1926-&gt;4503-&gt;1455</td>\n",
       "    </tr>\n",
       "    <tr>\n",
       "      <th>8</th>\n",
       "      <td>4053</td>\n",
       "      <td>Поскребышев Яков Дмитриевич</td>\n",
       "      <td>6</td>\n",
       "      <td>4053-&gt;1627-&gt;3679-&gt;3366-&gt;975-&gt;3966</td>\n",
       "    </tr>\n",
       "    <tr>\n",
       "      <th>9</th>\n",
       "      <td>1455</td>\n",
       "      <td>Даниленко Владимир Семенович</td>\n",
       "      <td>6</td>\n",
       "      <td>1455-&gt;3279-&gt;3959-&gt;1766-&gt;1926-&gt;4503</td>\n",
       "    </tr>\n",
       "    <tr>\n",
       "      <th>10</th>\n",
       "      <td>1627</td>\n",
       "      <td>Майлина Гульнара Ивановна</td>\n",
       "      <td>6</td>\n",
       "      <td>1627-&gt;3679-&gt;3366-&gt;975-&gt;3966-&gt;4053</td>\n",
       "    </tr>\n",
       "    <tr>\n",
       "      <th>11</th>\n",
       "      <td>3366</td>\n",
       "      <td>Яцкой Роберт Ильдарович</td>\n",
       "      <td>6</td>\n",
       "      <td>3366-&gt;975-&gt;3966-&gt;4053-&gt;1627-&gt;3679</td>\n",
       "    </tr>\n",
       "    <tr>\n",
       "      <th>12</th>\n",
       "      <td>3966</td>\n",
       "      <td>Подолян Владислав Денисович</td>\n",
       "      <td>6</td>\n",
       "      <td>3966-&gt;4053-&gt;1627-&gt;3679-&gt;3366-&gt;975</td>\n",
       "    </tr>\n",
       "    <tr>\n",
       "      <th>13</th>\n",
       "      <td>4503</td>\n",
       "      <td>Рыскина Эльмира Ивановна</td>\n",
       "      <td>6</td>\n",
       "      <td>4503-&gt;1455-&gt;3279-&gt;3959-&gt;1766-&gt;1926</td>\n",
       "    </tr>\n",
       "    <tr>\n",
       "      <th>14</th>\n",
       "      <td>975</td>\n",
       "      <td>Недовесков Владимир Иванович</td>\n",
       "      <td>6</td>\n",
       "      <td>975-&gt;3966-&gt;4053-&gt;1627-&gt;3679-&gt;3366</td>\n",
       "    </tr>\n",
       "    <tr>\n",
       "      <th>15</th>\n",
       "      <td>3679</td>\n",
       "      <td>Каехтин Ильдар Эдуардович</td>\n",
       "      <td>6</td>\n",
       "      <td>3679-&gt;3366-&gt;975-&gt;3966-&gt;4053-&gt;1627</td>\n",
       "    </tr>\n",
       "    <tr>\n",
       "      <th>16</th>\n",
       "      <td>1766</td>\n",
       "      <td>Двигубская Валентина Геннадьевна</td>\n",
       "      <td>6</td>\n",
       "      <td>1766-&gt;1926-&gt;4503-&gt;1455-&gt;3279-&gt;3959</td>\n",
       "    </tr>\n",
       "    <tr>\n",
       "      <th>17</th>\n",
       "      <td>1926</td>\n",
       "      <td>Ивашев Вячеслав Игоревич</td>\n",
       "      <td>6</td>\n",
       "      <td>1926-&gt;4503-&gt;1455-&gt;3279-&gt;3959-&gt;1766</td>\n",
       "    </tr>\n",
       "    <tr>\n",
       "      <th>18</th>\n",
       "      <td>3959</td>\n",
       "      <td>Дорожкин Анатолий Егорович</td>\n",
       "      <td>6</td>\n",
       "      <td>3959-&gt;1766-&gt;1926-&gt;4503-&gt;1455-&gt;3279</td>\n",
       "    </tr>\n",
       "    <tr>\n",
       "      <th>19</th>\n",
       "      <td>2042</td>\n",
       "      <td>Нагайцева Анжелика Яновна</td>\n",
       "      <td>5</td>\n",
       "      <td>2042-&gt;3611-&gt;4727-&gt;503-&gt;1098</td>\n",
       "    </tr>\n",
       "    <tr>\n",
       "      <th>20</th>\n",
       "      <td>4727</td>\n",
       "      <td>Мараховская Дарья Романовна</td>\n",
       "      <td>5</td>\n",
       "      <td>4727-&gt;503-&gt;1098-&gt;2042-&gt;3611</td>\n",
       "    </tr>\n",
       "    <tr>\n",
       "      <th>21</th>\n",
       "      <td>1098</td>\n",
       "      <td>Шолохов Игорь Робертович</td>\n",
       "      <td>5</td>\n",
       "      <td>1098-&gt;2042-&gt;3611-&gt;4727-&gt;503</td>\n",
       "    </tr>\n",
       "    <tr>\n",
       "      <th>22</th>\n",
       "      <td>3611</td>\n",
       "      <td>Троекуров Глеб Ефимович</td>\n",
       "      <td>5</td>\n",
       "      <td>3611-&gt;4727-&gt;503-&gt;1098-&gt;2042</td>\n",
       "    </tr>\n",
       "    <tr>\n",
       "      <th>23</th>\n",
       "      <td>503</td>\n",
       "      <td>Пафомова Кира Вадимовна</td>\n",
       "      <td>5</td>\n",
       "      <td>503-&gt;1098-&gt;2042-&gt;3611-&gt;4727</td>\n",
       "    </tr>\n",
       "  </tbody>\n",
       "</table>\n",
       "</div>"
      ],
      "text/plain": [
       "     vid                               name  length  \\\n",
       "0   3710        Торгунаков Роман Кириллович       7   \n",
       "1    503            Пафомова Кира Вадимовна       7   \n",
       "2   4505  Ляуданский Валентин Владиславович       7   \n",
       "3   3611            Троекуров Глеб Ефимович       7   \n",
       "4   4727        Мараховская Дарья Романовна       7   \n",
       "5   2042          Нагайцева Анжелика Яновна       7   \n",
       "6   1098           Шолохов Игорь Робертович       7   \n",
       "7   3279      Батиевская Ангелина Романовна       6   \n",
       "8   4053        Поскребышев Яков Дмитриевич       6   \n",
       "9   1455       Даниленко Владимир Семенович       6   \n",
       "10  1627          Майлина Гульнара Ивановна       6   \n",
       "11  3366            Яцкой Роберт Ильдарович       6   \n",
       "12  3966        Подолян Владислав Денисович       6   \n",
       "13  4503           Рыскина Эльмира Ивановна       6   \n",
       "14   975       Недовесков Владимир Иванович       6   \n",
       "15  3679          Каехтин Ильдар Эдуардович       6   \n",
       "16  1766   Двигубская Валентина Геннадьевна       6   \n",
       "17  1926           Ивашев Вячеслав Игоревич       6   \n",
       "18  3959         Дорожкин Анатолий Егорович       6   \n",
       "19  2042          Нагайцева Анжелика Яновна       5   \n",
       "20  4727        Мараховская Дарья Романовна       5   \n",
       "21  1098           Шолохов Игорь Робертович       5   \n",
       "22  3611            Троекуров Глеб Ефимович       5   \n",
       "23   503            Пафомова Кира Вадимовна       5   \n",
       "\n",
       "                                      cycle  \n",
       "0   3710->1098->2042->3611->4727->503->4505  \n",
       "1   503->4505->3710->1098->2042->3611->4727  \n",
       "2   4505->3710->1098->2042->3611->4727->503  \n",
       "3   3611->4727->503->4505->3710->1098->2042  \n",
       "4   4727->503->4505->3710->1098->2042->3611  \n",
       "5   2042->3611->4727->503->4505->3710->1098  \n",
       "6   1098->2042->3611->4727->503->4505->3710  \n",
       "7        3279->3959->1766->1926->4503->1455  \n",
       "8         4053->1627->3679->3366->975->3966  \n",
       "9        1455->3279->3959->1766->1926->4503  \n",
       "10        1627->3679->3366->975->3966->4053  \n",
       "11        3366->975->3966->4053->1627->3679  \n",
       "12        3966->4053->1627->3679->3366->975  \n",
       "13       4503->1455->3279->3959->1766->1926  \n",
       "14        975->3966->4053->1627->3679->3366  \n",
       "15        3679->3366->975->3966->4053->1627  \n",
       "16       1766->1926->4503->1455->3279->3959  \n",
       "17       1926->4503->1455->3279->3959->1766  \n",
       "18       3959->1766->1926->4503->1455->3279  \n",
       "19              2042->3611->4727->503->1098  \n",
       "20              4727->503->1098->2042->3611  \n",
       "21              1098->2042->3611->4727->503  \n",
       "22              3611->4727->503->1098->2042  \n",
       "23              503->1098->2042->3611->4727  "
      ]
     },
     "execution_count": 14,
     "metadata": {},
     "output_type": "execute_result"
    }
   ],
   "source": [
    "def cycle_count(length=\"1\"):\n",
    "    \"\"\"Вершины, которые входят в цикл длины length\"\"\"\n",
    "    return f\"MATCH p = (v)-[r*{length}]->(v) RETURN id(v) AS vid, v.person.name AS name, length(p) AS length, r AS cycle ORDER BY length DESC\"\n",
    "\n",
    "def path_to_idx(path):\n",
    "    return \"->\".join([e.start_vertex_id().as_string() for e in path])\n",
    "\n",
    "cycles = q(cycle_count(\"2..\"))\n",
    "cycles['cycle'] = cycles.cycle.apply(path_to_idx)\n",
    "cycles"
   ]
  },
  {
   "cell_type": "markdown",
   "metadata": {},
   "source": [
    "В графе есть циклы: один $C_5$, два $C_6$ и один $C_7$. Все вершины цикла длины 5 принадлежат множеству вершин цикла длины 7."
   ]
  },
  {
   "cell_type": "markdown",
   "metadata": {},
   "source": [
    "## <a id='toc4_2_'></a>[Неориентированный граф](#toc0_)\n",
    "### <a id='toc4_2_1_'></a>[Степени вершин](#toc0_)\n",
    "\n",
    "Смежные вершины получаются при `length=\"1\"`, при других значениях - множества достижимости с максимальной длиной пути `length`."
   ]
  },
  {
   "cell_type": "code",
   "execution_count": 15,
   "metadata": {},
   "outputs": [
    {
     "data": {
      "text/html": [
       "<div>\n",
       "<style scoped>\n",
       "    .dataframe tbody tr th:only-of-type {\n",
       "        vertical-align: middle;\n",
       "    }\n",
       "\n",
       "    .dataframe tbody tr th {\n",
       "        vertical-align: top;\n",
       "    }\n",
       "\n",
       "    .dataframe thead th {\n",
       "        text-align: right;\n",
       "    }\n",
       "</style>\n",
       "<table border=\"1\" class=\"dataframe\">\n",
       "  <thead>\n",
       "    <tr style=\"text-align: right;\">\n",
       "      <th></th>\n",
       "      <th>vid</th>\n",
       "      <th>name</th>\n",
       "      <th>deg</th>\n",
       "    </tr>\n",
       "  </thead>\n",
       "  <tbody>\n",
       "    <tr>\n",
       "      <th>0</th>\n",
       "      <td>221</td>\n",
       "      <td>Ахромеева Алина Ивановна</td>\n",
       "      <td>50</td>\n",
       "    </tr>\n",
       "    <tr>\n",
       "      <th>1</th>\n",
       "      <td>341</td>\n",
       "      <td>Башнина Антонина Глебовна</td>\n",
       "      <td>14</td>\n",
       "    </tr>\n",
       "    <tr>\n",
       "      <th>2</th>\n",
       "      <td>873</td>\n",
       "      <td>Медведева Дарья Алексеевна</td>\n",
       "      <td>6</td>\n",
       "    </tr>\n",
       "    <tr>\n",
       "      <th>3</th>\n",
       "      <td>1794</td>\n",
       "      <td>Диомидов Игорь Ильдарович</td>\n",
       "      <td>5</td>\n",
       "    </tr>\n",
       "    <tr>\n",
       "      <th>4</th>\n",
       "      <td>661</td>\n",
       "      <td>Зимнухова Карина Даниловна</td>\n",
       "      <td>5</td>\n",
       "    </tr>\n",
       "  </tbody>\n",
       "</table>\n",
       "</div>"
      ],
      "text/plain": [
       "    vid                        name  deg\n",
       "0   221    Ахромеева Алина Ивановна   50\n",
       "1   341   Башнина Антонина Глебовна   14\n",
       "2   873  Медведева Дарья Алексеевна    6\n",
       "3  1794   Диомидов Игорь Ильдарович    5\n",
       "4   661  Зимнухова Карина Даниловна    5"
      ]
     },
     "execution_count": 15,
     "metadata": {},
     "output_type": "execute_result"
    }
   ],
   "source": [
    "def deg(vid, length=\"1\"):\n",
    "    \"\"\"Вершины, которые принадлежат пути длины length\"\"\"\n",
    "    return f\"MATCH (v1)-[e:r*{length}]-(v2) WHERE id(v1) == '{vid}' RETURN id(v2) AS vid, v2.person.name AS name;\"\n",
    "\n",
    "def deg_count(length=\"1\"):\n",
    "    \"\"\"Количество вершин, которое достижимо из данной вершины\"\"\"\n",
    "    return f\"MATCH (v1:person)-[r*{length}]-(v2:person) RETURN id(v1) as vid, v1.person.name AS name, COUNT(*) as deg ORDER BY deg DESC;\"\n",
    "\n",
    "degs = q(deg_count(\"1\"))\n",
    "degs.head()"
   ]
  },
  {
   "cell_type": "code",
   "execution_count": 16,
   "metadata": {},
   "outputs": [
    {
     "data": {
      "text/plain": [
       "27"
      ]
     },
     "execution_count": 16,
     "metadata": {},
     "output_type": "execute_result"
    }
   ],
   "source": [
    "degs[degs['deg'] > 1].shape[0]"
   ]
  },
  {
   "cell_type": "markdown",
   "metadata": {},
   "source": [
    "### <a id='toc4_2_2_'></a>[Циклы и компоненты связности](#toc0_)"
   ]
  },
  {
   "cell_type": "code",
   "execution_count": 17,
   "metadata": {},
   "outputs": [
    {
     "data": {
      "text/plain": [
       "2.357142857142857"
      ]
     },
     "execution_count": 17,
     "metadata": {},
     "output_type": "execute_result"
    }
   ],
   "source": [
    "def cycle1_count(length=\"1\"):\n",
    "    \"\"\"Вершины, которые входят в цикл длины length\"\"\"\n",
    "    return f\"MATCH p = (v)-[r*{length}]-(v) RETURN id(v) AS vid, v.person.name AS name, length(p) AS length, r AS relations ORDER BY length DESC;\"\n",
    "\n",
    "def path1_to_vid(vid, path, to_set=False):\n",
    "    \"\"\"Путь из произвольно ориентированных ребер в последовательность вершин\n",
    "    - если хотим группировать по множеству вершин цикла, то через frozenset хешируемый тип\"\"\"\n",
    "\n",
    "    result = [None] * len(path)\n",
    "    result[0], prev = vid, vid\n",
    "\n",
    "    for i in range(len(path)):\n",
    "        if prev == path[i].start_vertex_id().as_string():\n",
    "            nxt = path[i].end_vertex_id().as_string()\n",
    "        else:\n",
    "            nxt = path[i].start_vertex_id().as_string()\n",
    "        if i > 0: result[i] = prev\n",
    "        prev = nxt\n",
    "    return frozenset(result) if to_set else \"-\".join(result)\n",
    "\n",
    "\n",
    "cycles1 = q(cycle1_count(\"1..\"))\n",
    "cycles1['cycle'] = cycles1.apply(lambda x: path1_to_vid(x.vid, x.relations), axis=1)\n",
    "cycles1['nodes'] = cycles1.apply(lambda x: path1_to_vid(x.vid, x.relations, to_set=True), axis=1)\n",
    "\n",
    "\n",
    "# добавим в датафрейм степень вершины, может пригодиться\n",
    "cycle_degs = pd.merge(cycles1.vid, degs, on='vid', how=\"left\")   \n",
    "cycles1[\"deg\"] = cycle_degs[\"deg\"]\n",
    "\n",
    "cycles1[[\"vid\", \"name\", \"deg\", \"length\", \"cycle\", \"nodes\"]]\n",
    "\n",
    "cycles1['deg'].mean()"
   ]
  },
  {
   "cell_type": "markdown",
   "metadata": {},
   "source": [
    "Степени вершин, входящих в циклы, не превышают 4 и в целом большинство их них имеют степень 2, т.е. они не имеют связи с другими вершинами графа"
   ]
  },
  {
   "cell_type": "code",
   "execution_count": 18,
   "metadata": {},
   "outputs": [
    {
     "data": {
      "text/html": [
       "<div>\n",
       "<style scoped>\n",
       "    .dataframe tbody tr th:only-of-type {\n",
       "        vertical-align: middle;\n",
       "    }\n",
       "\n",
       "    .dataframe tbody tr th {\n",
       "        vertical-align: top;\n",
       "    }\n",
       "\n",
       "    .dataframe thead th {\n",
       "        text-align: right;\n",
       "    }\n",
       "</style>\n",
       "<table border=\"1\" class=\"dataframe\">\n",
       "  <thead>\n",
       "    <tr style=\"text-align: right;\">\n",
       "      <th></th>\n",
       "      <th>cycle</th>\n",
       "      <th>length</th>\n",
       "    </tr>\n",
       "    <tr>\n",
       "      <th>nodes</th>\n",
       "      <th></th>\n",
       "      <th></th>\n",
       "    </tr>\n",
       "  </thead>\n",
       "  <tbody>\n",
       "    <tr>\n",
       "      <th>(3710, 4727, 503, 1098, 2042, 3611, 4505)</th>\n",
       "      <td>3611-4727-503-4505-3710-1098-2042</td>\n",
       "      <td>7</td>\n",
       "    </tr>\n",
       "    <tr>\n",
       "      <th>(3366, 3679, 4053, 975, 1627, 3966)</th>\n",
       "      <td>3366-975-3966-4053-1627-3679</td>\n",
       "      <td>6</td>\n",
       "    </tr>\n",
       "    <tr>\n",
       "      <th>(3959, 1766, 3279, 4503, 1926, 1455)</th>\n",
       "      <td>4503-1455-3279-3959-1766-1926</td>\n",
       "      <td>6</td>\n",
       "    </tr>\n",
       "    <tr>\n",
       "      <th>(4727, 503, 2042, 1098, 3611)</th>\n",
       "      <td>3611-4727-503-1098-2042</td>\n",
       "      <td>5</td>\n",
       "    </tr>\n",
       "    <tr>\n",
       "      <th>(503, 1098, 4505, 3710)</th>\n",
       "      <td>4505-503-1098-3710</td>\n",
       "      <td>4</td>\n",
       "    </tr>\n",
       "  </tbody>\n",
       "</table>\n",
       "</div>"
      ],
      "text/plain": [
       "                                                                       cycle  \\\n",
       "nodes                                                                          \n",
       "(3710, 4727, 503, 1098, 2042, 3611, 4505)  3611-4727-503-4505-3710-1098-2042   \n",
       "(3366, 3679, 4053, 975, 1627, 3966)             3366-975-3966-4053-1627-3679   \n",
       "(3959, 1766, 3279, 4503, 1926, 1455)           4503-1455-3279-3959-1766-1926   \n",
       "(4727, 503, 2042, 1098, 3611)                        3611-4727-503-1098-2042   \n",
       "(503, 1098, 4505, 3710)                                   4505-503-1098-3710   \n",
       "\n",
       "                                           length  \n",
       "nodes                                              \n",
       "(3710, 4727, 503, 1098, 2042, 3611, 4505)       7  \n",
       "(3366, 3679, 4053, 975, 1627, 3966)             6  \n",
       "(3959, 1766, 3279, 4503, 1926, 1455)            6  \n",
       "(4727, 503, 2042, 1098, 3611)                   5  \n",
       "(503, 1098, 4505, 3710)                         4  "
      ]
     },
     "execution_count": 18,
     "metadata": {},
     "output_type": "execute_result"
    }
   ],
   "source": [
    "cycles1.groupby(by = \"nodes\").first()[[\"cycle\", \"length\"]]"
   ]
  },
  {
   "cell_type": "markdown",
   "metadata": {},
   "source": [
    "В неор.графе есть циклы длины 4, 5, 6, 7. Есть циклы нечетной длины => граф не является двудольным (нельзя разделить множество вершин графа на два подмножества, внутри которых все вершины попарно несвязаны).\n",
    "\n",
    "К циклам ор.графа, которые по множеству вершин должны входить в циклы неор.графа, добавился неор.цикл длины 4\n",
    "- это возможно только в случае, когда в ор.графе есть 2 соединенные ребром вершины не входящие в цикл длины 5, и связанные с двумя соединенными ребром вершинами цикла длины 5\n",
    "    - это вершины 3710 и 4505"
   ]
  },
  {
   "cell_type": "code",
   "execution_count": 19,
   "metadata": {},
   "outputs": [
    {
     "data": {
      "text/html": [
       "<div>\n",
       "<style scoped>\n",
       "    .dataframe tbody tr th:only-of-type {\n",
       "        vertical-align: middle;\n",
       "    }\n",
       "\n",
       "    .dataframe tbody tr th {\n",
       "        vertical-align: top;\n",
       "    }\n",
       "\n",
       "    .dataframe thead th {\n",
       "        text-align: right;\n",
       "    }\n",
       "</style>\n",
       "<table border=\"1\" class=\"dataframe\">\n",
       "  <thead>\n",
       "    <tr style=\"text-align: right;\">\n",
       "      <th></th>\n",
       "      <th>vid</th>\n",
       "      <th>cc_power</th>\n",
       "    </tr>\n",
       "  </thead>\n",
       "  <tbody>\n",
       "    <tr>\n",
       "      <th>0</th>\n",
       "      <td>7008</td>\n",
       "      <td>51</td>\n",
       "    </tr>\n",
       "    <tr>\n",
       "      <th>1</th>\n",
       "      <td>5205</td>\n",
       "      <td>51</td>\n",
       "    </tr>\n",
       "    <tr>\n",
       "      <th>2</th>\n",
       "      <td>7872</td>\n",
       "      <td>51</td>\n",
       "    </tr>\n",
       "    <tr>\n",
       "      <th>3</th>\n",
       "      <td>5151</td>\n",
       "      <td>51</td>\n",
       "    </tr>\n",
       "    <tr>\n",
       "      <th>4</th>\n",
       "      <td>7064</td>\n",
       "      <td>51</td>\n",
       "    </tr>\n",
       "    <tr>\n",
       "      <th>...</th>\n",
       "      <td>...</td>\n",
       "      <td>...</td>\n",
       "    </tr>\n",
       "    <tr>\n",
       "      <th>100</th>\n",
       "      <td>3366</td>\n",
       "      <td>6</td>\n",
       "    </tr>\n",
       "    <tr>\n",
       "      <th>101</th>\n",
       "      <td>3679</td>\n",
       "      <td>6</td>\n",
       "    </tr>\n",
       "    <tr>\n",
       "      <th>102</th>\n",
       "      <td>3966</td>\n",
       "      <td>6</td>\n",
       "    </tr>\n",
       "    <tr>\n",
       "      <th>103</th>\n",
       "      <td>4053</td>\n",
       "      <td>6</td>\n",
       "    </tr>\n",
       "    <tr>\n",
       "      <th>104</th>\n",
       "      <td>975</td>\n",
       "      <td>6</td>\n",
       "    </tr>\n",
       "  </tbody>\n",
       "</table>\n",
       "<p>105 rows × 2 columns</p>\n",
       "</div>"
      ],
      "text/plain": [
       "      vid  cc_power\n",
       "0    7008        51\n",
       "1    5205        51\n",
       "2    7872        51\n",
       "3    5151        51\n",
       "4    7064        51\n",
       "..    ...       ...\n",
       "100  3366         6\n",
       "101  3679         6\n",
       "102  3966         6\n",
       "103  4053         6\n",
       "104   975         6\n",
       "\n",
       "[105 rows x 2 columns]"
      ]
     },
     "execution_count": 19,
     "metadata": {},
     "output_type": "execute_result"
    }
   ],
   "source": [
    "def cc(vid):\n",
    "    \"\"\"Вершины, принадлежащие одной компоненте связаности с vid\"\"\"\n",
    "    return f\"MATCH p = (v)-[r*1..]-() WHERE id(v) == '{vid}' WITH v, nodes(p) AS n UNWIND n AS n1 RETURN id(v) AS vid, collect(DISTINCT n1) AS connected;\"\n",
    "\n",
    "def cс_count():\n",
    "    \"\"\"Мощности компоненты связности, которой принадлежит данная вершина\"\"\"\n",
    "    return f\"MATCH p = (v)-[r*1..]-() WITH v, nodes(p) AS n UNWIND n AS n1 RETURN DISTINCT id(v) AS vid, COUNT(DISTINCT n1) AS cc_power ORDER BY cc_power DESC;\"\n",
    "\n",
    "cc_powers = q(cс_count())\n",
    "\n",
    "cc_powers[cc_powers.cc_power > 2]"
   ]
  },
  {
   "cell_type": "code",
   "execution_count": 20,
   "metadata": {},
   "outputs": [
    {
     "data": {
      "text/plain": [
       "array([51, 15, 13,  7,  6,  2])"
      ]
     },
     "execution_count": 20,
     "metadata": {},
     "output_type": "execute_result"
    }
   ],
   "source": [
    "cc_powers.cc_power.unique()"
   ]
  },
  {
   "cell_type": "markdown",
   "metadata": {},
   "source": [
    "Кроме тривиальных компонент связности из 2 вершин граф включает к.с. из 51, 15, 13, 7,  6 вершин."
   ]
  },
  {
   "cell_type": "markdown",
   "metadata": {},
   "source": [
    "## <a id='toc4_3_'></a>[Визуализация](#toc0_)\n",
    "\n",
    "Основные варианты визуализации графовых данных:\n",
    "\n",
    "- python + graphviz\n",
    "- NebulaGraph Explorer (платная лицензия или триал)\n",
    "- сторонние инструменты визуализации Gephi и т.п.\n",
    "\n",
    "Нам больше по душе python + graphviz"
   ]
  },
  {
   "cell_type": "code",
   "execution_count": 21,
   "metadata": {},
   "outputs": [],
   "source": [
    "from graphviz import Digraph\n",
    "\n",
    "compact_nodes = {'shape':'circle', 'fixedsize':'true','fontsize':\"6\", 'width':'0.25', \n",
    "                 'height':'0.25', 'color': 'lightgreen', 'style': 'filled'}\n",
    "\n",
    "def draw(nodes, edges, red_nodes=(),\n",
    "         engine='dot', # ['circo', 'dot', 'fdp', 'neato', 'osage', 'patchwork', 'sfdp', 'twopi']\n",
    "         node_attr=compact_nodes, \n",
    "         edge_attr={'fontsize':\"10\", 'arrowsize':'0.5', 'penwidth':'0.3'},\n",
    "        ): \n",
    "    \"\"\"Рисует граф заданный nodes, edges\"\"\"\n",
    "    dot = Digraph(engine=engine, node_attr=node_attr, edge_attr=edge_attr)\n",
    "    [dot.node(node, color='red') if node in red_nodes else dot.node(node) for node in nodes]\n",
    "    [dot.edge(*edge, color='red') if edge[0] in red_nodes else dot.edge(*edge) for edge in edges]\n",
    "\n",
    "    return dot"
   ]
  },
  {
   "cell_type": "markdown",
   "metadata": {},
   "source": [
    "- ребра, соединяющие вершины, из которых хотя бы одна не является листом"
   ]
  },
  {
   "cell_type": "code",
   "execution_count": 22,
   "metadata": {},
   "outputs": [
    {
     "data": {
      "image/svg+xml": "<?xml version=\"1.0\" encoding=\"UTF-8\" standalone=\"no\"?>\n<!DOCTYPE svg PUBLIC \"-//W3C//DTD SVG 1.1//EN\"\n \"http://www.w3.org/Graphics/SVG/1.1/DTD/svg11.dtd\">\n<!-- Generated by graphviz version 3.0.0 (0)\n -->\n<!-- Pages: 1 -->\n<svg width=\"733pt\" height=\"675pt\"\n viewBox=\"0.00 0.00 733.14 675.33\" xmlns=\"http://www.w3.org/2000/svg\" xmlns:xlink=\"http://www.w3.org/1999/xlink\">\n<g id=\"graph0\" class=\"graph\" transform=\"scale(1 1) rotate(0) translate(4 671.33)\">\n<polygon fill=\"white\" stroke=\"transparent\" points=\"-4,4 -4,-671.33 729.14,-671.33 729.14,4 -4,4\"/>\n<!-- 6145 -->\n<g id=\"node1\" class=\"node\">\n<title>6145</title>\n<ellipse fill=\"lightgreen\" stroke=\"lightgreen\" cx=\"76.75\" cy=\"-463.53\" rx=\"9\" ry=\"9\"/>\n<text text-anchor=\"middle\" x=\"76.75\" y=\"-462.23\" font-family=\"Times,serif\" font-size=\"6.00\">6145</text>\n</g>\n<!-- 7469 -->\n<g id=\"node2\" class=\"node\">\n<title>7469</title>\n<ellipse fill=\"lightgreen\" stroke=\"lightgreen\" cx=\"9\" cy=\"-157.87\" rx=\"9\" ry=\"9\"/>\n<text text-anchor=\"middle\" x=\"9\" y=\"-156.57\" font-family=\"Times,serif\" font-size=\"6.00\">7469</text>\n</g>\n<!-- 3611 -->\n<g id=\"node3\" class=\"node\">\n<title>3611</title>\n<ellipse fill=\"lightgreen\" stroke=\"lightgreen\" cx=\"421\" cy=\"-601.29\" rx=\"9\" ry=\"9\"/>\n<text text-anchor=\"middle\" x=\"421\" y=\"-599.99\" font-family=\"Times,serif\" font-size=\"6.00\">3611</text>\n</g>\n<!-- 4727 -->\n<g id=\"node98\" class=\"node\">\n<title>4727</title>\n<ellipse fill=\"lightgreen\" stroke=\"lightgreen\" cx=\"360.2\" cy=\"-554.74\" rx=\"9\" ry=\"9\"/>\n<text text-anchor=\"middle\" x=\"360.2\" y=\"-553.44\" font-family=\"Times,serif\" font-size=\"6.00\">4727</text>\n</g>\n<!-- 3611&#45;&gt;4727 -->\n<g id=\"edge2\" class=\"edge\">\n<title>3611&#45;&gt;4727</title>\n<path fill=\"none\" stroke=\"black\" stroke-width=\"0.3\" d=\"M413.54,-595.58C403.15,-587.62 384.2,-573.12 371.91,-563.71\"/>\n<polygon fill=\"black\" stroke=\"black\" stroke-width=\"0.3\" points=\"372.75,-562.14 367.71,-560.49 370.62,-564.92 372.75,-562.14\"/>\n</g>\n<!-- 7993 -->\n<g id=\"node4\" class=\"node\">\n<title>7993</title>\n<ellipse fill=\"lightgreen\" stroke=\"lightgreen\" cx=\"248.92\" cy=\"-488.58\" rx=\"9\" ry=\"9\"/>\n<text text-anchor=\"middle\" x=\"248.92\" y=\"-487.28\" font-family=\"Times,serif\" font-size=\"6.00\">7993</text>\n</g>\n<!-- 6772 -->\n<g id=\"node5\" class=\"node\">\n<title>6772</title>\n<ellipse fill=\"lightgreen\" stroke=\"lightgreen\" cx=\"459\" cy=\"-96.59\" rx=\"9\" ry=\"9\"/>\n<text text-anchor=\"middle\" x=\"459\" y=\"-95.29\" font-family=\"Times,serif\" font-size=\"6.00\">6772</text>\n</g>\n<!-- 7380 -->\n<g id=\"node6\" class=\"node\">\n<title>7380</title>\n<ellipse fill=\"lightgreen\" stroke=\"lightgreen\" cx=\"634.08\" cy=\"-98.26\" rx=\"9\" ry=\"9\"/>\n<text text-anchor=\"middle\" x=\"634.08\" y=\"-96.96\" font-family=\"Times,serif\" font-size=\"6.00\">7380</text>\n</g>\n<!-- 8674 -->\n<g id=\"node7\" class=\"node\">\n<title>8674</title>\n<ellipse fill=\"lightgreen\" stroke=\"lightgreen\" cx=\"161.07\" cy=\"-399\" rx=\"9\" ry=\"9\"/>\n<text text-anchor=\"middle\" x=\"161.07\" y=\"-397.7\" font-family=\"Times,serif\" font-size=\"6.00\">8674</text>\n</g>\n<!-- 8178 -->\n<g id=\"node8\" class=\"node\">\n<title>8178</title>\n<ellipse fill=\"lightgreen\" stroke=\"lightgreen\" cx=\"132.51\" cy=\"-601.35\" rx=\"9\" ry=\"9\"/>\n<text text-anchor=\"middle\" x=\"132.51\" y=\"-600.05\" font-family=\"Times,serif\" font-size=\"6.00\">8178</text>\n</g>\n<!-- 5931 -->\n<g id=\"node9\" class=\"node\">\n<title>5931</title>\n<ellipse fill=\"lightgreen\" stroke=\"lightgreen\" cx=\"220.21\" cy=\"-478.48\" rx=\"9\" ry=\"9\"/>\n<text text-anchor=\"middle\" x=\"220.21\" y=\"-477.18\" font-family=\"Times,serif\" font-size=\"6.00\">5931</text>\n</g>\n<!-- 1627 -->\n<g id=\"node10\" class=\"node\">\n<title>1627</title>\n<ellipse fill=\"lightgreen\" stroke=\"lightgreen\" cx=\"588.86\" cy=\"-519\" rx=\"9\" ry=\"9\"/>\n<text text-anchor=\"middle\" x=\"588.86\" y=\"-517.7\" font-family=\"Times,serif\" font-size=\"6.00\">1627</text>\n</g>\n<!-- 3679 -->\n<g id=\"node46\" class=\"node\">\n<title>3679</title>\n<ellipse fill=\"lightgreen\" stroke=\"lightgreen\" cx=\"669.16\" cy=\"-519.05\" rx=\"9\" ry=\"9\"/>\n<text text-anchor=\"middle\" x=\"669.16\" y=\"-517.75\" font-family=\"Times,serif\" font-size=\"6.00\">3679</text>\n</g>\n<!-- 1627&#45;&gt;3679 -->\n<g id=\"edge19\" class=\"edge\">\n<title>1627&#45;&gt;3679</title>\n<path fill=\"none\" stroke=\"black\" stroke-width=\"0.3\" d=\"M598.08,-519.01C611.99,-519.02 638.49,-519.03 654.91,-519.05\"/>\n<polygon fill=\"black\" stroke=\"black\" stroke-width=\"0.3\" points=\"655.06,-520.8 660.06,-519.05 655.06,-517.3 655.06,-520.8\"/>\n</g>\n<!-- 7872 -->\n<g id=\"node11\" class=\"node\">\n<title>7872</title>\n<ellipse fill=\"lightgreen\" stroke=\"lightgreen\" cx=\"121.31\" cy=\"-499.6\" rx=\"9\" ry=\"9\"/>\n<text text-anchor=\"middle\" x=\"121.31\" y=\"-498.3\" font-family=\"Times,serif\" font-size=\"6.00\">7872</text>\n</g>\n<!-- 9202 -->\n<g id=\"node12\" class=\"node\">\n<title>9202</title>\n<ellipse fill=\"lightgreen\" stroke=\"lightgreen\" cx=\"99.84\" cy=\"-431.38\" rx=\"9\" ry=\"9\"/>\n<text text-anchor=\"middle\" x=\"99.84\" y=\"-430.08\" font-family=\"Times,serif\" font-size=\"6.00\">9202</text>\n</g>\n<!-- 5807 -->\n<g id=\"node13\" class=\"node\">\n<title>5807</title>\n<ellipse fill=\"lightgreen\" stroke=\"lightgreen\" cx=\"219\" cy=\"-61.61\" rx=\"9\" ry=\"9\"/>\n<text text-anchor=\"middle\" x=\"219\" y=\"-60.31\" font-family=\"Times,serif\" font-size=\"6.00\">5807</text>\n</g>\n<!-- 1766 -->\n<g id=\"node14\" class=\"node\">\n<title>1766</title>\n<ellipse fill=\"lightgreen\" stroke=\"lightgreen\" cx=\"547.47\" cy=\"-426.16\" rx=\"9\" ry=\"9\"/>\n<text text-anchor=\"middle\" x=\"547.47\" y=\"-424.86\" font-family=\"Times,serif\" font-size=\"6.00\">1766</text>\n</g>\n<!-- 1926 -->\n<g id=\"node99\" class=\"node\">\n<title>1926</title>\n<ellipse fill=\"lightgreen\" stroke=\"lightgreen\" cx=\"624.73\" cy=\"-458.19\" rx=\"9\" ry=\"9\"/>\n<text text-anchor=\"middle\" x=\"624.73\" y=\"-456.89\" font-family=\"Times,serif\" font-size=\"6.00\">1926</text>\n</g>\n<!-- 1766&#45;&gt;1926 -->\n<g id=\"edge8\" class=\"edge\">\n<title>1766&#45;&gt;1926</title>\n<path fill=\"none\" stroke=\"black\" stroke-width=\"0.3\" d=\"M556.03,-429.71C569.45,-435.27 595.51,-446.08 611.4,-452.67\"/>\n<polygon fill=\"black\" stroke=\"black\" stroke-width=\"0.3\" points=\"611.07,-454.43 616.36,-454.73 612.41,-451.19 611.07,-454.43\"/>\n</g>\n<!-- 7711 -->\n<g id=\"node15\" class=\"node\">\n<title>7711</title>\n<ellipse fill=\"lightgreen\" stroke=\"lightgreen\" cx=\"521.89\" cy=\"-9\" rx=\"9\" ry=\"9\"/>\n<text text-anchor=\"middle\" x=\"521.89\" y=\"-7.7\" font-family=\"Times,serif\" font-size=\"6.00\">7711</text>\n</g>\n<!-- 3279 -->\n<g id=\"node16\" class=\"node\">\n<title>3279</title>\n<ellipse fill=\"lightgreen\" stroke=\"lightgreen\" cx=\"643.76\" cy=\"-309\" rx=\"9\" ry=\"9\"/>\n<text text-anchor=\"middle\" x=\"643.76\" y=\"-307.7\" font-family=\"Times,serif\" font-size=\"6.00\">3279</text>\n</g>\n<!-- 3959 -->\n<g id=\"node85\" class=\"node\">\n<title>3959</title>\n<ellipse fill=\"lightgreen\" stroke=\"lightgreen\" cx=\"572.52\" cy=\"-346.31\" rx=\"9\" ry=\"9\"/>\n<text text-anchor=\"middle\" x=\"572.52\" y=\"-345.01\" font-family=\"Times,serif\" font-size=\"6.00\">3959</text>\n</g>\n<!-- 3279&#45;&gt;3959 -->\n<g id=\"edge5\" class=\"edge\">\n<title>3279&#45;&gt;3959</title>\n<path fill=\"none\" stroke=\"black\" stroke-width=\"0.3\" d=\"M635.59,-313.28C623.24,-319.74 599.73,-332.06 585.17,-339.68\"/>\n<polygon fill=\"black\" stroke=\"black\" stroke-width=\"0.3\" points=\"584.21,-338.21 580.6,-342.08 585.84,-341.31 584.21,-338.21\"/>\n</g>\n<!-- 8992 -->\n<g id=\"node17\" class=\"node\">\n<title>8992</title>\n<ellipse fill=\"lightgreen\" stroke=\"lightgreen\" cx=\"252.81\" cy=\"-435.27\" rx=\"9\" ry=\"9\"/>\n<text text-anchor=\"middle\" x=\"252.81\" y=\"-433.97\" font-family=\"Times,serif\" font-size=\"6.00\">8992</text>\n</g>\n<!-- 6670 -->\n<g id=\"node18\" class=\"node\">\n<title>6670</title>\n<ellipse fill=\"lightgreen\" stroke=\"lightgreen\" cx=\"150.84\" cy=\"-415.07\" rx=\"9\" ry=\"9\"/>\n<text text-anchor=\"middle\" x=\"150.84\" y=\"-413.77\" font-family=\"Times,serif\" font-size=\"6.00\">6670</text>\n</g>\n<!-- 5974 -->\n<g id=\"node19\" class=\"node\">\n<title>5974</title>\n<ellipse fill=\"lightgreen\" stroke=\"lightgreen\" cx=\"527.89\" cy=\"-184.82\" rx=\"9\" ry=\"9\"/>\n<text text-anchor=\"middle\" x=\"527.89\" y=\"-183.52\" font-family=\"Times,serif\" font-size=\"6.00\">5974</text>\n</g>\n<!-- 4505 -->\n<g id=\"node20\" class=\"node\">\n<title>4505</title>\n<ellipse fill=\"lightgreen\" stroke=\"lightgreen\" cx=\"339\" cy=\"-418.37\" rx=\"9\" ry=\"9\"/>\n<text text-anchor=\"middle\" x=\"339\" y=\"-417.07\" font-family=\"Times,serif\" font-size=\"6.00\">4505</text>\n</g>\n<!-- 3710 -->\n<g id=\"node70\" class=\"node\">\n<title>3710</title>\n<ellipse fill=\"lightgreen\" stroke=\"lightgreen\" cx=\"413.39\" cy=\"-394.91\" rx=\"9\" ry=\"9\"/>\n<text text-anchor=\"middle\" x=\"413.39\" y=\"-393.61\" font-family=\"Times,serif\" font-size=\"6.00\">3710</text>\n</g>\n<!-- 4505&#45;&gt;3710 -->\n<g id=\"edge6\" class=\"edge\">\n<title>4505&#45;&gt;3710</title>\n<path fill=\"none\" stroke=\"black\" stroke-width=\"0.3\" d=\"M347.83,-415.59C360.58,-411.57 384.28,-404.09 399.42,-399.32\"/>\n<polygon fill=\"black\" stroke=\"black\" stroke-width=\"0.3\" points=\"400.34,-400.87 404.58,-397.69 399.28,-397.53 400.34,-400.87\"/>\n</g>\n<!-- 7139 -->\n<g id=\"node21\" class=\"node\">\n<title>7139</title>\n<ellipse fill=\"lightgreen\" stroke=\"lightgreen\" cx=\"215.82\" cy=\"-409.81\" rx=\"9\" ry=\"9\"/>\n<text text-anchor=\"middle\" x=\"215.82\" y=\"-408.51\" font-family=\"Times,serif\" font-size=\"6.00\">7139</text>\n</g>\n<!-- 2042 -->\n<g id=\"node22\" class=\"node\">\n<title>2042</title>\n<ellipse fill=\"lightgreen\" stroke=\"lightgreen\" cx=\"476.76\" cy=\"-545.07\" rx=\"9\" ry=\"9\"/>\n<text text-anchor=\"middle\" x=\"476.76\" y=\"-543.77\" font-family=\"Times,serif\" font-size=\"6.00\">2042</text>\n</g>\n<!-- 2042&#45;&gt;3611 -->\n<g id=\"edge1\" class=\"edge\">\n<title>2042&#45;&gt;3611</title>\n<path fill=\"none\" stroke=\"black\" stroke-width=\"0.3\" d=\"M470.37,-551.52C460.8,-561.16 442.69,-579.42 431.26,-590.94\"/>\n<polygon fill=\"black\" stroke=\"black\" stroke-width=\"0.3\" points=\"429.94,-589.78 427.66,-594.56 432.43,-592.25 429.94,-589.78\"/>\n</g>\n<!-- 4503 -->\n<g id=\"node23\" class=\"node\">\n<title>4503</title>\n<ellipse fill=\"lightgreen\" stroke=\"lightgreen\" cx=\"698.73\" cy=\"-426.07\" rx=\"9\" ry=\"9\"/>\n<text text-anchor=\"middle\" x=\"698.73\" y=\"-424.77\" font-family=\"Times,serif\" font-size=\"6.00\">4503</text>\n</g>\n<!-- 1455 -->\n<g id=\"node67\" class=\"node\">\n<title>1455</title>\n<ellipse fill=\"lightgreen\" stroke=\"lightgreen\" cx=\"716.14\" cy=\"-346.4\" rx=\"9\" ry=\"9\"/>\n<text text-anchor=\"middle\" x=\"716.14\" y=\"-345.1\" font-family=\"Times,serif\" font-size=\"6.00\">1455</text>\n</g>\n<!-- 4503&#45;&gt;1455 -->\n<g id=\"edge27\" class=\"edge\">\n<title>4503&#45;&gt;1455</title>\n<path fill=\"none\" stroke=\"black\" stroke-width=\"0.3\" d=\"M700.66,-417.24C703.65,-403.56 709.43,-377.09 713.02,-360.67\"/>\n<polygon fill=\"black\" stroke=\"black\" stroke-width=\"0.3\" points=\"714.79,-360.77 714.15,-355.52 711.37,-360.03 714.79,-360.77\"/>\n</g>\n<!-- 7567 -->\n<g id=\"node24\" class=\"node\">\n<title>7567</title>\n<ellipse fill=\"lightgreen\" stroke=\"lightgreen\" cx=\"177.2\" cy=\"-420.31\" rx=\"9\" ry=\"9\"/>\n<text text-anchor=\"middle\" x=\"177.2\" y=\"-419.01\" font-family=\"Times,serif\" font-size=\"6.00\">7567</text>\n</g>\n<!-- 3366 -->\n<g id=\"node25\" class=\"node\">\n<title>3366</title>\n<ellipse fill=\"lightgreen\" stroke=\"lightgreen\" cx=\"709.17\" cy=\"-588.67\" rx=\"9\" ry=\"9\"/>\n<text text-anchor=\"middle\" x=\"709.17\" y=\"-587.37\" font-family=\"Times,serif\" font-size=\"6.00\">3366</text>\n</g>\n<!-- 975 -->\n<g id=\"node66\" class=\"node\">\n<title>975</title>\n<ellipse fill=\"lightgreen\" stroke=\"lightgreen\" cx=\"669.2\" cy=\"-658.3\" rx=\"9\" ry=\"9\"/>\n<text text-anchor=\"middle\" x=\"669.2\" y=\"-657\" font-family=\"Times,serif\" font-size=\"6.00\">975</text>\n</g>\n<!-- 3366&#45;&gt;975 -->\n<g id=\"edge28\" class=\"edge\">\n<title>3366&#45;&gt;975</title>\n<path fill=\"none\" stroke=\"black\" stroke-width=\"0.3\" d=\"M704.58,-596.66C697.65,-608.72 684.46,-631.7 676.29,-645.94\"/>\n<polygon fill=\"black\" stroke=\"black\" stroke-width=\"0.3\" points=\"674.7,-645.2 673.73,-650.4 677.73,-646.94 674.7,-645.2\"/>\n</g>\n<!-- 9017 -->\n<g id=\"node26\" class=\"node\">\n<title>9017</title>\n<ellipse fill=\"lightgreen\" stroke=\"lightgreen\" cx=\"69\" cy=\"-514.2\" rx=\"9\" ry=\"9\"/>\n<text text-anchor=\"middle\" x=\"69\" y=\"-512.9\" font-family=\"Times,serif\" font-size=\"6.00\">9017</text>\n</g>\n<!-- 9327 -->\n<g id=\"node27\" class=\"node\">\n<title>9327</title>\n<ellipse fill=\"lightgreen\" stroke=\"lightgreen\" cx=\"116.59\" cy=\"-69\" rx=\"9\" ry=\"9\"/>\n<text text-anchor=\"middle\" x=\"116.59\" y=\"-67.7\" font-family=\"Times,serif\" font-size=\"6.00\">9327</text>\n</g>\n<!-- 5616 -->\n<g id=\"node28\" class=\"node\">\n<title>5616</title>\n<ellipse fill=\"lightgreen\" stroke=\"lightgreen\" cx=\"280.07\" cy=\"-493.31\" rx=\"9\" ry=\"9\"/>\n<text text-anchor=\"middle\" x=\"280.07\" y=\"-492.01\" font-family=\"Times,serif\" font-size=\"6.00\">5616</text>\n</g>\n<!-- 980 -->\n<g id=\"node29\" class=\"node\">\n<title>980</title>\n<ellipse fill=\"lightgreen\" stroke=\"lightgreen\" cx=\"360.65\" cy=\"-38.82\" rx=\"9\" ry=\"9\"/>\n<text text-anchor=\"middle\" x=\"360.65\" y=\"-37.52\" font-family=\"Times,serif\" font-size=\"6.00\">980</text>\n</g>\n<!-- 873 -->\n<g id=\"node84\" class=\"node\">\n<title>873</title>\n<ellipse fill=\"lightgreen\" stroke=\"lightgreen\" cx=\"296.27\" cy=\"-90.46\" rx=\"9\" ry=\"9\"/>\n<text text-anchor=\"middle\" x=\"296.27\" y=\"-89.16\" font-family=\"Times,serif\" font-size=\"6.00\">873</text>\n</g>\n<!-- 980&#45;&gt;873 -->\n<g id=\"edge86\" class=\"edge\">\n<title>980&#45;&gt;873</title>\n<path fill=\"none\" stroke=\"black\" stroke-width=\"0.3\" d=\"M353.27,-44.74C342.11,-53.69 320.87,-70.74 307.7,-81.3\"/>\n<polygon fill=\"black\" stroke=\"black\" stroke-width=\"0.3\" points=\"306.38,-80.12 303.57,-84.61 308.57,-82.85 306.38,-80.12\"/>\n</g>\n<!-- 1794 -->\n<g id=\"node30\" class=\"node\">\n<title>1794</title>\n<ellipse fill=\"lightgreen\" stroke=\"lightgreen\" cx=\"89.28\" cy=\"-148.21\" rx=\"9\" ry=\"9\"/>\n<text text-anchor=\"middle\" x=\"89.28\" y=\"-146.91\" font-family=\"Times,serif\" font-size=\"6.00\">1794</text>\n</g>\n<!-- 1794&#45;&gt;7469 -->\n<g id=\"edge21\" class=\"edge\">\n<title>1794&#45;&gt;7469</title>\n<path fill=\"none\" stroke=\"black\" stroke-width=\"0.3\" d=\"M80.07,-149.32C66.16,-151 39.66,-154.18 23.25,-156.16\"/>\n<polygon fill=\"black\" stroke=\"black\" stroke-width=\"0.3\" points=\"22.86,-154.44 18.1,-156.78 23.27,-157.92 22.86,-154.44\"/>\n</g>\n<!-- 1794&#45;&gt;9327 -->\n<g id=\"edge20\" class=\"edge\">\n<title>1794&#45;&gt;9327</title>\n<path fill=\"none\" stroke=\"black\" stroke-width=\"0.3\" d=\"M92.31,-139.43C97.05,-125.68 106.26,-98.95 111.88,-82.67\"/>\n<polygon fill=\"black\" stroke=\"black\" stroke-width=\"0.3\" points=\"113.66,-82.88 113.63,-77.58 110.35,-81.73 113.66,-82.88\"/>\n</g>\n<!-- 6733 -->\n<g id=\"node41\" class=\"node\">\n<title>6733</title>\n<ellipse fill=\"lightgreen\" stroke=\"lightgreen\" cx=\"48.94\" cy=\"-221.95\" rx=\"9\" ry=\"9\"/>\n<text text-anchor=\"middle\" x=\"48.94\" y=\"-220.65\" font-family=\"Times,serif\" font-size=\"6.00\">6733</text>\n</g>\n<!-- 1794&#45;&gt;6733 -->\n<g id=\"edge22\" class=\"edge\">\n<title>1794&#45;&gt;6733</title>\n<path fill=\"none\" stroke=\"black\" stroke-width=\"0.3\" d=\"M84.81,-156.39C77.8,-169.19 64.19,-194.07 55.9,-209.23\"/>\n<polygon fill=\"black\" stroke=\"black\" stroke-width=\"0.3\" points=\"54.17,-208.74 53.3,-213.96 57.24,-210.42 54.17,-208.74\"/>\n</g>\n<!-- 9443 -->\n<g id=\"node89\" class=\"node\">\n<title>9443</title>\n<ellipse fill=\"lightgreen\" stroke=\"lightgreen\" cx=\"43.31\" cy=\"-81.21\" rx=\"9\" ry=\"9\"/>\n<text text-anchor=\"middle\" x=\"43.31\" y=\"-79.91\" font-family=\"Times,serif\" font-size=\"6.00\">9443</text>\n</g>\n<!-- 1794&#45;&gt;9443 -->\n<g id=\"edge23\" class=\"edge\">\n<title>1794&#45;&gt;9443</title>\n<path fill=\"none\" stroke=\"black\" stroke-width=\"0.3\" d=\"M84.18,-140.79C76.29,-129.28 61.02,-107.02 51.54,-93.21\"/>\n<polygon fill=\"black\" stroke=\"black\" stroke-width=\"0.3\" points=\"52.84,-92.01 48.57,-88.88 49.95,-93.99 52.84,-92.01\"/>\n</g>\n<!-- 2901 -->\n<g id=\"node90\" class=\"node\">\n<title>2901</title>\n<ellipse fill=\"lightgreen\" stroke=\"lightgreen\" cx=\"163.71\" cy=\"-181.88\" rx=\"9\" ry=\"9\"/>\n<text text-anchor=\"middle\" x=\"163.71\" y=\"-180.58\" font-family=\"Times,serif\" font-size=\"6.00\">2901</text>\n</g>\n<!-- 1794&#45;&gt;2901 -->\n<g id=\"edge24\" class=\"edge\">\n<title>1794&#45;&gt;2901</title>\n<path fill=\"none\" stroke=\"black\" stroke-width=\"0.3\" d=\"M97.53,-151.95C110.32,-157.73 135.04,-168.91 150.38,-175.85\"/>\n<polygon fill=\"black\" stroke=\"black\" stroke-width=\"0.3\" points=\"149.92,-177.57 155.2,-178.03 151.36,-174.38 149.92,-177.57\"/>\n</g>\n<!-- 6387 -->\n<g id=\"node31\" class=\"node\">\n<title>6387</title>\n<ellipse fill=\"lightgreen\" stroke=\"lightgreen\" cx=\"595.07\" cy=\"-157.82\" rx=\"9\" ry=\"9\"/>\n<text text-anchor=\"middle\" x=\"595.07\" y=\"-156.52\" font-family=\"Times,serif\" font-size=\"6.00\">6387</text>\n</g>\n<!-- 221 -->\n<g id=\"node32\" class=\"node\">\n<title>221</title>\n<ellipse fill=\"lightgreen\" stroke=\"lightgreen\" cx=\"176.34\" cy=\"-505.08\" rx=\"9\" ry=\"9\"/>\n<text text-anchor=\"middle\" x=\"176.34\" y=\"-503.78\" font-family=\"Times,serif\" font-size=\"6.00\">221</text>\n</g>\n<!-- 221&#45;&gt;6145 -->\n<g id=\"edge52\" class=\"edge\">\n<title>221&#45;&gt;6145</title>\n<path fill=\"none\" stroke=\"black\" stroke-width=\"0.3\" d=\"M167.85,-501.54C150.5,-494.3 110.89,-477.77 90.08,-469.09\"/>\n<polygon fill=\"black\" stroke=\"black\" stroke-width=\"0.3\" points=\"90.51,-467.37 85.22,-467.06 89.16,-470.6 90.51,-467.37\"/>\n</g>\n<!-- 221&#45;&gt;7993 -->\n<g id=\"edge46\" class=\"edge\">\n<title>221&#45;&gt;7993</title>\n<path fill=\"none\" stroke=\"black\" stroke-width=\"0.3\" d=\"M185.24,-503.06C197.65,-500.24 220.26,-495.09 234.94,-491.76\"/>\n<polygon fill=\"black\" stroke=\"black\" stroke-width=\"0.3\" points=\"235.46,-493.43 239.95,-490.62 234.68,-490.02 235.46,-493.43\"/>\n</g>\n<!-- 221&#45;&gt;8674 -->\n<g id=\"edge66\" class=\"edge\">\n<title>221&#45;&gt;8674</title>\n<path fill=\"none\" stroke=\"black\" stroke-width=\"0.3\" d=\"M175.04,-496.04C172.38,-477.56 166.3,-435.36 163.11,-413.2\"/>\n<polygon fill=\"black\" stroke=\"black\" stroke-width=\"0.3\" points=\"164.81,-412.72 162.37,-408.02 161.35,-413.22 164.81,-412.72\"/>\n</g>\n<!-- 221&#45;&gt;8178 -->\n<g id=\"edge45\" class=\"edge\">\n<title>221&#45;&gt;8178</title>\n<path fill=\"none\" stroke=\"black\" stroke-width=\"0.3\" d=\"M172.6,-513.29C165.01,-529.97 147.71,-567.97 138.52,-588.16\"/>\n<polygon fill=\"black\" stroke=\"black\" stroke-width=\"0.3\" points=\"136.84,-587.61 136.37,-592.89 140.03,-589.06 136.84,-587.61\"/>\n</g>\n<!-- 221&#45;&gt;5931 -->\n<g id=\"edge70\" class=\"edge\">\n<title>221&#45;&gt;5931</title>\n<path fill=\"none\" stroke=\"black\" stroke-width=\"0.3\" d=\"M184.39,-500.2C191.02,-496.18 200.54,-490.4 208.1,-485.82\"/>\n<polygon fill=\"black\" stroke=\"black\" stroke-width=\"0.3\" points=\"209.14,-487.24 212.51,-483.15 207.33,-484.24 209.14,-487.24\"/>\n</g>\n<!-- 221&#45;&gt;7872 -->\n<g id=\"edge69\" class=\"edge\">\n<title>221&#45;&gt;7872</title>\n<path fill=\"none\" stroke=\"black\" stroke-width=\"0.3\" d=\"M167.25,-504.18C158.7,-503.33 145.75,-502.04 135.78,-501.04\"/>\n<polygon fill=\"black\" stroke=\"black\" stroke-width=\"0.3\" points=\"135.74,-499.28 130.59,-500.53 135.4,-502.76 135.74,-499.28\"/>\n</g>\n<!-- 221&#45;&gt;9202 -->\n<g id=\"edge72\" class=\"edge\">\n<title>221&#45;&gt;9202</title>\n<path fill=\"none\" stroke=\"black\" stroke-width=\"0.3\" d=\"M169.82,-498.8C156.49,-485.96 126.07,-456.64 110.08,-441.24\"/>\n<polygon fill=\"black\" stroke=\"black\" stroke-width=\"0.3\" points=\"111.16,-439.86 106.35,-437.65 108.73,-442.38 111.16,-439.86\"/>\n</g>\n<!-- 221&#45;&gt;8992 -->\n<g id=\"edge44\" class=\"edge\">\n<title>221&#45;&gt;8992</title>\n<path fill=\"none\" stroke=\"black\" stroke-width=\"0.3\" d=\"M183.13,-498.89C196.47,-486.7 226.21,-459.55 242.19,-444.97\"/>\n<polygon fill=\"black\" stroke=\"black\" stroke-width=\"0.3\" points=\"243.42,-446.22 245.93,-441.55 241.06,-443.63 243.42,-446.22\"/>\n</g>\n<!-- 221&#45;&gt;6670 -->\n<g id=\"edge77\" class=\"edge\">\n<title>221&#45;&gt;6670</title>\n<path fill=\"none\" stroke=\"black\" stroke-width=\"0.3\" d=\"M173.8,-496.12C169.33,-480.35 160.04,-447.54 154.75,-428.86\"/>\n<polygon fill=\"black\" stroke=\"black\" stroke-width=\"0.3\" points=\"156.42,-428.33 153.37,-423.99 153.05,-429.28 156.42,-428.33\"/>\n</g>\n<!-- 221&#45;&gt;7139 -->\n<g id=\"edge49\" class=\"edge\">\n<title>221&#45;&gt;7139</title>\n<path fill=\"none\" stroke=\"black\" stroke-width=\"0.3\" d=\"M179.84,-496.63C186.73,-480 202.09,-442.95 210.33,-423.05\"/>\n<polygon fill=\"black\" stroke=\"black\" stroke-width=\"0.3\" points=\"211.97,-423.67 212.26,-418.38 208.73,-422.33 211.97,-423.67\"/>\n</g>\n<!-- 221&#45;&gt;7567 -->\n<g id=\"edge47\" class=\"edge\">\n<title>221&#45;&gt;7567</title>\n<path fill=\"none\" stroke=\"black\" stroke-width=\"0.3\" d=\"M176.43,-496.01C176.58,-481.22 176.88,-451.82 177.06,-434.33\"/>\n<polygon fill=\"black\" stroke=\"black\" stroke-width=\"0.3\" points=\"178.81,-434.33 177.11,-429.32 175.31,-434.3 178.81,-434.33\"/>\n</g>\n<!-- 221&#45;&gt;9017 -->\n<g id=\"edge33\" class=\"edge\">\n<title>221&#45;&gt;9017</title>\n<path fill=\"none\" stroke=\"black\" stroke-width=\"0.3\" d=\"M167.19,-505.86C148.49,-507.45 105.8,-511.08 83.37,-512.98\"/>\n<polygon fill=\"black\" stroke=\"black\" stroke-width=\"0.3\" points=\"82.96,-511.26 78.13,-513.43 83.26,-514.75 82.96,-511.26\"/>\n</g>\n<!-- 221&#45;&gt;5616 -->\n<g id=\"edge38\" class=\"edge\">\n<title>221&#45;&gt;5616</title>\n<path fill=\"none\" stroke=\"black\" stroke-width=\"0.3\" d=\"M185.55,-504.04C203.74,-501.97 244.4,-497.36 265.98,-494.91\"/>\n<polygon fill=\"black\" stroke=\"black\" stroke-width=\"0.3\" points=\"266.26,-496.64 271.03,-494.34 265.87,-493.16 266.26,-496.64\"/>\n</g>\n<!-- 6779 -->\n<g id=\"node33\" class=\"node\">\n<title>6779</title>\n<ellipse fill=\"lightgreen\" stroke=\"lightgreen\" cx=\"187.16\" cy=\"-601.58\" rx=\"9\" ry=\"9\"/>\n<text text-anchor=\"middle\" x=\"187.16\" y=\"-600.28\" font-family=\"Times,serif\" font-size=\"6.00\">6779</text>\n</g>\n<!-- 221&#45;&gt;6779 -->\n<g id=\"edge76\" class=\"edge\">\n<title>221&#45;&gt;6779</title>\n<path fill=\"none\" stroke=\"black\" stroke-width=\"0.3\" d=\"M177.38,-514.33C179.27,-531.24 183.31,-567.21 185.56,-587.28\"/>\n<polygon fill=\"black\" stroke=\"black\" stroke-width=\"0.3\" points=\"183.85,-587.72 186.14,-592.5 187.32,-587.33 183.85,-587.72\"/>\n</g>\n<!-- 9146 -->\n<g id=\"node34\" class=\"node\">\n<title>9146</title>\n<ellipse fill=\"lightgreen\" stroke=\"lightgreen\" cx=\"203.58\" cy=\"-433.18\" rx=\"9\" ry=\"9\"/>\n<text text-anchor=\"middle\" x=\"203.58\" y=\"-431.88\" font-family=\"Times,serif\" font-size=\"6.00\">9146</text>\n</g>\n<!-- 221&#45;&gt;9146 -->\n<g id=\"edge65\" class=\"edge\">\n<title>221&#45;&gt;9146</title>\n<path fill=\"none\" stroke=\"black\" stroke-width=\"0.3\" d=\"M179.57,-496.55C184.24,-484.23 192.92,-461.32 198.47,-446.68\"/>\n<polygon fill=\"black\" stroke=\"black\" stroke-width=\"0.3\" points=\"200.22,-447 200.36,-441.7 196.95,-445.76 200.22,-447\"/>\n</g>\n<!-- 7064 -->\n<g id=\"node35\" class=\"node\">\n<title>7064</title>\n<ellipse fill=\"lightgreen\" stroke=\"lightgreen\" cx=\"235.27\" cy=\"-420.14\" rx=\"9\" ry=\"9\"/>\n<text text-anchor=\"middle\" x=\"235.27\" y=\"-418.84\" font-family=\"Times,serif\" font-size=\"6.00\">7064</text>\n</g>\n<!-- 221&#45;&gt;7064 -->\n<g id=\"edge59\" class=\"edge\">\n<title>221&#45;&gt;7064</title>\n<path fill=\"none\" stroke=\"black\" stroke-width=\"0.3\" d=\"M181.57,-497.54C191.85,-482.72 214.77,-449.69 227.08,-431.95\"/>\n<polygon fill=\"black\" stroke=\"black\" stroke-width=\"0.3\" points=\"228.56,-432.89 229.97,-427.79 225.68,-430.9 228.56,-432.89\"/>\n</g>\n<!-- 5838 -->\n<g id=\"node36\" class=\"node\">\n<title>5838</title>\n<ellipse fill=\"lightgreen\" stroke=\"lightgreen\" cx=\"96.35\" cy=\"-574.18\" rx=\"9\" ry=\"9\"/>\n<text text-anchor=\"middle\" x=\"96.35\" y=\"-572.88\" font-family=\"Times,serif\" font-size=\"6.00\">5838</text>\n</g>\n<!-- 221&#45;&gt;5838 -->\n<g id=\"edge71\" class=\"edge\">\n<title>221&#45;&gt;5838</title>\n<path fill=\"none\" stroke=\"black\" stroke-width=\"0.3\" d=\"M169.52,-510.97C155.73,-522.89 124.41,-549.95 107.56,-564.5\"/>\n<polygon fill=\"black\" stroke=\"black\" stroke-width=\"0.3\" points=\"106.25,-563.32 103.61,-567.91 108.54,-565.97 106.25,-563.32\"/>\n</g>\n<!-- 9155 -->\n<g id=\"node38\" class=\"node\">\n<title>9155</title>\n<ellipse fill=\"lightgreen\" stroke=\"lightgreen\" cx=\"83.14\" cy=\"-553.59\" rx=\"9\" ry=\"9\"/>\n<text text-anchor=\"middle\" x=\"83.14\" y=\"-552.29\" font-family=\"Times,serif\" font-size=\"6.00\">9155</text>\n</g>\n<!-- 221&#45;&gt;9155 -->\n<g id=\"edge53\" class=\"edge\">\n<title>221&#45;&gt;9155</title>\n<path fill=\"none\" stroke=\"black\" stroke-width=\"0.3\" d=\"M168.07,-509.39C151.72,-517.9 115.19,-536.91 95.8,-547.01\"/>\n<polygon fill=\"black\" stroke=\"black\" stroke-width=\"0.3\" points=\"94.88,-545.51 91.26,-549.37 96.5,-548.61 94.88,-545.51\"/>\n</g>\n<!-- 8208 -->\n<g id=\"node39\" class=\"node\">\n<title>8208</title>\n<ellipse fill=\"lightgreen\" stroke=\"lightgreen\" cx=\"118.02\" cy=\"-558.71\" rx=\"9\" ry=\"9\"/>\n<text text-anchor=\"middle\" x=\"118.02\" y=\"-557.41\" font-family=\"Times,serif\" font-size=\"6.00\">8208</text>\n</g>\n<!-- 221&#45;&gt;8208 -->\n<g id=\"edge57\" class=\"edge\">\n<title>221&#45;&gt;8208</title>\n<path fill=\"none\" stroke=\"black\" stroke-width=\"0.3\" d=\"M169.65,-511.23C159.65,-520.43 140.71,-537.85 128.75,-548.84\"/>\n<polygon fill=\"black\" stroke=\"black\" stroke-width=\"0.3\" points=\"127.49,-547.62 124.99,-552.3 129.86,-550.2 127.49,-547.62\"/>\n</g>\n<!-- 7008 -->\n<g id=\"node40\" class=\"node\">\n<title>7008</title>\n<ellipse fill=\"lightgreen\" stroke=\"lightgreen\" cx=\"145.09\" cy=\"-468.22\" rx=\"9\" ry=\"9\"/>\n<text text-anchor=\"middle\" x=\"145.09\" y=\"-466.92\" font-family=\"Times,serif\" font-size=\"6.00\">7008</text>\n</g>\n<!-- 221&#45;&gt;7008 -->\n<g id=\"edge60\" class=\"edge\">\n<title>221&#45;&gt;7008</title>\n<path fill=\"none\" stroke=\"black\" stroke-width=\"0.3\" d=\"M170.31,-497.97C165.82,-492.67 159.59,-485.32 154.45,-479.26\"/>\n<polygon fill=\"black\" stroke=\"black\" stroke-width=\"0.3\" points=\"155.66,-477.98 151.09,-475.3 152.99,-480.25 155.66,-477.98\"/>\n</g>\n<!-- 7202 -->\n<g id=\"node42\" class=\"node\">\n<title>7202</title>\n<ellipse fill=\"lightgreen\" stroke=\"lightgreen\" cx=\"116.72\" cy=\"-450.04\" rx=\"9\" ry=\"9\"/>\n<text text-anchor=\"middle\" x=\"116.72\" y=\"-448.74\" font-family=\"Times,serif\" font-size=\"6.00\">7202</text>\n</g>\n<!-- 221&#45;&gt;7202 -->\n<g id=\"edge75\" class=\"edge\">\n<title>221&#45;&gt;7202</title>\n<path fill=\"none\" stroke=\"black\" stroke-width=\"0.3\" d=\"M169.5,-498.77C159.17,-489.23 139.5,-471.07 127.31,-459.81\"/>\n<polygon fill=\"black\" stroke=\"black\" stroke-width=\"0.3\" points=\"128.34,-458.39 123.48,-456.28 125.97,-460.96 128.34,-458.39\"/>\n</g>\n<!-- 8996 -->\n<g id=\"node44\" class=\"node\">\n<title>8996</title>\n<ellipse fill=\"lightgreen\" stroke=\"lightgreen\" cx=\"218.92\" cy=\"-580.02\" rx=\"9\" ry=\"9\"/>\n<text text-anchor=\"middle\" x=\"218.92\" y=\"-578.72\" font-family=\"Times,serif\" font-size=\"6.00\">8996</text>\n</g>\n<!-- 221&#45;&gt;8996 -->\n<g id=\"edge43\" class=\"edge\">\n<title>221&#45;&gt;8996</title>\n<path fill=\"none\" stroke=\"black\" stroke-width=\"0.3\" d=\"M180.9,-513.1C188.29,-526.1 202.94,-551.89 211.74,-567.38\"/>\n<polygon fill=\"black\" stroke=\"black\" stroke-width=\"0.3\" points=\"210.28,-568.35 214.27,-571.83 213.32,-566.62 210.28,-568.35\"/>\n</g>\n<!-- 5205 -->\n<g id=\"node45\" class=\"node\">\n<title>5205</title>\n<ellipse fill=\"lightgreen\" stroke=\"lightgreen\" cx=\"236.12\" cy=\"-592.67\" rx=\"9\" ry=\"9\"/>\n<text text-anchor=\"middle\" x=\"236.12\" y=\"-591.37\" font-family=\"Times,serif\" font-size=\"6.00\">5205</text>\n</g>\n<!-- 221&#45;&gt;5205 -->\n<g id=\"edge39\" class=\"edge\">\n<title>221&#45;&gt;5205</title>\n<path fill=\"none\" stroke=\"black\" stroke-width=\"0.3\" d=\"M181.44,-512.55C191.85,-527.81 215.63,-562.65 228.12,-580.95\"/>\n<polygon fill=\"black\" stroke=\"black\" stroke-width=\"0.3\" points=\"226.77,-582.08 231.04,-585.22 229.66,-580.11 226.77,-582.08\"/>\n</g>\n<!-- 9160 -->\n<g id=\"node47\" class=\"node\">\n<title>9160</title>\n<ellipse fill=\"lightgreen\" stroke=\"lightgreen\" cx=\"170.35\" cy=\"-610.8\" rx=\"9\" ry=\"9\"/>\n<text text-anchor=\"middle\" x=\"170.35\" y=\"-609.5\" font-family=\"Times,serif\" font-size=\"6.00\">9160</text>\n</g>\n<!-- 221&#45;&gt;9160 -->\n<g id=\"edge32\" class=\"edge\">\n<title>221&#45;&gt;9160</title>\n<path fill=\"none\" stroke=\"black\" stroke-width=\"0.3\" d=\"M175.83,-514.1C174.79,-532.51 172.4,-574.56 171.15,-596.65\"/>\n<polygon fill=\"black\" stroke=\"black\" stroke-width=\"0.3\" points=\"169.39,-596.72 170.86,-601.81 172.89,-596.92 169.39,-596.72\"/>\n</g>\n<!-- 8820 -->\n<g id=\"node49\" class=\"node\">\n<title>8820</title>\n<ellipse fill=\"lightgreen\" stroke=\"lightgreen\" cx=\"253.41\" cy=\"-574.47\" rx=\"9\" ry=\"9\"/>\n<text text-anchor=\"middle\" x=\"253.41\" y=\"-573.17\" font-family=\"Times,serif\" font-size=\"6.00\">8820</text>\n</g>\n<!-- 221&#45;&gt;8820 -->\n<g id=\"edge73\" class=\"edge\">\n<title>221&#45;&gt;8820</title>\n<path fill=\"none\" stroke=\"black\" stroke-width=\"0.3\" d=\"M183.18,-511.24C196.63,-523.35 226.61,-550.33 242.7,-564.83\"/>\n<polygon fill=\"black\" stroke=\"black\" stroke-width=\"0.3\" points=\"241.59,-566.18 246.48,-568.22 243.93,-563.58 241.59,-566.18\"/>\n</g>\n<!-- 8089 -->\n<g id=\"node51\" class=\"node\">\n<title>8089</title>\n<ellipse fill=\"lightgreen\" stroke=\"lightgreen\" cx=\"147.65\" cy=\"-529.39\" rx=\"9\" ry=\"9\"/>\n<text text-anchor=\"middle\" x=\"147.65\" y=\"-528.09\" font-family=\"Times,serif\" font-size=\"6.00\">8089</text>\n</g>\n<!-- 221&#45;&gt;8089 -->\n<g id=\"edge36\" class=\"edge\">\n<title>221&#45;&gt;8089</title>\n<path fill=\"none\" stroke=\"black\" stroke-width=\"0.3\" d=\"M169.4,-510.97C166.15,-513.71 162.22,-517.05 158.59,-520.12\"/>\n<polygon fill=\"black\" stroke=\"black\" stroke-width=\"0.3\" points=\"157.22,-518.99 154.53,-523.56 159.48,-521.66 157.22,-518.99\"/>\n</g>\n<!-- 9295 -->\n<g id=\"node52\" class=\"node\">\n<title>9295</title>\n<ellipse fill=\"lightgreen\" stroke=\"lightgreen\" cx=\"136.83\" cy=\"-431.42\" rx=\"9\" ry=\"9\"/>\n<text text-anchor=\"middle\" x=\"136.83\" y=\"-430.12\" font-family=\"Times,serif\" font-size=\"6.00\">9295</text>\n</g>\n<!-- 221&#45;&gt;9295 -->\n<g id=\"edge30\" class=\"edge\">\n<title>221&#45;&gt;9295</title>\n<path fill=\"none\" stroke=\"black\" stroke-width=\"0.3\" d=\"M171.96,-496.92C165.1,-484.13 151.77,-459.28 143.65,-444.13\"/>\n<polygon fill=\"black\" stroke=\"black\" stroke-width=\"0.3\" points=\"145.02,-442.98 141.11,-439.4 141.93,-444.64 145.02,-442.98\"/>\n</g>\n<!-- 8790 -->\n<g id=\"node55\" class=\"node\">\n<title>8790</title>\n<ellipse fill=\"lightgreen\" stroke=\"lightgreen\" cx=\"266.24\" cy=\"-453.41\" rx=\"9\" ry=\"9\"/>\n<text text-anchor=\"middle\" x=\"266.24\" y=\"-452.11\" font-family=\"Times,serif\" font-size=\"6.00\">8790</text>\n</g>\n<!-- 221&#45;&gt;8790 -->\n<g id=\"edge56\" class=\"edge\">\n<title>221&#45;&gt;8790</title>\n<path fill=\"none\" stroke=\"black\" stroke-width=\"0.3\" d=\"M184.32,-500.5C200.09,-491.43 235.32,-471.18 254.03,-460.43\"/>\n<polygon fill=\"black\" stroke=\"black\" stroke-width=\"0.3\" points=\"254.95,-461.92 258.41,-457.91 253.2,-458.89 254.95,-461.92\"/>\n</g>\n<!-- 8066 -->\n<g id=\"node59\" class=\"node\">\n<title>8066</title>\n<ellipse fill=\"lightgreen\" stroke=\"lightgreen\" cx=\"190.81\" cy=\"-574.05\" rx=\"9\" ry=\"9\"/>\n<text text-anchor=\"middle\" x=\"190.81\" y=\"-572.75\" font-family=\"Times,serif\" font-size=\"6.00\">8066</text>\n</g>\n<!-- 221&#45;&gt;8066 -->\n<g id=\"edge67\" class=\"edge\">\n<title>221&#45;&gt;8066</title>\n<path fill=\"none\" stroke=\"black\" stroke-width=\"0.3\" d=\"M178.23,-514.1C180.67,-525.7 184.92,-546 187.8,-559.73\"/>\n<polygon fill=\"black\" stroke=\"black\" stroke-width=\"0.3\" points=\"186.13,-560.28 188.87,-564.81 189.56,-559.56 186.13,-560.28\"/>\n</g>\n<!-- 5151 -->\n<g id=\"node60\" class=\"node\">\n<title>5151</title>\n<ellipse fill=\"lightgreen\" stroke=\"lightgreen\" cx=\"218.21\" cy=\"-515.86\" rx=\"9\" ry=\"9\"/>\n<text text-anchor=\"middle\" x=\"218.21\" y=\"-514.56\" font-family=\"Times,serif\" font-size=\"6.00\">5151</text>\n</g>\n<!-- 221&#45;&gt;5151 -->\n<g id=\"edge83\" class=\"edge\">\n<title>221&#45;&gt;5151</title>\n<path fill=\"none\" stroke=\"black\" stroke-width=\"0.3\" d=\"M185.22,-507.37C190.77,-508.8 198.04,-510.67 204.34,-512.29\"/>\n<polygon fill=\"black\" stroke=\"black\" stroke-width=\"0.3\" points=\"204.07,-514.03 209.34,-513.58 204.94,-510.64 204.07,-514.03\"/>\n</g>\n<!-- 6068 -->\n<g id=\"node61\" class=\"node\">\n<title>6068</title>\n<ellipse fill=\"lightgreen\" stroke=\"lightgreen\" cx=\"121.23\" cy=\"-414.15\" rx=\"9\" ry=\"9\"/>\n<text text-anchor=\"middle\" x=\"121.23\" y=\"-412.85\" font-family=\"Times,serif\" font-size=\"6.00\">6068</text>\n</g>\n<!-- 221&#45;&gt;6068 -->\n<g id=\"edge79\" class=\"edge\">\n<title>221&#45;&gt;6068</title>\n<path fill=\"none\" stroke=\"black\" stroke-width=\"0.3\" d=\"M171.64,-497.33C162.04,-481.49 140.12,-445.32 128.61,-426.32\"/>\n<polygon fill=\"black\" stroke=\"black\" stroke-width=\"0.3\" points=\"130.01,-425.25 125.92,-421.88 127.02,-427.06 130.01,-425.25\"/>\n</g>\n<!-- 8532 -->\n<g id=\"node62\" class=\"node\">\n<title>8532</title>\n<ellipse fill=\"lightgreen\" stroke=\"lightgreen\" cx=\"146.54\" cy=\"-571.62\" rx=\"9\" ry=\"9\"/>\n<text text-anchor=\"middle\" x=\"146.54\" y=\"-570.32\" font-family=\"Times,serif\" font-size=\"6.00\">8532</text>\n</g>\n<!-- 221&#45;&gt;8532 -->\n<g id=\"edge35\" class=\"edge\">\n<title>221&#45;&gt;8532</title>\n<path fill=\"none\" stroke=\"black\" stroke-width=\"0.3\" d=\"M172.57,-513.51C167.49,-524.85 158.4,-545.12 152.42,-558.47\"/>\n<polygon fill=\"black\" stroke=\"black\" stroke-width=\"0.3\" points=\"150.82,-557.77 150.37,-563.05 154.02,-559.2 150.82,-557.77\"/>\n</g>\n<!-- 5569 -->\n<g id=\"node64\" class=\"node\">\n<title>5569</title>\n<ellipse fill=\"lightgreen\" stroke=\"lightgreen\" cx=\"234.16\" cy=\"-553.73\" rx=\"9\" ry=\"9\"/>\n<text text-anchor=\"middle\" x=\"234.16\" y=\"-552.43\" font-family=\"Times,serif\" font-size=\"6.00\">5569</text>\n</g>\n<!-- 221&#45;&gt;5569 -->\n<g id=\"edge62\" class=\"edge\">\n<title>221&#45;&gt;5569</title>\n<path fill=\"none\" stroke=\"black\" stroke-width=\"0.3\" d=\"M183.43,-511.05C193.31,-519.36 211.33,-534.52 223.02,-544.36\"/>\n<polygon fill=\"black\" stroke=\"black\" stroke-width=\"0.3\" points=\"222.06,-545.83 227.01,-547.71 224.31,-543.16 222.06,-545.83\"/>\n</g>\n<!-- 9055 -->\n<g id=\"node68\" class=\"node\">\n<title>9055</title>\n<ellipse fill=\"lightgreen\" stroke=\"lightgreen\" cx=\"181.69\" cy=\"-456.86\" rx=\"9\" ry=\"9\"/>\n<text text-anchor=\"middle\" x=\"181.69\" y=\"-455.56\" font-family=\"Times,serif\" font-size=\"6.00\">9055</text>\n</g>\n<!-- 221&#45;&gt;9055 -->\n<g id=\"edge54\" class=\"edge\">\n<title>221&#45;&gt;9055</title>\n<path fill=\"none\" stroke=\"black\" stroke-width=\"0.3\" d=\"M177.37,-495.78C178.14,-488.85 179.21,-479.24 180.09,-471.3\"/>\n<polygon fill=\"black\" stroke=\"black\" stroke-width=\"0.3\" points=\"181.85,-471.29 180.66,-466.13 178.37,-470.9 181.85,-471.29\"/>\n</g>\n<!-- 6616 -->\n<g id=\"node71\" class=\"node\">\n<title>6616</title>\n<ellipse fill=\"lightgreen\" stroke=\"lightgreen\" cx=\"188.05\" cy=\"-548.8\" rx=\"9\" ry=\"9\"/>\n<text text-anchor=\"middle\" x=\"188.05\" y=\"-547.5\" font-family=\"Times,serif\" font-size=\"6.00\">6616</text>\n</g>\n<!-- 221&#45;&gt;6616 -->\n<g id=\"edge78\" class=\"edge\">\n<title>221&#45;&gt;6616</title>\n<path fill=\"none\" stroke=\"black\" stroke-width=\"0.3\" d=\"M178.71,-513.93C180.33,-519.97 182.51,-528.11 184.35,-535\"/>\n<polygon fill=\"black\" stroke=\"black\" stroke-width=\"0.3\" points=\"182.7,-535.59 185.68,-539.97 186.08,-534.69 182.7,-535.59\"/>\n</g>\n<!-- 5238 -->\n<g id=\"node72\" class=\"node\">\n<title>5238</title>\n<ellipse fill=\"lightgreen\" stroke=\"lightgreen\" cx=\"209.62\" cy=\"-605.78\" rx=\"9\" ry=\"9\"/>\n<text text-anchor=\"middle\" x=\"209.62\" y=\"-604.48\" font-family=\"Times,serif\" font-size=\"6.00\">5238</text>\n</g>\n<!-- 221&#45;&gt;5238 -->\n<g id=\"edge64\" class=\"edge\">\n<title>221&#45;&gt;5238</title>\n<path fill=\"none\" stroke=\"black\" stroke-width=\"0.3\" d=\"M179.18,-513.67C184.97,-531.21 198.21,-571.26 205.16,-592.3\"/>\n<polygon fill=\"black\" stroke=\"black\" stroke-width=\"0.3\" points=\"203.56,-593.02 206.79,-597.22 206.88,-591.92 203.56,-593.02\"/>\n</g>\n<!-- 7363 -->\n<g id=\"node74\" class=\"node\">\n<title>7363</title>\n<ellipse fill=\"lightgreen\" stroke=\"lightgreen\" cx=\"82.42\" cy=\"-532.1\" rx=\"9\" ry=\"9\"/>\n<text text-anchor=\"middle\" x=\"82.42\" y=\"-530.8\" font-family=\"Times,serif\" font-size=\"6.00\">7363</text>\n</g>\n<!-- 221&#45;&gt;7363 -->\n<g id=\"edge48\" class=\"edge\">\n<title>221&#45;&gt;7363</title>\n<path fill=\"none\" stroke=\"black\" stroke-width=\"0.3\" d=\"M167.67,-507.58C151.33,-512.28 115.85,-522.48 96.21,-528.14\"/>\n<polygon fill=\"black\" stroke=\"black\" stroke-width=\"0.3\" points=\"95.67,-526.47 91.34,-529.54 96.63,-529.84 95.67,-526.47\"/>\n</g>\n<!-- 5400 -->\n<g id=\"node75\" class=\"node\">\n<title>5400</title>\n<ellipse fill=\"lightgreen\" stroke=\"lightgreen\" cx=\"78.8\" cy=\"-500.12\" rx=\"9\" ry=\"9\"/>\n<text text-anchor=\"middle\" x=\"78.8\" y=\"-498.82\" font-family=\"Times,serif\" font-size=\"6.00\">5400</text>\n</g>\n<!-- 221&#45;&gt;5400 -->\n<g id=\"edge82\" class=\"edge\">\n<title>221&#45;&gt;5400</title>\n<path fill=\"none\" stroke=\"black\" stroke-width=\"0.3\" d=\"M167.34,-504.62C150.37,-503.76 113.52,-501.89 93.12,-500.85\"/>\n<polygon fill=\"black\" stroke=\"black\" stroke-width=\"0.3\" points=\"93.15,-499.1 88.07,-500.59 92.97,-502.59 93.15,-499.1\"/>\n</g>\n<!-- 6533 -->\n<g id=\"node76\" class=\"node\">\n<title>6533</title>\n<ellipse fill=\"lightgreen\" stroke=\"lightgreen\" cx=\"153.68\" cy=\"-599.65\" rx=\"9\" ry=\"9\"/>\n<text text-anchor=\"middle\" x=\"153.68\" y=\"-598.35\" font-family=\"Times,serif\" font-size=\"6.00\">6533</text>\n</g>\n<!-- 221&#45;&gt;6533 -->\n<g id=\"edge51\" class=\"edge\">\n<title>221&#45;&gt;6533</title>\n<path fill=\"none\" stroke=\"black\" stroke-width=\"0.3\" d=\"M174.17,-514.15C170.2,-530.71 161.75,-565.97 157.03,-585.64\"/>\n<polygon fill=\"black\" stroke=\"black\" stroke-width=\"0.3\" points=\"155.27,-585.47 155.81,-590.74 158.68,-586.29 155.27,-585.47\"/>\n</g>\n<!-- 5250 -->\n<g id=\"node78\" class=\"node\">\n<title>5250</title>\n<ellipse fill=\"lightgreen\" stroke=\"lightgreen\" cx=\"116.03\" cy=\"-587.27\" rx=\"9\" ry=\"9\"/>\n<text text-anchor=\"middle\" x=\"116.03\" y=\"-585.97\" font-family=\"Times,serif\" font-size=\"6.00\">5250</text>\n</g>\n<!-- 221&#45;&gt;5250 -->\n<g id=\"edge63\" class=\"edge\">\n<title>221&#45;&gt;5250</title>\n<path fill=\"none\" stroke=\"black\" stroke-width=\"0.3\" d=\"M170.99,-512.38C160.55,-526.6 137.4,-558.15 124.73,-575.41\"/>\n<polygon fill=\"black\" stroke=\"black\" stroke-width=\"0.3\" points=\"123,-574.81 121.46,-579.88 125.82,-576.88 123,-574.81\"/>\n</g>\n<!-- 9105 -->\n<g id=\"node81\" class=\"node\">\n<title>9105</title>\n<ellipse fill=\"lightgreen\" stroke=\"lightgreen\" cx=\"111.99\" cy=\"-531.8\" rx=\"9\" ry=\"9\"/>\n<text text-anchor=\"middle\" x=\"111.99\" y=\"-530.5\" font-family=\"Times,serif\" font-size=\"6.00\">9105</text>\n</g>\n<!-- 221&#45;&gt;9105 -->\n<g id=\"edge41\" class=\"edge\">\n<title>221&#45;&gt;9105</title>\n<path fill=\"none\" stroke=\"black\" stroke-width=\"0.3\" d=\"M167.93,-508.57C157.1,-513.07 138.16,-520.93 125.35,-526.25\"/>\n<polygon fill=\"black\" stroke=\"black\" stroke-width=\"0.3\" points=\"124.55,-524.69 120.61,-528.22 125.9,-527.92 124.55,-524.69\"/>\n</g>\n<!-- 6855 -->\n<g id=\"node83\" class=\"node\">\n<title>6855</title>\n<ellipse fill=\"lightgreen\" stroke=\"lightgreen\" cx=\"266.1\" cy=\"-556.9\" rx=\"9\" ry=\"9\"/>\n<text text-anchor=\"middle\" x=\"266.1\" y=\"-555.6\" font-family=\"Times,serif\" font-size=\"6.00\">6855</text>\n</g>\n<!-- 221&#45;&gt;6855 -->\n<g id=\"edge50\" class=\"edge\">\n<title>221&#45;&gt;6855</title>\n<path fill=\"none\" stroke=\"black\" stroke-width=\"0.3\" d=\"M184.31,-509.68C200.05,-518.77 235.23,-539.08 253.91,-549.86\"/>\n<polygon fill=\"black\" stroke=\"black\" stroke-width=\"0.3\" points=\"253.08,-551.4 258.28,-552.38 254.83,-548.37 253.08,-551.4\"/>\n</g>\n<!-- 7761 -->\n<g id=\"node88\" class=\"node\">\n<title>7761</title>\n<ellipse fill=\"lightgreen\" stroke=\"lightgreen\" cx=\"254.59\" cy=\"-518.85\" rx=\"9\" ry=\"9\"/>\n<text text-anchor=\"middle\" x=\"254.59\" y=\"-517.55\" font-family=\"Times,serif\" font-size=\"6.00\">7761</text>\n</g>\n<!-- 221&#45;&gt;7761 -->\n<g id=\"edge58\" class=\"edge\">\n<title>221&#45;&gt;7761</title>\n<path fill=\"none\" stroke=\"black\" stroke-width=\"0.3\" d=\"M185.32,-506.66C198.88,-509.05 224.7,-513.59 240.7,-516.41\"/>\n<polygon fill=\"black\" stroke=\"black\" stroke-width=\"0.3\" points=\"240.49,-518.15 245.72,-517.29 241.1,-514.7 240.49,-518.15\"/>\n</g>\n<!-- 5405 -->\n<g id=\"node92\" class=\"node\">\n<title>5405</title>\n<ellipse fill=\"lightgreen\" stroke=\"lightgreen\" cx=\"95.77\" cy=\"-459.41\" rx=\"9\" ry=\"9\"/>\n<text text-anchor=\"middle\" x=\"95.77\" y=\"-458.11\" font-family=\"Times,serif\" font-size=\"6.00\">5405</text>\n</g>\n<!-- 221&#45;&gt;5405 -->\n<g id=\"edge80\" class=\"edge\">\n<title>221&#45;&gt;5405</title>\n<path fill=\"none\" stroke=\"black\" stroke-width=\"0.3\" d=\"M168.32,-500.54C154.2,-492.53 124.83,-475.88 108.11,-466.4\"/>\n<polygon fill=\"black\" stroke=\"black\" stroke-width=\"0.3\" points=\"108.97,-464.88 103.76,-463.93 107.24,-467.92 108.97,-464.88\"/>\n</g>\n<!-- 8561 -->\n<g id=\"node94\" class=\"node\">\n<title>8561</title>\n<ellipse fill=\"lightgreen\" stroke=\"lightgreen\" cx=\"271.64\" cy=\"-473.19\" rx=\"9\" ry=\"9\"/>\n<text text-anchor=\"middle\" x=\"271.64\" y=\"-471.89\" font-family=\"Times,serif\" font-size=\"6.00\">8561</text>\n</g>\n<!-- 221&#45;&gt;8561 -->\n<g id=\"edge34\" class=\"edge\">\n<title>221&#45;&gt;8561</title>\n<path fill=\"none\" stroke=\"black\" stroke-width=\"0.3\" d=\"M185.14,-502.14C201.8,-496.56 238.09,-484.42 257.96,-477.77\"/>\n<polygon fill=\"black\" stroke=\"black\" stroke-width=\"0.3\" points=\"258.68,-479.37 262.87,-476.13 257.57,-476.05 258.68,-479.37\"/>\n</g>\n<!-- 9178 -->\n<g id=\"node96\" class=\"node\">\n<title>9178</title>\n<ellipse fill=\"lightgreen\" stroke=\"lightgreen\" cx=\"232.32\" cy=\"-450.33\" rx=\"9\" ry=\"9\"/>\n<text text-anchor=\"middle\" x=\"232.32\" y=\"-449.03\" font-family=\"Times,serif\" font-size=\"6.00\">9178</text>\n</g>\n<!-- 221&#45;&gt;9178 -->\n<g id=\"edge31\" class=\"edge\">\n<title>221&#45;&gt;9178</title>\n<path fill=\"none\" stroke=\"black\" stroke-width=\"0.3\" d=\"M183.2,-498.37C192.88,-488.91 210.6,-471.58 221.9,-460.52\"/>\n<polygon fill=\"black\" stroke=\"black\" stroke-width=\"0.3\" points=\"223.4,-461.51 225.75,-456.76 220.95,-459.01 223.4,-461.51\"/>\n</g>\n<!-- 7755 -->\n<g id=\"node102\" class=\"node\">\n<title>7755</title>\n<ellipse fill=\"lightgreen\" stroke=\"lightgreen\" cx=\"269.6\" cy=\"-538.4\" rx=\"9\" ry=\"9\"/>\n<text text-anchor=\"middle\" x=\"269.6\" y=\"-537.1\" font-family=\"Times,serif\" font-size=\"6.00\">7755</text>\n</g>\n<!-- 221&#45;&gt;7755 -->\n<g id=\"edge74\" class=\"edge\">\n<title>221&#45;&gt;7755</title>\n<path fill=\"none\" stroke=\"black\" stroke-width=\"0.3\" d=\"M184.95,-508.16C201.19,-513.96 236.47,-526.56 255.97,-533.52\"/>\n<polygon fill=\"black\" stroke=\"black\" stroke-width=\"0.3\" points=\"255.72,-535.29 261.02,-535.33 256.9,-532 255.72,-535.29\"/>\n</g>\n<!-- 5811 -->\n<g id=\"node103\" class=\"node\">\n<title>5811</title>\n<ellipse fill=\"lightgreen\" stroke=\"lightgreen\" cx=\"280.94\" cy=\"-517.42\" rx=\"9\" ry=\"9\"/>\n<text text-anchor=\"middle\" x=\"280.94\" y=\"-516.12\" font-family=\"Times,serif\" font-size=\"6.00\">5811</text>\n</g>\n<!-- 221&#45;&gt;5811 -->\n<g id=\"edge61\" class=\"edge\">\n<title>221&#45;&gt;5811</title>\n<path fill=\"none\" stroke=\"black\" stroke-width=\"0.3\" d=\"M185.62,-506.18C203.97,-508.34 244.97,-513.17 266.74,-515.74\"/>\n<polygon fill=\"black\" stroke=\"black\" stroke-width=\"0.3\" points=\"266.66,-517.49 271.83,-516.34 267.07,-514.02 266.66,-517.49\"/>\n</g>\n<!-- 8084 -->\n<g id=\"node104\" class=\"node\">\n<title>8084</title>\n<ellipse fill=\"lightgreen\" stroke=\"lightgreen\" cx=\"89.78\" cy=\"-484.5\" rx=\"9\" ry=\"9\"/>\n<text text-anchor=\"middle\" x=\"89.78\" y=\"-483.2\" font-family=\"Times,serif\" font-size=\"6.00\">8084</text>\n</g>\n<!-- 221&#45;&gt;8084 -->\n<g id=\"edge37\" class=\"edge\">\n<title>221&#45;&gt;8084</title>\n<path fill=\"none\" stroke=\"black\" stroke-width=\"0.3\" d=\"M167.4,-502.96C152.29,-499.36 121.59,-492.06 103.66,-487.8\"/>\n<polygon fill=\"black\" stroke=\"black\" stroke-width=\"0.3\" points=\"103.81,-486.03 98.54,-486.58 103,-489.44 103.81,-486.03\"/>\n</g>\n<!-- 8218 -->\n<g id=\"node37\" class=\"node\">\n<title>8218</title>\n<ellipse fill=\"lightgreen\" stroke=\"lightgreen\" cx=\"493.9\" cy=\"-165.44\" rx=\"9\" ry=\"9\"/>\n<text text-anchor=\"middle\" x=\"493.9\" y=\"-164.14\" font-family=\"Times,serif\" font-size=\"6.00\">8218</text>\n</g>\n<!-- 6821 -->\n<g id=\"node43\" class=\"node\">\n<title>6821</title>\n<ellipse fill=\"lightgreen\" stroke=\"lightgreen\" cx=\"467.02\" cy=\"-46.57\" rx=\"9\" ry=\"9\"/>\n<text text-anchor=\"middle\" x=\"467.02\" y=\"-45.27\" font-family=\"Times,serif\" font-size=\"6.00\">6821</text>\n</g>\n<!-- 3679&#45;&gt;3366 -->\n<g id=\"edge18\" class=\"edge\">\n<title>3679&#45;&gt;3366</title>\n<path fill=\"none\" stroke=\"black\" stroke-width=\"0.3\" d=\"M673.75,-527.04C680.68,-539.1 693.89,-562.08 702.07,-576.31\"/>\n<polygon fill=\"black\" stroke=\"black\" stroke-width=\"0.3\" points=\"700.62,-577.31 704.63,-580.78 703.66,-575.57 700.62,-577.31\"/>\n</g>\n<!-- 3968 -->\n<g id=\"node48\" class=\"node\">\n<title>3968</title>\n<ellipse fill=\"red\" stroke=\"red\" cx=\"192.52\" cy=\"-401.31\" rx=\"9\" ry=\"9\"/>\n<text text-anchor=\"middle\" x=\"192.52\" y=\"-400.01\" font-family=\"Times,serif\" font-size=\"6.00\">3968</text>\n</g>\n<!-- 3968&#45;&gt;221 -->\n<g id=\"edge40\" class=\"edge\">\n<title>3968&#45;&gt;221</title>\n<path fill=\"none\" stroke=\"red\" stroke-width=\"0.3\" d=\"M191.08,-410.52C188.24,-428.72 181.9,-469.4 178.54,-490.99\"/>\n<polygon fill=\"red\" stroke=\"red\" stroke-width=\"0.3\" points=\"176.79,-490.83 177.75,-496.04 180.25,-491.37 176.79,-490.83\"/>\n</g>\n<!-- 7321 -->\n<g id=\"node50\" class=\"node\">\n<title>7321</title>\n<ellipse fill=\"lightgreen\" stroke=\"lightgreen\" cx=\"625.25\" cy=\"-60.1\" rx=\"9\" ry=\"9\"/>\n<text text-anchor=\"middle\" x=\"625.25\" y=\"-58.8\" font-family=\"Times,serif\" font-size=\"6.00\">7321</text>\n</g>\n<!-- 2843 -->\n<g id=\"node53\" class=\"node\">\n<title>2843</title>\n<ellipse fill=\"lightgreen\" stroke=\"lightgreen\" cx=\"283.36\" cy=\"-9\" rx=\"9\" ry=\"9\"/>\n<text text-anchor=\"middle\" x=\"283.36\" y=\"-7.7\" font-family=\"Times,serif\" font-size=\"6.00\">2843</text>\n</g>\n<!-- 2843&#45;&gt;873 -->\n<g id=\"edge85\" class=\"edge\">\n<title>2843&#45;&gt;873</title>\n<path fill=\"none\" stroke=\"black\" stroke-width=\"0.3\" d=\"M284.79,-18.03C287.01,-32.02 291.3,-59.08 293.96,-75.88\"/>\n<polygon fill=\"black\" stroke=\"black\" stroke-width=\"0.3\" points=\"292.29,-76.48 294.8,-81.14 295.74,-75.93 292.29,-76.48\"/>\n</g>\n<!-- 1614 -->\n<g id=\"node54\" class=\"node\">\n<title>1614</title>\n<ellipse fill=\"lightgreen\" stroke=\"lightgreen\" cx=\"232.8\" cy=\"-143.23\" rx=\"9\" ry=\"9\"/>\n<text text-anchor=\"middle\" x=\"232.8\" y=\"-141.93\" font-family=\"Times,serif\" font-size=\"6.00\">1614</text>\n</g>\n<!-- 1614&#45;&gt;873 -->\n<g id=\"edge84\" class=\"edge\">\n<title>1614&#45;&gt;873</title>\n<path fill=\"none\" stroke=\"black\" stroke-width=\"0.3\" d=\"M240.08,-137.18C251.08,-128.03 272.03,-110.62 285.01,-99.83\"/>\n<polygon fill=\"black\" stroke=\"black\" stroke-width=\"0.3\" points=\"286.35,-100.99 289.08,-96.45 284.11,-98.3 286.35,-100.99\"/>\n</g>\n<!-- 6142 -->\n<g id=\"node56\" class=\"node\">\n<title>6142</title>\n<ellipse fill=\"lightgreen\" stroke=\"lightgreen\" cx=\"435.22\" cy=\"-327.3\" rx=\"9\" ry=\"9\"/>\n<text text-anchor=\"middle\" x=\"435.22\" y=\"-326\" font-family=\"Times,serif\" font-size=\"6.00\">6142</text>\n</g>\n<!-- 6847 -->\n<g id=\"node57\" class=\"node\">\n<title>6847</title>\n<ellipse fill=\"lightgreen\" stroke=\"lightgreen\" cx=\"503.54\" cy=\"-52.58\" rx=\"9\" ry=\"9\"/>\n<text text-anchor=\"middle\" x=\"503.54\" y=\"-51.28\" font-family=\"Times,serif\" font-size=\"6.00\">6847</text>\n</g>\n<!-- 9198 -->\n<g id=\"node58\" class=\"node\">\n<title>9198</title>\n<ellipse fill=\"lightgreen\" stroke=\"lightgreen\" cx=\"602.03\" cy=\"-26.99\" rx=\"9\" ry=\"9\"/>\n<text text-anchor=\"middle\" x=\"602.03\" y=\"-25.69\" font-family=\"Times,serif\" font-size=\"6.00\">9198</text>\n</g>\n<!-- 6066 -->\n<g id=\"node63\" class=\"node\">\n<title>6066</title>\n<ellipse fill=\"lightgreen\" stroke=\"lightgreen\" cx=\"564.02\" cy=\"-15.99\" rx=\"9\" ry=\"9\"/>\n<text text-anchor=\"middle\" x=\"564.02\" y=\"-14.69\" font-family=\"Times,serif\" font-size=\"6.00\">6066</text>\n</g>\n<!-- 503 -->\n<g id=\"node65\" class=\"node\">\n<title>503</title>\n<ellipse fill=\"lightgreen\" stroke=\"lightgreen\" cx=\"390.39\" cy=\"-479.63\" rx=\"9\" ry=\"9\"/>\n<text text-anchor=\"middle\" x=\"390.39\" y=\"-478.33\" font-family=\"Times,serif\" font-size=\"6.00\">503</text>\n</g>\n<!-- 503&#45;&gt;4505 -->\n<g id=\"edge90\" class=\"edge\">\n<title>503&#45;&gt;4505</title>\n<path fill=\"none\" stroke=\"black\" stroke-width=\"0.3\" d=\"M384.49,-472.6C375.59,-461.98 358.63,-441.77 348.12,-429.24\"/>\n<polygon fill=\"black\" stroke=\"black\" stroke-width=\"0.3\" points=\"349.38,-428.02 344.83,-425.31 346.7,-430.27 349.38,-428.02\"/>\n</g>\n<!-- 1098 -->\n<g id=\"node93\" class=\"node\">\n<title>1098</title>\n<ellipse fill=\"lightgreen\" stroke=\"lightgreen\" cx=\"470.17\" cy=\"-459.86\" rx=\"9\" ry=\"9\"/>\n<text text-anchor=\"middle\" x=\"470.17\" y=\"-458.56\" font-family=\"Times,serif\" font-size=\"6.00\">1098</text>\n</g>\n<!-- 503&#45;&gt;1098 -->\n<g id=\"edge91\" class=\"edge\">\n<title>503&#45;&gt;1098</title>\n<path fill=\"none\" stroke=\"black\" stroke-width=\"0.3\" d=\"M399.23,-477.44C412.94,-474.04 439.44,-467.48 455.89,-463.4\"/>\n<polygon fill=\"black\" stroke=\"black\" stroke-width=\"0.3\" points=\"456.61,-465.02 461.04,-462.12 455.77,-461.63 456.61,-465.02\"/>\n</g>\n<!-- 3966 -->\n<g id=\"node105\" class=\"node\">\n<title>3966</title>\n<ellipse fill=\"lightgreen\" stroke=\"lightgreen\" cx=\"588.9\" cy=\"-658.33\" rx=\"9\" ry=\"9\"/>\n<text text-anchor=\"middle\" x=\"588.9\" y=\"-657.03\" font-family=\"Times,serif\" font-size=\"6.00\">3966</text>\n</g>\n<!-- 975&#45;&gt;3966 -->\n<g id=\"edge25\" class=\"edge\">\n<title>975&#45;&gt;3966</title>\n<path fill=\"none\" stroke=\"black\" stroke-width=\"0.3\" d=\"M659.98,-658.3C646.07,-658.31 619.57,-658.32 603.15,-658.32\"/>\n<polygon fill=\"black\" stroke=\"black\" stroke-width=\"0.3\" points=\"603,-656.57 598,-658.33 603,-660.07 603,-656.57\"/>\n</g>\n<!-- 1455&#45;&gt;3279 -->\n<g id=\"edge26\" class=\"edge\">\n<title>1455&#45;&gt;3279</title>\n<path fill=\"none\" stroke=\"black\" stroke-width=\"0.3\" d=\"M708.11,-342.26C695.68,-335.83 671.64,-323.41 656.72,-315.7\"/>\n<polygon fill=\"black\" stroke=\"black\" stroke-width=\"0.3\" points=\"657.29,-314.02 652.04,-313.28 655.68,-317.13 657.29,-314.02\"/>\n</g>\n<!-- 7420 -->\n<g id=\"node69\" class=\"node\">\n<title>7420</title>\n<ellipse fill=\"lightgreen\" stroke=\"lightgreen\" cx=\"362.19\" cy=\"-346.44\" rx=\"9\" ry=\"9\"/>\n<text text-anchor=\"middle\" x=\"362.19\" y=\"-345.14\" font-family=\"Times,serif\" font-size=\"6.00\">7420</text>\n</g>\n<!-- 3710&#45;&gt;1098 -->\n<g id=\"edge7\" class=\"edge\">\n<title>3710&#45;&gt;1098</title>\n<path fill=\"none\" stroke=\"black\" stroke-width=\"0.3\" d=\"M419.47,-401.86C429.32,-413.13 448.86,-435.48 460.6,-448.91\"/>\n<polygon fill=\"black\" stroke=\"black\" stroke-width=\"0.3\" points=\"459.36,-450.15 463.97,-452.77 461.99,-447.85 459.36,-450.15\"/>\n</g>\n<!-- 450 -->\n<g id=\"node73\" class=\"node\">\n<title>450</title>\n<ellipse fill=\"lightgreen\" stroke=\"lightgreen\" cx=\"373.37\" cy=\"-120.11\" rx=\"9\" ry=\"9\"/>\n<text text-anchor=\"middle\" x=\"373.37\" y=\"-118.81\" font-family=\"Times,serif\" font-size=\"6.00\">450</text>\n</g>\n<!-- 450&#45;&gt;873 -->\n<g id=\"edge89\" class=\"edge\">\n<title>450&#45;&gt;873</title>\n<path fill=\"none\" stroke=\"black\" stroke-width=\"0.3\" d=\"M364.83,-116.82C351.58,-111.73 325.97,-101.88 310.08,-95.77\"/>\n<polygon fill=\"black\" stroke=\"black\" stroke-width=\"0.3\" points=\"310.39,-94.02 305.1,-93.86 309.13,-97.28 310.39,-94.02\"/>\n</g>\n<!-- 547 -->\n<g id=\"node77\" class=\"node\">\n<title>547</title>\n<ellipse fill=\"lightgreen\" stroke=\"lightgreen\" cx=\"309.83\" cy=\"-171.95\" rx=\"9\" ry=\"9\"/>\n<text text-anchor=\"middle\" x=\"309.83\" y=\"-170.65\" font-family=\"Times,serif\" font-size=\"6.00\">547</text>\n</g>\n<!-- 547&#45;&gt;873 -->\n<g id=\"edge87\" class=\"edge\">\n<title>547&#45;&gt;873</title>\n<path fill=\"none\" stroke=\"black\" stroke-width=\"0.3\" d=\"M308.33,-162.92C306,-148.92 301.5,-121.85 298.7,-105.06\"/>\n<polygon fill=\"black\" stroke=\"black\" stroke-width=\"0.3\" points=\"300.37,-104.43 297.83,-99.79 296.92,-105.01 300.37,-104.43\"/>\n</g>\n<!-- 9493 -->\n<g id=\"node79\" class=\"node\">\n<title>9493</title>\n<ellipse fill=\"lightgreen\" stroke=\"lightgreen\" cx=\"466.88\" cy=\"-136.86\" rx=\"9\" ry=\"9\"/>\n<text text-anchor=\"middle\" x=\"466.88\" y=\"-135.56\" font-family=\"Times,serif\" font-size=\"6.00\">9493</text>\n</g>\n<!-- 6658 -->\n<g id=\"node80\" class=\"node\">\n<title>6658</title>\n<ellipse fill=\"lightgreen\" stroke=\"lightgreen\" cx=\"418.04\" cy=\"-188.8\" rx=\"9\" ry=\"9\"/>\n<text text-anchor=\"middle\" x=\"418.04\" y=\"-187.5\" font-family=\"Times,serif\" font-size=\"6.00\">6658</text>\n</g>\n<!-- 661 -->\n<g id=\"node82\" class=\"node\">\n<title>661</title>\n<ellipse fill=\"lightgreen\" stroke=\"lightgreen\" cx=\"383.51\" cy=\"-265.15\" rx=\"9\" ry=\"9\"/>\n<text text-anchor=\"middle\" x=\"383.51\" y=\"-263.85\" font-family=\"Times,serif\" font-size=\"6.00\">661</text>\n</g>\n<!-- 661&#45;&gt;6142 -->\n<g id=\"edge93\" class=\"edge\">\n<title>661&#45;&gt;6142</title>\n<path fill=\"none\" stroke=\"black\" stroke-width=\"0.3\" d=\"M389.44,-272.28C398.4,-283.05 415.47,-303.56 426.04,-316.27\"/>\n<polygon fill=\"black\" stroke=\"black\" stroke-width=\"0.3\" points=\"424.81,-317.53 429.35,-320.26 427.5,-315.29 424.81,-317.53\"/>\n</g>\n<!-- 661&#45;&gt;7420 -->\n<g id=\"edge97\" class=\"edge\">\n<title>661&#45;&gt;7420</title>\n<path fill=\"none\" stroke=\"black\" stroke-width=\"0.3\" d=\"M381.15,-274.16C377.44,-288.27 370.25,-315.7 365.87,-332.42\"/>\n<polygon fill=\"black\" stroke=\"black\" stroke-width=\"0.3\" points=\"364.07,-332.36 364.5,-337.64 367.46,-333.25 364.07,-332.36\"/>\n</g>\n<!-- 661&#45;&gt;6658 -->\n<g id=\"edge95\" class=\"edge\">\n<title>661&#45;&gt;6658</title>\n<path fill=\"none\" stroke=\"black\" stroke-width=\"0.3\" d=\"M387.34,-256.69C393.33,-243.43 404.98,-217.67 412.08,-201.98\"/>\n<polygon fill=\"black\" stroke=\"black\" stroke-width=\"0.3\" points=\"413.83,-202.35 414.3,-197.07 410.64,-200.91 413.83,-202.35\"/>\n</g>\n<!-- 5594 -->\n<g id=\"node86\" class=\"node\">\n<title>5594</title>\n<ellipse fill=\"lightgreen\" stroke=\"lightgreen\" cx=\"462.92\" cy=\"-248.02\" rx=\"9\" ry=\"9\"/>\n<text text-anchor=\"middle\" x=\"462.92\" y=\"-246.72\" font-family=\"Times,serif\" font-size=\"6.00\">5594</text>\n</g>\n<!-- 661&#45;&gt;5594 -->\n<g id=\"edge96\" class=\"edge\">\n<title>661&#45;&gt;5594</title>\n<path fill=\"none\" stroke=\"black\" stroke-width=\"0.3\" d=\"M392.31,-263.25C405.95,-260.31 432.33,-254.62 448.7,-251.09\"/>\n<polygon fill=\"black\" stroke=\"black\" stroke-width=\"0.3\" points=\"449.32,-252.75 453.84,-249.98 448.58,-249.33 449.32,-252.75\"/>\n</g>\n<!-- 873&#45;&gt;5807 -->\n<g id=\"edge88\" class=\"edge\">\n<title>873&#45;&gt;5807</title>\n<path fill=\"none\" stroke=\"black\" stroke-width=\"0.3\" d=\"M287.71,-87.27C274.44,-82.31 248.77,-72.72 232.84,-66.77\"/>\n<polygon fill=\"black\" stroke=\"black\" stroke-width=\"0.3\" points=\"233.14,-65.02 227.84,-64.91 231.91,-68.3 233.14,-65.02\"/>\n</g>\n<!-- 3959&#45;&gt;1766 -->\n<g id=\"edge4\" class=\"edge\">\n<title>3959&#45;&gt;1766</title>\n<path fill=\"none\" stroke=\"black\" stroke-width=\"0.3\" d=\"M569.74,-355.16C565.39,-369.02 556.94,-395.97 551.79,-412.39\"/>\n<polygon fill=\"black\" stroke=\"black\" stroke-width=\"0.3\" points=\"550.01,-412.22 550.18,-417.52 553.35,-413.27 550.01,-412.22\"/>\n</g>\n<!-- 4053 -->\n<g id=\"node87\" class=\"node\">\n<title>4053</title>\n<ellipse fill=\"lightgreen\" stroke=\"lightgreen\" cx=\"549\" cy=\"-588.67\" rx=\"9\" ry=\"9\"/>\n<text text-anchor=\"middle\" x=\"549\" y=\"-587.37\" font-family=\"Times,serif\" font-size=\"6.00\">4053</text>\n</g>\n<!-- 4053&#45;&gt;1627 -->\n<g id=\"edge11\" class=\"edge\">\n<title>4053&#45;&gt;1627</title>\n<path fill=\"none\" stroke=\"black\" stroke-width=\"0.3\" d=\"M553.57,-580.68C560.48,-568.61 573.64,-545.61 581.79,-531.37\"/>\n<polygon fill=\"black\" stroke=\"black\" stroke-width=\"0.3\" points=\"583.38,-532.11 584.34,-526.9 580.34,-530.37 583.38,-532.11\"/>\n</g>\n<!-- 4804 -->\n<g id=\"node100\" class=\"node\">\n<title>4804</title>\n<ellipse fill=\"lightgreen\" stroke=\"lightgreen\" cx=\"233.85\" cy=\"-213.06\" rx=\"9\" ry=\"9\"/>\n<text text-anchor=\"middle\" x=\"233.85\" y=\"-211.76\" font-family=\"Times,serif\" font-size=\"6.00\">4804</text>\n</g>\n<!-- 2901&#45;&gt;4804 -->\n<g id=\"edge12\" class=\"edge\">\n<title>2901&#45;&gt;4804</title>\n<path fill=\"none\" stroke=\"black\" stroke-width=\"0.3\" d=\"M172.03,-185.58C184.06,-190.93 206.4,-200.86 220.68,-207.21\"/>\n<polygon fill=\"black\" stroke=\"black\" stroke-width=\"0.3\" points=\"220.26,-208.94 225.54,-209.37 221.68,-205.74 220.26,-208.94\"/>\n</g>\n<!-- 5274 -->\n<g id=\"node91\" class=\"node\">\n<title>5274</title>\n<ellipse fill=\"lightgreen\" stroke=\"lightgreen\" cx=\"630.03\" cy=\"-140.56\" rx=\"9\" ry=\"9\"/>\n<text text-anchor=\"middle\" x=\"630.03\" y=\"-139.26\" font-family=\"Times,serif\" font-size=\"6.00\">5274</text>\n</g>\n<!-- 1098&#45;&gt;1766 -->\n<g id=\"edge92\" class=\"edge\">\n<title>1098&#45;&gt;1766</title>\n<path fill=\"none\" stroke=\"black\" stroke-width=\"0.3\" d=\"M478.45,-456.26C491.86,-450.41 518.45,-438.81 534.43,-431.85\"/>\n<polygon fill=\"black\" stroke=\"black\" stroke-width=\"0.3\" points=\"535.14,-433.45 539.02,-429.85 533.74,-430.24 535.14,-433.45\"/>\n</g>\n<!-- 1098&#45;&gt;2042 -->\n<g id=\"edge17\" class=\"edge\">\n<title>1098&#45;&gt;2042</title>\n<path fill=\"none\" stroke=\"black\" stroke-width=\"0.3\" d=\"M470.88,-468.98C472.03,-483.84 474.31,-513.39 475.67,-530.97\"/>\n<polygon fill=\"black\" stroke=\"black\" stroke-width=\"0.3\" points=\"473.93,-531.16 476.06,-536.01 477.42,-530.89 473.93,-531.16\"/>\n</g>\n<!-- 341 -->\n<g id=\"node95\" class=\"node\">\n<title>341</title>\n<ellipse fill=\"lightgreen\" stroke=\"lightgreen\" cx=\"547.81\" cy=\"-99.25\" rx=\"9\" ry=\"9\"/>\n<text text-anchor=\"middle\" x=\"547.81\" y=\"-97.95\" font-family=\"Times,serif\" font-size=\"6.00\">341</text>\n</g>\n<!-- 341&#45;&gt;6772 -->\n<g id=\"edge16\" class=\"edge\">\n<title>341&#45;&gt;6772</title>\n<path fill=\"none\" stroke=\"black\" stroke-width=\"0.3\" d=\"M538.64,-98.98C523.21,-98.51 491.97,-97.58 473.53,-97.03\"/>\n<polygon fill=\"black\" stroke=\"black\" stroke-width=\"0.3\" points=\"473.3,-95.27 468.25,-96.87 473.2,-98.77 473.3,-95.27\"/>\n</g>\n<!-- 341&#45;&gt;7380 -->\n<g id=\"edge55\" class=\"edge\">\n<title>341&#45;&gt;7380</title>\n<path fill=\"none\" stroke=\"black\" stroke-width=\"0.3\" d=\"M557.04,-99.14C572.09,-98.97 602.01,-98.63 619.81,-98.42\"/>\n<polygon fill=\"black\" stroke=\"black\" stroke-width=\"0.3\" points=\"619.94,-100.17 624.92,-98.36 619.9,-96.67 619.94,-100.17\"/>\n</g>\n<!-- 341&#45;&gt;7711 -->\n<g id=\"edge101\" class=\"edge\">\n<title>341&#45;&gt;7711</title>\n<path fill=\"none\" stroke=\"black\" stroke-width=\"0.3\" d=\"M545.32,-90.6C540.81,-74.87 531.22,-41.49 525.82,-22.66\"/>\n<polygon fill=\"black\" stroke=\"black\" stroke-width=\"0.3\" points=\"527.47,-22.08 524.41,-17.76 524.11,-23.05 527.47,-22.08\"/>\n</g>\n<!-- 341&#45;&gt;5974 -->\n<g id=\"edge42\" class=\"edge\">\n<title>341&#45;&gt;5974</title>\n<path fill=\"none\" stroke=\"black\" stroke-width=\"0.3\" d=\"M545.75,-108.09C542.29,-122.95 535.28,-153.06 531.15,-170.82\"/>\n<polygon fill=\"black\" stroke=\"black\" stroke-width=\"0.3\" points=\"529.39,-170.64 529.96,-175.91 532.8,-171.44 529.39,-170.64\"/>\n</g>\n<!-- 341&#45;&gt;6387 -->\n<g id=\"edge81\" class=\"edge\">\n<title>341&#45;&gt;6387</title>\n<path fill=\"none\" stroke=\"black\" stroke-width=\"0.3\" d=\"M553.6,-106.43C561.68,-116.44 576.41,-134.7 585.96,-146.54\"/>\n<polygon fill=\"black\" stroke=\"black\" stroke-width=\"0.3\" points=\"584.72,-147.79 589.22,-150.58 587.45,-145.59 584.72,-147.79\"/>\n</g>\n<!-- 341&#45;&gt;8218 -->\n<g id=\"edge100\" class=\"edge\">\n<title>341&#45;&gt;8218</title>\n<path fill=\"none\" stroke=\"black\" stroke-width=\"0.3\" d=\"M542.04,-106.33C532.68,-117.82 514.13,-140.59 502.99,-154.28\"/>\n<polygon fill=\"black\" stroke=\"black\" stroke-width=\"0.3\" points=\"501.59,-153.23 499.79,-158.21 504.3,-155.44 501.59,-153.23\"/>\n</g>\n<!-- 341&#45;&gt;6821 -->\n<g id=\"edge99\" class=\"edge\">\n<title>341&#45;&gt;6821</title>\n<path fill=\"none\" stroke=\"black\" stroke-width=\"0.3\" d=\"M540.06,-94.2C525.91,-84.97 495.79,-65.33 478.98,-54.38\"/>\n<polygon fill=\"black\" stroke=\"black\" stroke-width=\"0.3\" points=\"479.77,-52.8 474.62,-51.53 477.85,-55.73 479.77,-52.8\"/>\n</g>\n<!-- 341&#45;&gt;7321 -->\n<g id=\"edge103\" class=\"edge\">\n<title>341&#45;&gt;7321</title>\n<path fill=\"none\" stroke=\"black\" stroke-width=\"0.3\" d=\"M556.09,-95.06C569.53,-88.27 596.18,-74.8 612.19,-66.71\"/>\n<polygon fill=\"black\" stroke=\"black\" stroke-width=\"0.3\" points=\"613.11,-68.2 616.79,-64.38 611.53,-65.07 613.11,-68.2\"/>\n</g>\n<!-- 341&#45;&gt;6847 -->\n<g id=\"edge94\" class=\"edge\">\n<title>341&#45;&gt;6847</title>\n<path fill=\"none\" stroke=\"black\" stroke-width=\"0.3\" d=\"M541.27,-92.36C534,-84.7 522.15,-72.2 513.67,-63.26\"/>\n<polygon fill=\"black\" stroke=\"black\" stroke-width=\"0.3\" points=\"514.52,-61.62 509.81,-59.2 511.98,-64.03 514.52,-61.62\"/>\n</g>\n<!-- 341&#45;&gt;9198 -->\n<g id=\"edge98\" class=\"edge\">\n<title>341&#45;&gt;9198</title>\n<path fill=\"none\" stroke=\"black\" stroke-width=\"0.3\" d=\"M553.4,-91.79C562.82,-79.24 581.9,-53.82 593.16,-38.82\"/>\n<polygon fill=\"black\" stroke=\"black\" stroke-width=\"0.3\" points=\"594.78,-39.57 596.38,-34.52 591.98,-37.47 594.78,-39.57\"/>\n</g>\n<!-- 341&#45;&gt;6066 -->\n<g id=\"edge3\" class=\"edge\">\n<title>341&#45;&gt;6066</title>\n<path fill=\"none\" stroke=\"black\" stroke-width=\"0.3\" d=\"M549.54,-90.34C552.37,-75.82 557.99,-46.94 561.34,-29.76\"/>\n<polygon fill=\"black\" stroke=\"black\" stroke-width=\"0.3\" points=\"563.06,-30.08 562.3,-24.84 559.63,-29.41 563.06,-30.08\"/>\n</g>\n<!-- 341&#45;&gt;9493 -->\n<g id=\"edge68\" class=\"edge\">\n<title>341&#45;&gt;9493</title>\n<path fill=\"none\" stroke=\"black\" stroke-width=\"0.3\" d=\"M539.45,-103.13C525.4,-109.66 496.92,-122.9 480.12,-130.7\"/>\n<polygon fill=\"black\" stroke=\"black\" stroke-width=\"0.3\" points=\"479.11,-129.24 475.31,-132.94 480.58,-132.42 479.11,-129.24\"/>\n</g>\n<!-- 341&#45;&gt;5274 -->\n<g id=\"edge29\" class=\"edge\">\n<title>341&#45;&gt;5274</title>\n<path fill=\"none\" stroke=\"black\" stroke-width=\"0.3\" d=\"M555.99,-103.36C570.27,-110.54 599.86,-125.4 616.99,-134.01\"/>\n<polygon fill=\"black\" stroke=\"black\" stroke-width=\"0.3\" points=\"616.63,-135.79 621.88,-136.47 618.2,-132.66 616.63,-135.79\"/>\n</g>\n<!-- 7502 -->\n<g id=\"node97\" class=\"node\">\n<title>7502</title>\n<ellipse fill=\"lightgreen\" stroke=\"lightgreen\" cx=\"570.57\" cy=\"-187.88\" rx=\"9\" ry=\"9\"/>\n<text text-anchor=\"middle\" x=\"570.57\" y=\"-186.58\" font-family=\"Times,serif\" font-size=\"6.00\">7502</text>\n</g>\n<!-- 341&#45;&gt;7502 -->\n<g id=\"edge102\" class=\"edge\">\n<title>341&#45;&gt;7502</title>\n<path fill=\"none\" stroke=\"black\" stroke-width=\"0.3\" d=\"M550.07,-108.07C554.02,-123.47 562.21,-155.36 566.96,-173.83\"/>\n<polygon fill=\"black\" stroke=\"black\" stroke-width=\"0.3\" points=\"565.37,-174.69 568.31,-179.1 568.76,-173.82 565.37,-174.69\"/>\n</g>\n<!-- 4727&#45;&gt;503 -->\n<g id=\"edge15\" class=\"edge\">\n<title>4727&#45;&gt;503</title>\n<path fill=\"none\" stroke=\"black\" stroke-width=\"0.3\" d=\"M363.66,-546.12C368.89,-533.1 378.85,-508.32 385.03,-492.96\"/>\n<polygon fill=\"black\" stroke=\"black\" stroke-width=\"0.3\" points=\"386.72,-493.43 386.96,-488.14 383.47,-492.13 386.72,-493.43\"/>\n</g>\n<!-- 1926&#45;&gt;4503 -->\n<g id=\"edge9\" class=\"edge\">\n<title>1926&#45;&gt;4503</title>\n<path fill=\"none\" stroke=\"black\" stroke-width=\"0.3\" d=\"M633.21,-454.51C646.04,-448.94 670.46,-438.34 685.59,-431.77\"/>\n<polygon fill=\"black\" stroke=\"black\" stroke-width=\"0.3\" points=\"686.45,-433.31 690.34,-429.72 685.06,-430.1 686.45,-433.31\"/>\n</g>\n<!-- 1733 -->\n<g id=\"node101\" class=\"node\">\n<title>1733</title>\n<ellipse fill=\"lightgreen\" stroke=\"lightgreen\" cx=\"306.26\" cy=\"-238.49\" rx=\"9\" ry=\"9\"/>\n<text text-anchor=\"middle\" x=\"306.26\" y=\"-237.19\" font-family=\"Times,serif\" font-size=\"6.00\">1733</text>\n</g>\n<!-- 4804&#45;&gt;1733 -->\n<g id=\"edge13\" class=\"edge\">\n<title>4804&#45;&gt;1733</title>\n<path fill=\"none\" stroke=\"black\" stroke-width=\"0.3\" d=\"M242.44,-216.08C254.85,-220.44 277.92,-228.54 292.66,-233.72\"/>\n<polygon fill=\"black\" stroke=\"black\" stroke-width=\"0.3\" points=\"292.38,-235.47 297.68,-235.48 293.54,-232.17 292.38,-235.47\"/>\n</g>\n<!-- 1733&#45;&gt;661 -->\n<g id=\"edge14\" class=\"edge\">\n<title>1733&#45;&gt;661</title>\n<path fill=\"none\" stroke=\"black\" stroke-width=\"0.3\" d=\"M314.82,-241.45C328.09,-246.03 353.75,-254.88 369.68,-260.38\"/>\n<polygon fill=\"black\" stroke=\"black\" stroke-width=\"0.3\" points=\"369.37,-262.12 374.67,-262.1 370.52,-258.81 369.37,-262.12\"/>\n</g>\n<!-- 3966&#45;&gt;4053 -->\n<g id=\"edge10\" class=\"edge\">\n<title>3966&#45;&gt;4053</title>\n<path fill=\"none\" stroke=\"black\" stroke-width=\"0.3\" d=\"M584.32,-650.34C577.41,-638.27 564.24,-615.28 556.08,-601.04\"/>\n<polygon fill=\"black\" stroke=\"black\" stroke-width=\"0.3\" points=\"557.53,-600.04 553.52,-596.57 554.49,-601.78 557.53,-600.04\"/>\n</g>\n</g>\n</svg>\n",
      "text/plain": [
       "<graphviz.graphs.Digraph at 0x7f1ba157fa60>"
      ]
     },
     "execution_count": 22,
     "metadata": {},
     "output_type": "execute_result"
    }
   ],
   "source": [
    "q1 = q(\"MATCH ()-[e]-()--() RETURN DISTINCT e;\")\n",
    "\n",
    "q1[\"v1\"] = q1.e.apply(lambda x: x.start_vertex_id().as_string())\n",
    "q1[\"v2\"] = q1.e.apply(lambda x: x.end_vertex_id().as_string())\n",
    "q1[\"edges\"] = q1.apply(lambda x: (x.v1, x.v2), axis=1)\n",
    "\n",
    "nodes = set(q1.v1).union(set(q1.v2))\n",
    "edges = q1.edges\n",
    "\n",
    "draw(nodes, edges, red_nodes=['3968'], engine='neato')    # можно подкрасить некоторые вершины"
   ]
  },
  {
   "cell_type": "markdown",
   "metadata": {},
   "source": [
    "## <a id='toc4_4_'></a>[Выводы](#toc0_)\n",
    "\n",
    "1. Графовые СУБД - это сила!\n",
    "3. В ориентированном графе есть циклы: один $C_5$, два $C_6$ и один $C_7$. Все вершины $C_5$ принадлежат также множеству вершин $C_7$.\n",
    "4. В аналогичном неориентированном графе к этим циклам добавляется еще один цикл $C_4$.\n",
    "2. В представленном графе компоненты связности из более чем 2 вершин можно считать выбросами с точки зрения статистики.\n",
    "5. Таких компонент связности с более чем 2 вершинами в графе насчитывается 6 штук.\n",
    "6. Кроме тривиальных для данного графа компонент связности из 2 вершин, граф включает к.с. из 51, 15, 13, 7 и 6 вершин.\n",
    "7. Визуализация компонент связности графа подтвеждает выводы, полученные алгоритмически. \n",
    "\n"
   ]
  },
  {
   "cell_type": "markdown",
   "metadata": {},
   "source": [
    "# <a id='toc5_'></a>[REST сервис](#toc0_)\n",
    "\n",
    "REST сервис на python к графовой БД в котором на вход поступает ФИО, на выходе json"
   ]
  },
  {
   "cell_type": "code",
   "execution_count": 23,
   "metadata": {},
   "outputs": [
    {
     "data": {
      "text/plain": [
       "(2, 12, 49, 49, 0, 0, 0)"
      ]
     },
     "execution_count": 23,
     "metadata": {},
     "output_type": "execute_result"
    }
   ],
   "source": [
    "def rest(query, conn=connection_pool):\n",
    "    \"\"\"Запрос к БД на языке NGQL\"\"\"\n",
    "\n",
    "    with conn.session_context(USER, PASS) as session:\n",
    "        session.execute(f\"USE {SPACE};\")\n",
    "        result = session.execute(query)\n",
    "        if not result.is_succeeded():\n",
    "            return []\n",
    "    \n",
    "    names = []\n",
    "    if result.column_values(\"connected\"):\n",
    "        for node in [x.cast() for x in result.column_values(\"connected\")][0]:\n",
    "            names.append(node.prop_values(\"person\")[0].cast())\n",
    "        names = names[1:] # исключить саму вершину\n",
    "\n",
    "    return names\n",
    "\n",
    "def neighbours(name):\n",
    "    \"\"\"Вершины, смежные для name\"\"\"\n",
    "\n",
    "    return f\"MATCH p = (v)-[r*1]->() WHERE v.person.name == '{name}' WITH v, nodes(p) AS n UNWIND n AS n1 RETURN id(v) AS vid, collect(DISTINCT n1) AS connected;\"\n",
    "\n",
    "def reachable(name):\n",
    "    \"\"\"Вершины, достижимые из name\"\"\"\n",
    "    \n",
    "    return f\"MATCH p = (v)-[r*1..]->() WHERE v.person.name == '{name}' WITH v, nodes(p) AS n UNWIND n AS n1 RETURN id(v) AS vid, collect(DISTINCT n1) AS connected;\"\n",
    "\n",
    "(\n",
    "    len(rest(neighbours('Пафомова Кира Вадимовна'))),    # 2\n",
    "    len(rest(reachable('Пафомова Кира Вадимовна'))),     # 12\n",
    "\n",
    "    len(rest(neighbours('Ахромеева Алина Ивановна'))),   # 49\n",
    "    len(rest(reachable('Ахромеева Алина Ивановна'))),    # 49\n",
    "\n",
    "    len(rest(neighbours('Сапожник Борис Валерьевич'))),  # 0\n",
    "    len(rest(reachable('Сапожник Борис Валерьевич'))),   # 0\n",
    "\n",
    "    len(rest(neighbours('Нет Такого Персонажа'))),       # 0\n",
    ")"
   ]
  },
  {
   "cell_type": "markdown",
   "metadata": {},
   "source": [
    "```\n",
    "$ pip install \"uvicorn[standard]\"\n",
    "$ cd ./app\n",
    "$ echo \"DATABASE_USER=***\" > ./.env\n",
    "$ echo \"DATABASE_PASS=***\" >> ./.env\n",
    "$ uvicorn main:app --reload\n",
    "...\n",
    "```\n",
    "\n",
    "http://127.0.0.1:8000/docs"
   ]
  }
 ],
 "metadata": {
  "kernelspec": {
   "display_name": "Python 3.10.8 ('py310')",
   "language": "python",
   "name": "python3"
  },
  "language_info": {
   "codemirror_mode": {
    "name": "ipython",
    "version": 3
   },
   "file_extension": ".py",
   "mimetype": "text/x-python",
   "name": "python",
   "nbconvert_exporter": "python",
   "pygments_lexer": "ipython3",
   "version": "3.10.8"
  },
  "orig_nbformat": 4,
  "vscode": {
   "interpreter": {
    "hash": "53d00ba0b92f737b23b3e678e3a3ceb3fe4e948ad1ab95d9c6fdcbb4b4ec65f3"
   }
  }
 },
 "nbformat": 4,
 "nbformat_minor": 2
}
