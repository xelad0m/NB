{
 "cells": [
  {
   "cell_type": "markdown",
   "metadata": {},
   "source": [
    "**Содержание**<a id='toc0_'></a>    \n",
    "- [Установка NebulaGraph](#toc1_)    \n",
    "- [Считывание данных из источника](#toc2_)    \n",
    "- [Внесение данных из таблицы в графовую БД](#toc3_)    \n",
    "- [Графовое представление в БД](#toc4_)    \n",
    "  - [Ориентированный граф](#toc4_1_)    \n",
    "    - [Степени вершин](#toc4_1_1_)    \n",
    "    - [Множества достижимости и контрдостижимости вершин](#toc4_1_2_)    \n",
    "    - [Циклы и компоненты сильной связности](#toc4_1_3_)    \n",
    "  - [Неориентированный граф](#toc4_2_)    \n",
    "    - [Степени вершин](#toc4_2_1_)    \n",
    "    - [Циклы и компоненты связности](#toc4_2_2_)    \n",
    "  - [Визуализация](#toc4_3_)    \n",
    "  - [Выводы](#toc4_4_)    \n",
    "- [REST сервис](#toc5_)    \n",
    "\n",
    "<!-- vscode-jupyter-toc-config\n",
    "\tnumbering=false\n",
    "\tanchor=true\n",
    "\tflat=false\n",
    "\tminLevel=1\n",
    "\tmaxLevel=6\n",
    "\t/vscode-jupyter-toc-config -->\n",
    "<!-- THIS CELL WILL BE REPLACED ON TOC UPDATE. DO NOT WRITE YOUR TEXT IN THIS CELL -->"
   ]
  },
  {
   "cell_type": "markdown",
   "metadata": {},
   "source": [
    "# <a id='toc1_'></a>[Установка NebulaGraph](#toc0_)\n",
    "\n",
    "Можно установить Docker Desktop и выбрать мышкой, или взять docker контейнеры из репозитория:\n",
    "```\n",
    "git clone -b release-3.4 https://github.com/vesoft-inc/nebula-docker-compose.git\n",
    "cd ./nebula-docker-compose\n",
    "docker compose up -d\n",
    "```\n",
    "Состоит из трех кластеризованных сервисов (meta, graph, storage) + консоль.\n",
    "\n",
    "Подключение к контейнеру с консолью СУБД: `docker exec -it nebula-docker-compose-console-1 /bin/sh`\n",
    "\n",
    "Открыть консоль СУБД в контейнере: `nebula-console -u root --address=graphd --port=9669`\n",
    "- `root` дефолтный пользователь без пароля\n",
    "    - `SHOW USERS;`\n",
    "    - `CHANGE PASSWORD <user_name> FROM '<old_password>' TO '<new_password>';`\n",
    "\n",
    "Выключить: `docker compose down`"
   ]
  },
  {
   "cell_type": "markdown",
   "metadata": {},
   "source": [
    "# <a id='toc2_'></a>[Считывание данных из источника](#toc0_)"
   ]
  },
  {
   "cell_type": "code",
   "execution_count": 1,
   "metadata": {},
   "outputs": [
    {
     "data": {
      "text/plain": [
       "(5000, 9899, 25, 37)"
      ]
     },
     "execution_count": 1,
     "metadata": {},
     "output_type": "execute_result"
    }
   ],
   "source": [
    "import pandas as pd\n",
    "\n",
    "DATA = \"./GraphData/data_test.csv\"\n",
    "\n",
    "df = pd.read_csv(DATA, header=0, names=[\"eid\", \"name1\", \"name2\"], sep=\";\")\n",
    "\n",
    "unique = pd.concat((df.name1, df.name2), axis=0).unique()\n",
    "intersect = set(df.name1).intersection(set(df.name2))\n",
    "\n",
    "df.shape[0], unique.shape[0], len(intersect), max(map(len, unique))"
   ]
  },
  {
   "cell_type": "markdown",
   "metadata": {},
   "source": [
    "- всего записей в датасете 5000, \n",
    "- поля `name1` и `name2` содержат 9899 уникальных объекта, \n",
    "- пересечение множеств уникальных значений полей `name1` и `name2` содержит 25 объектов\n",
    "- максимальная длина идентификатора объекта 37 символов"
   ]
  },
  {
   "cell_type": "markdown",
   "metadata": {},
   "source": [
    "Сразу добавим идентификаторы/индексы вершин"
   ]
  },
  {
   "cell_type": "code",
   "execution_count": 2,
   "metadata": {},
   "outputs": [
    {
     "data": {
      "text/html": [
       "<div>\n",
       "<style scoped>\n",
       "    .dataframe tbody tr th:only-of-type {\n",
       "        vertical-align: middle;\n",
       "    }\n",
       "\n",
       "    .dataframe tbody tr th {\n",
       "        vertical-align: top;\n",
       "    }\n",
       "\n",
       "    .dataframe thead th {\n",
       "        text-align: right;\n",
       "    }\n",
       "</style>\n",
       "<table border=\"1\" class=\"dataframe\">\n",
       "  <thead>\n",
       "    <tr style=\"text-align: right;\">\n",
       "      <th></th>\n",
       "      <th>eid</th>\n",
       "      <th>vid1</th>\n",
       "      <th>vid2</th>\n",
       "      <th>name1</th>\n",
       "      <th>name2</th>\n",
       "    </tr>\n",
       "  </thead>\n",
       "  <tbody>\n",
       "    <tr>\n",
       "      <th>0</th>\n",
       "      <td>189</td>\n",
       "      <td>0</td>\n",
       "      <td>4930</td>\n",
       "      <td>Галчевская Карина Владимировна</td>\n",
       "      <td>Белоновская Анастасия Семеновна</td>\n",
       "    </tr>\n",
       "    <tr>\n",
       "      <th>1</th>\n",
       "      <td>206</td>\n",
       "      <td>1</td>\n",
       "      <td>4931</td>\n",
       "      <td>Офицеров Олег Романович</td>\n",
       "      <td>Сапожник Борис Валерьевич</td>\n",
       "    </tr>\n",
       "    <tr>\n",
       "      <th>2</th>\n",
       "      <td>445</td>\n",
       "      <td>2</td>\n",
       "      <td>4932</td>\n",
       "      <td>Жандарова Лариса Германовна</td>\n",
       "      <td>Чемодуров Дамир Русланович</td>\n",
       "    </tr>\n",
       "    <tr>\n",
       "      <th>3</th>\n",
       "      <td>503</td>\n",
       "      <td>3</td>\n",
       "      <td>4933</td>\n",
       "      <td>Масимова Яна Дамировна</td>\n",
       "      <td>Мингажетдинов Рамиль Семенович</td>\n",
       "    </tr>\n",
       "    <tr>\n",
       "      <th>4</th>\n",
       "      <td>571</td>\n",
       "      <td>4</td>\n",
       "      <td>4934</td>\n",
       "      <td>Мухтарова Алена Яковлевна</td>\n",
       "      <td>Щербатенко Ольга Робертовна</td>\n",
       "    </tr>\n",
       "  </tbody>\n",
       "</table>\n",
       "</div>"
      ],
      "text/plain": [
       "   eid  vid1  vid2                           name1  \\\n",
       "0  189     0  4930  Галчевская Карина Владимировна   \n",
       "1  206     1  4931         Офицеров Олег Романович   \n",
       "2  445     2  4932     Жандарова Лариса Германовна   \n",
       "3  503     3  4933          Масимова Яна Дамировна   \n",
       "4  571     4  4934       Мухтарова Алена Яковлевна   \n",
       "\n",
       "                             name2  \n",
       "0  Белоновская Анастасия Семеновна  \n",
       "1        Сапожник Борис Валерьевич  \n",
       "2       Чемодуров Дамир Русланович  \n",
       "3   Мингажетдинов Рамиль Семенович  \n",
       "4      Щербатенко Ольга Робертовна  "
      ]
     },
     "execution_count": 2,
     "metadata": {},
     "output_type": "execute_result"
    }
   ],
   "source": [
    "vids = pd.DataFrame({\"name\": unique}).reset_index()\n",
    "\n",
    "df[\"vid1\"] = pd.merge(df.name1, vids, how=\"left\", left_on=\"name1\", right_on=\"name\")[\"index\"]\n",
    "df[\"vid2\"] = pd.merge(df.name2, vids, how=\"left\", left_on=\"name2\", right_on=\"name\")[\"index\"]\n",
    "\n",
    "df[[\"eid\",\t\"vid1\",\t\"vid2\", \"name1\", \"name2\"]].head()"
   ]
  },
  {
   "cell_type": "markdown",
   "metadata": {},
   "source": [
    "# <a id='toc3_'></a>[Внесение данных из таблицы в графовую БД](#toc0_)"
   ]
  },
  {
   "cell_type": "code",
   "execution_count": 3,
   "metadata": {},
   "outputs": [],
   "source": [
    "# адрес и порт graphd сервиса\n",
    "HOST = \"127.0.0.1\"      \n",
    "PORT = 9669\n",
    "\n",
    "USER = \"root\"\n",
    "PASS = \"\"\n",
    "\n",
    "SPACE = \"relations\"   # назовем схему данных так"
   ]
  },
  {
   "cell_type": "markdown",
   "metadata": {},
   "source": [
    "Официальные биндинги к API СУБД из питона - пакет `nebula3-python` (версия должна соответствовать СУБД). Есть два вида соединения для выполнения запросов к БД:\n",
    "- отдельная сессия - для существующего пользователя и конкретного пространства (аналог схемы в SQL), в т.ч. служит для разграничения прав доступа\n",
    "- пул соединений - можно создавать пространства, пользователей и т.п."
   ]
  },
  {
   "cell_type": "code",
   "execution_count": 4,
   "metadata": {},
   "outputs": [],
   "source": [
    "# !pip install nebula3-python==3.4\n",
    "import time\n",
    "\n",
    "from tqdm import tqdm\n",
    "\n",
    "from nebula3.Config import Config\n",
    "from nebula3.gclient.net import ConnectionPool\n",
    "\n",
    "config = Config()\n",
    "config.max_connection_pool_size = 10\n",
    "\n",
    "# init connection pool\n",
    "connection_pool = ConnectionPool()\n",
    "# the graphd server's address\n",
    "assert connection_pool.init([(HOST, PORT)], config)"
   ]
  },
  {
   "cell_type": "markdown",
   "metadata": {},
   "source": [
    "- создание схемы БД\n",
    "- внесение данных"
   ]
  },
  {
   "cell_type": "code",
   "execution_count": 5,
   "metadata": {},
   "outputs": [
    {
     "name": "stdout",
     "output_type": "stream",
     "text": [
      "Building space 'relations'\n"
     ]
    },
    {
     "name": "stderr",
     "output_type": "stream",
     "text": [
      "Vertexes: 100%|██████████| 9899/9899 [00:16<00:00, 605.24it/s]\n",
      "Edges: 100%|██████████| 5000/5000 [00:08<00:00, 587.06it/s]\n"
     ]
    }
   ],
   "source": [
    "def is_space(conn, space):\n",
    "    with conn.session_context(USER, PASS) as session:\n",
    "        res = session.execute(\"SHOW SPACES;\")       # ResultSet\n",
    "        res = res.column_values(\"Name\")             # list of ValueWrapper\n",
    "        res = [val.as_string() for val in res]\n",
    "    return space in set(res)\n",
    "\n",
    "def init_db(conn, space, nodes=vids, edges=df, drop=False, sleep=10):\n",
    "    \"\"\"Чтоб не ждать бесконечных слипов, пересоздание схемы только:\n",
    "        - если прямо сказано drop=True, или \n",
    "        - если схемы с именем space еще нет\n",
    "    \"\"\"\n",
    "    nGQL_drop   = f\"DROP SPACE IF EXISTS {space};\"\n",
    "    nGQL_create = f\"CREATE SPACE IF NOT EXISTS {space}(\"    \\\n",
    "                   \"PARTITION_NUM=5,\"                       \\\n",
    "                   \"REPLICA_FACTOR=1,\"                      \\\n",
    "                   \"vid_type=FIXED_STRING(30));\"\n",
    "    nGQL_tags   = f\"USE {space};\"                                   \\\n",
    "                   \"CREATE TAG IF NOT EXISTS person(name string);\"  \\\n",
    "                   \"CREATE EDGE IF NOT EXISTS r();\"\n",
    "    \n",
    "    # для экспериментов, хотя совет из манула: DO NOT USE index\n",
    "    # - индекс до 10 раз может замедлить вставку, но ускоряются LOOKUP и GO, \n",
    "    # а в MATCH снимаются ограничения на синтаксис\n",
    "    nGQL_index  = f\"CREATE TAG INDEX IF NOT EXISTS pers_index on person();\"  \\\n",
    "                   \"CREATE EDGE INDEX IF NOT EXISTS r_index on r();\"         \n",
    "\n",
    "    with conn.session_context(USER, PASS) as session:\n",
    "        if drop:\n",
    "            session.execute(nGQL_drop)\n",
    "\n",
    "        if drop or not is_space(conn, space):   # слипы из официального мануала - по 20 сек.\n",
    "            print(f\"Building space '{space}'\")\n",
    "            session.execute(nGQL_create)\n",
    "            time.sleep(sleep)                   # без этого слипа на тесте все работает\n",
    "            session.execute(nGQL_tags)\n",
    "            time.sleep(sleep)                   # без этого слипа на тесте все работает\n",
    "            session.execute(nGQL_index)\n",
    "            time.sleep(sleep)                   # без этого слипа СУБД потеряет часть данных при добавлении :P\n",
    "        else:\n",
    "            print(f\"Space '{space}' allready up-to-date\")\n",
    "\n",
    "    if drop:\n",
    "        with conn.session_context(USER, PASS) as session:\n",
    "            session.execute(f\"USE {space};\")\n",
    "\n",
    "            for _, row in tqdm(nodes.iterrows(), total=nodes.shape[0], desc='Vertexes'):\n",
    "                vid = f\"{row['index']}\"\n",
    "                cmd = f\"INSERT VERTEX person(name) VALUES \\\"{vid}\\\":(\\\"{row['name']}\\\")\"\n",
    "                session.execute(cmd)\n",
    "\n",
    "            for _, row in tqdm(edges.iterrows(), total=edges.shape[0], desc='Edges'):\n",
    "                vid1 = f\"{row['vid1']}\"\n",
    "                vid2 = f\"{row['vid2']}\"\n",
    "                cmd = f\"INSERT EDGE r() VALUES \\\"{vid1}\\\"->\\\"{vid2}\\\":()\"\n",
    "                session.execute(cmd)\n",
    "\n",
    "init_db(connection_pool, SPACE, drop=True)"
   ]
  },
  {
   "cell_type": "markdown",
   "metadata": {},
   "source": [
    "Производительность:\n",
    "- ~600 запросов в сек. при добавлении данных\n",
    "- ~1200 запросов в сек. при отклонении ошибочных запросов\n",
    "\n",
    "Комментарий:\n",
    "- в БД данные вводятся как ориентированные в направлении от `name1` к `name2`"
   ]
  },
  {
   "cell_type": "markdown",
   "metadata": {},
   "source": [
    "# <a id='toc4_'></a>[Графовое представление в БД](#toc0_)\n",
    "\n",
    "Язык запросов NebulaGraph называется `nGQL` и включает в себя подмножество языка `openCypher`. Нельзя смешивать в одном запросе два диалекта:\n",
    "- openCypher (MATCH, RETURN, WITH ...)\n",
    "- native nGQL (FETCH, GO, LOOKUP ...)\n",
    "\n",
    "В native nGQL есть интересный синтаксис подзапросов в виде unix-like пайплайнов через `|` (синхронный, аналог `WITH`)."
   ]
  },
  {
   "cell_type": "code",
   "execution_count": 6,
   "metadata": {},
   "outputs": [],
   "source": [
    "from typing import Dict\n",
    "\n",
    "def result_to_df(result): \n",
    "    \"\"\"\n",
    "    build list for each column, and transform to dataframe \n",
    "    (рекомендуемый способ из мануала)\n",
    "    \"\"\"\n",
    "    assert result.is_succeeded(), \"Похоже, ошибка в запросе nGQL\"\n",
    "    columns = result.keys()\n",
    "    d: Dict[str, list] = {}\n",
    "    for col_num in range(result.col_size()):\n",
    "        col_name = columns[col_num]\n",
    "        col_list = result.column_values(col_name)\n",
    "        d[col_name] = [x.cast() for x in col_list]\n",
    "    return pd.DataFrame.from_dict(d)\n",
    "\n",
    "def q(query, conn=connection_pool):\n",
    "    \"\"\"Запрос к БД на языке NGQL\"\"\"\n",
    "    with conn.session_context(USER, PASS) as session:\n",
    "        session.execute(f\"USE {SPACE};\")\n",
    "        result = session.execute(query)\n",
    "\n",
    "    return result_to_df(result)"
   ]
  },
  {
   "cell_type": "code",
   "execution_count": 7,
   "metadata": {},
   "outputs": [
    {
     "data": {
      "text/html": [
       "<div>\n",
       "<style scoped>\n",
       "    .dataframe tbody tr th:only-of-type {\n",
       "        vertical-align: middle;\n",
       "    }\n",
       "\n",
       "    .dataframe tbody tr th {\n",
       "        vertical-align: top;\n",
       "    }\n",
       "\n",
       "    .dataframe thead th {\n",
       "        text-align: right;\n",
       "    }\n",
       "</style>\n",
       "<table border=\"1\" class=\"dataframe\">\n",
       "  <thead>\n",
       "    <tr style=\"text-align: right;\">\n",
       "      <th></th>\n",
       "      <th>0</th>\n",
       "    </tr>\n",
       "  </thead>\n",
       "  <tbody>\n",
       "    <tr>\n",
       "      <th>v_num</th>\n",
       "      <td>9899</td>\n",
       "    </tr>\n",
       "    <tr>\n",
       "      <th>e_num</th>\n",
       "      <td>5000</td>\n",
       "    </tr>\n",
       "  </tbody>\n",
       "</table>\n",
       "</div>"
      ],
      "text/plain": [
       "          0\n",
       "v_num  9899\n",
       "e_num  5000"
      ]
     },
     "execution_count": 7,
     "metadata": {},
     "output_type": "execute_result"
    }
   ],
   "source": [
    "#native nGQL: \"LOOKUP ON person YIELD id(vertex) | YIELD COUNT(*) AS Total;\"\n",
    "v_num = \"MATCH (v:person) RETURN count(v.person.name) AS v_num;\"\n",
    "e_num = \"MATCH ()-[r]->() RETURN count(r) AS e_num;\"\n",
    "\n",
    "pd.concat((q(v_num).T, q(e_num).T))"
   ]
  },
  {
   "cell_type": "markdown",
   "metadata": {},
   "source": [
    "Все вводимые данные в БД сохранились"
   ]
  },
  {
   "cell_type": "markdown",
   "metadata": {},
   "source": [
    "## <a id='toc4_1_'></a>[Ориентированный граф](#toc0_)\n",
    "\n",
    "### <a id='toc4_1_1_'></a>[Степени вершин](#toc0_)"
   ]
  },
  {
   "cell_type": "markdown",
   "metadata": {},
   "source": [
    "Вершины по количеству входящих и исходящих связей\n",
    "- при `length=\"1\"` соответсвует понятию степени вершины (точнее полустепени захода/исхода, но будем называть их степенями)"
   ]
  },
  {
   "cell_type": "code",
   "execution_count": 8,
   "metadata": {},
   "outputs": [
    {
     "data": {
      "text/html": [
       "<div>\n",
       "<style scoped>\n",
       "    .dataframe tbody tr th:only-of-type {\n",
       "        vertical-align: middle;\n",
       "    }\n",
       "\n",
       "    .dataframe tbody tr th {\n",
       "        vertical-align: top;\n",
       "    }\n",
       "\n",
       "    .dataframe thead th {\n",
       "        text-align: right;\n",
       "    }\n",
       "</style>\n",
       "<table border=\"1\" class=\"dataframe\">\n",
       "  <thead>\n",
       "    <tr style=\"text-align: right;\">\n",
       "      <th></th>\n",
       "      <th>vid</th>\n",
       "      <th>name</th>\n",
       "      <th>Ndst</th>\n",
       "    </tr>\n",
       "  </thead>\n",
       "  <tbody>\n",
       "    <tr>\n",
       "      <th>0</th>\n",
       "      <td>221</td>\n",
       "      <td>Ахромеева Алина Ивановна</td>\n",
       "      <td>49</td>\n",
       "    </tr>\n",
       "    <tr>\n",
       "      <th>1</th>\n",
       "      <td>341</td>\n",
       "      <td>Башнина Антонина Глебовна</td>\n",
       "      <td>14</td>\n",
       "    </tr>\n",
       "    <tr>\n",
       "      <th>2</th>\n",
       "      <td>1794</td>\n",
       "      <td>Диомидов Игорь Ильдарович</td>\n",
       "      <td>5</td>\n",
       "    </tr>\n",
       "    <tr>\n",
       "      <th>3</th>\n",
       "      <td>661</td>\n",
       "      <td>Зимнухова Карина Даниловна</td>\n",
       "      <td>4</td>\n",
       "    </tr>\n",
       "    <tr>\n",
       "      <th>4</th>\n",
       "      <td>503</td>\n",
       "      <td>Пафомова Кира Вадимовна</td>\n",
       "      <td>2</td>\n",
       "    </tr>\n",
       "  </tbody>\n",
       "</table>\n",
       "</div>"
      ],
      "text/plain": [
       "    vid                        name  Ndst\n",
       "0   221    Ахромеева Алина Ивановна    49\n",
       "1   341   Башнина Антонина Глебовна    14\n",
       "2  1794   Диомидов Игорь Ильдарович     5\n",
       "3   661  Зимнухова Карина Даниловна     4\n",
       "4   503     Пафомова Кира Вадимовна     2"
      ]
     },
     "execution_count": 8,
     "metadata": {},
     "output_type": "execute_result"
    }
   ],
   "source": [
    "def dst(vid, length=\"1\"):\n",
    "    \"\"\"Вершины в которые из vid есть путь длины length\"\"\"\n",
    "    return f\"MATCH (v1)-[e:r*{length}]->(v2) WHERE id(v1) == '{vid}' RETURN id(v2) AS vid, v2.person.name AS name;\"\n",
    "\n",
    "def dst_count(length=\"1\"):\n",
    "    \"\"\"Количество вершин, в которые есть путь длины length из vid\"\"\"\n",
    "    return f\"MATCH (v1:person)-[r*{length}]->(v2:person) RETURN id(v1) AS vid, v1.person.name AS name, COUNT(DISTINCT id(v2)) AS Ndst ORDER BY Ndst DESC;\"\n",
    "\n",
    "def src(vid, length=\"1\"):\n",
    "    \"\"\"Вершины из которых в vid есть путь длины length\"\"\"\n",
    "    return f\"MATCH (v1)<-[e:r*{length}]-(v2) WHERE id(v1) == '{vid}' RETURN id(v2) AS vid, v2.person.name AS name;\"\n",
    "\n",
    "def src_count(length=\"1\"):\n",
    "    \"\"\"Количество вершин, из которых есть путь длины length в vid\"\"\"\n",
    "    return f\"MATCH (v1:person)<-[r*{length}]-(v2:person) RETURN id(v1) AS vid, v1.person.name AS name, COUNT(DISTINCT id(v2)) AS Nsrc ORDER BY Nsrc DESC;\"\n",
    "\n",
    "q(dst_count()).head()"
   ]
  },
  {
   "cell_type": "code",
   "execution_count": 9,
   "metadata": {},
   "outputs": [
    {
     "data": {
      "text/html": [
       "<div>\n",
       "<style scoped>\n",
       "    .dataframe tbody tr th:only-of-type {\n",
       "        vertical-align: middle;\n",
       "    }\n",
       "\n",
       "    .dataframe tbody tr th {\n",
       "        vertical-align: top;\n",
       "    }\n",
       "\n",
       "    .dataframe thead th {\n",
       "        text-align: right;\n",
       "    }\n",
       "</style>\n",
       "<table border=\"1\" class=\"dataframe\">\n",
       "  <thead>\n",
       "    <tr style=\"text-align: right;\">\n",
       "      <th></th>\n",
       "      <th>vid</th>\n",
       "      <th>name</th>\n",
       "      <th>Nsrc</th>\n",
       "    </tr>\n",
       "  </thead>\n",
       "  <tbody>\n",
       "    <tr>\n",
       "      <th>0</th>\n",
       "      <td>873</td>\n",
       "      <td>Медведева Дарья Алексеевна</td>\n",
       "      <td>5</td>\n",
       "    </tr>\n",
       "    <tr>\n",
       "      <th>1</th>\n",
       "      <td>1766</td>\n",
       "      <td>Двигубская Валентина Геннадьевна</td>\n",
       "      <td>2</td>\n",
       "    </tr>\n",
       "    <tr>\n",
       "      <th>2</th>\n",
       "      <td>1098</td>\n",
       "      <td>Шолохов Игорь Робертович</td>\n",
       "      <td>2</td>\n",
       "    </tr>\n",
       "    <tr>\n",
       "      <th>3</th>\n",
       "      <td>9836</td>\n",
       "      <td>Ермилова Екатерина Федоровна</td>\n",
       "      <td>1</td>\n",
       "    </tr>\n",
       "    <tr>\n",
       "      <th>4</th>\n",
       "      <td>9147</td>\n",
       "      <td>Шулятикова Анастасия Михаиловна</td>\n",
       "      <td>1</td>\n",
       "    </tr>\n",
       "  </tbody>\n",
       "</table>\n",
       "</div>"
      ],
      "text/plain": [
       "    vid                              name  Nsrc\n",
       "0   873        Медведева Дарья Алексеевна     5\n",
       "1  1766  Двигубская Валентина Геннадьевна     2\n",
       "2  1098          Шолохов Игорь Робертович     2\n",
       "3  9836      Ермилова Екатерина Федоровна     1\n",
       "4  9147   Шулятикова Анастасия Михаиловна     1"
      ]
     },
     "execution_count": 9,
     "metadata": {},
     "output_type": "execute_result"
    }
   ],
   "source": [
    "q(src_count()).head()"
   ]
  },
  {
   "cell_type": "markdown",
   "metadata": {},
   "source": [
    "- Максимальная исходящая степень вершины $d^-(v_{221}) = 49$, \n",
    "- Максимальная входящая степень вершины $d^+(v_{873}) = 5$"
   ]
  },
  {
   "cell_type": "markdown",
   "metadata": {},
   "source": [
    "### <a id='toc4_1_2_'></a>[Множества достижимости и контрдостижимости вершин](#toc0_)\n",
    "\n",
    "- при `length=\"1..\"` соответсвует понятию достижимости (`dst_count` - какие вершины могут быть достигнуты из данной) и контрдостижимости вершин (`src_count` - из каких вершин может быть достигнута данная)"
   ]
  },
  {
   "cell_type": "code",
   "execution_count": 10,
   "metadata": {},
   "outputs": [
    {
     "data": {
      "text/html": [
       "<div>\n",
       "<style scoped>\n",
       "    .dataframe tbody tr th:only-of-type {\n",
       "        vertical-align: middle;\n",
       "    }\n",
       "\n",
       "    .dataframe tbody tr th {\n",
       "        vertical-align: top;\n",
       "    }\n",
       "\n",
       "    .dataframe thead th {\n",
       "        text-align: right;\n",
       "    }\n",
       "</style>\n",
       "<table border=\"1\" class=\"dataframe\">\n",
       "  <thead>\n",
       "    <tr style=\"text-align: right;\">\n",
       "      <th></th>\n",
       "      <th>vid</th>\n",
       "      <th>name</th>\n",
       "      <th>Ndst</th>\n",
       "    </tr>\n",
       "  </thead>\n",
       "  <tbody>\n",
       "    <tr>\n",
       "      <th>0</th>\n",
       "      <td>3968</td>\n",
       "      <td>Ошуров Павел Ильдарович</td>\n",
       "      <td>50</td>\n",
       "    </tr>\n",
       "    <tr>\n",
       "      <th>1</th>\n",
       "      <td>221</td>\n",
       "      <td>Ахромеева Алина Ивановна</td>\n",
       "      <td>49</td>\n",
       "    </tr>\n",
       "    <tr>\n",
       "      <th>2</th>\n",
       "      <td>341</td>\n",
       "      <td>Башнина Антонина Глебовна</td>\n",
       "      <td>14</td>\n",
       "    </tr>\n",
       "    <tr>\n",
       "      <th>3</th>\n",
       "      <td>4505</td>\n",
       "      <td>Ляуданский Валентин Владиславович</td>\n",
       "      <td>13</td>\n",
       "    </tr>\n",
       "    <tr>\n",
       "      <th>4</th>\n",
       "      <td>3611</td>\n",
       "      <td>Троекуров Глеб Ефимович</td>\n",
       "      <td>13</td>\n",
       "    </tr>\n",
       "  </tbody>\n",
       "</table>\n",
       "</div>"
      ],
      "text/plain": [
       "    vid                               name  Ndst\n",
       "0  3968            Ошуров Павел Ильдарович    50\n",
       "1   221           Ахромеева Алина Ивановна    49\n",
       "2   341          Башнина Антонина Глебовна    14\n",
       "3  4505  Ляуданский Валентин Владиславович    13\n",
       "4  3611            Троекуров Глеб Ефимович    13"
      ]
     },
     "execution_count": 10,
     "metadata": {},
     "output_type": "execute_result"
    }
   ],
   "source": [
    "dst_power = q(dst_count(\"1..\"))\n",
    "dst_power.head()"
   ]
  },
  {
   "cell_type": "code",
   "execution_count": 11,
   "metadata": {},
   "outputs": [
    {
     "data": {
      "text/html": [
       "<div>\n",
       "<style scoped>\n",
       "    .dataframe tbody tr th:only-of-type {\n",
       "        vertical-align: middle;\n",
       "    }\n",
       "\n",
       "    .dataframe tbody tr th {\n",
       "        vertical-align: top;\n",
       "    }\n",
       "\n",
       "    .dataframe thead th {\n",
       "        text-align: right;\n",
       "    }\n",
       "</style>\n",
       "<table border=\"1\" class=\"dataframe\">\n",
       "  <thead>\n",
       "    <tr style=\"text-align: right;\">\n",
       "      <th></th>\n",
       "      <th>vid</th>\n",
       "      <th>name</th>\n",
       "      <th>Nsrc</th>\n",
       "    </tr>\n",
       "  </thead>\n",
       "  <tbody>\n",
       "    <tr>\n",
       "      <th>0</th>\n",
       "      <td>1455</td>\n",
       "      <td>Даниленко Владимир Семенович</td>\n",
       "      <td>13</td>\n",
       "    </tr>\n",
       "    <tr>\n",
       "      <th>1</th>\n",
       "      <td>1766</td>\n",
       "      <td>Двигубская Валентина Геннадьевна</td>\n",
       "      <td>13</td>\n",
       "    </tr>\n",
       "    <tr>\n",
       "      <th>2</th>\n",
       "      <td>1926</td>\n",
       "      <td>Ивашев Вячеслав Игоревич</td>\n",
       "      <td>13</td>\n",
       "    </tr>\n",
       "    <tr>\n",
       "      <th>3</th>\n",
       "      <td>3959</td>\n",
       "      <td>Дорожкин Анатолий Егорович</td>\n",
       "      <td>13</td>\n",
       "    </tr>\n",
       "    <tr>\n",
       "      <th>4</th>\n",
       "      <td>4503</td>\n",
       "      <td>Рыскина Эльмира Ивановна</td>\n",
       "      <td>13</td>\n",
       "    </tr>\n",
       "  </tbody>\n",
       "</table>\n",
       "</div>"
      ],
      "text/plain": [
       "    vid                              name  Nsrc\n",
       "0  1455      Даниленко Владимир Семенович    13\n",
       "1  1766  Двигубская Валентина Геннадьевна    13\n",
       "2  1926          Ивашев Вячеслав Игоревич    13\n",
       "3  3959        Дорожкин Анатолий Егорович    13\n",
       "4  4503          Рыскина Эльмира Ивановна    13"
      ]
     },
     "execution_count": 11,
     "metadata": {},
     "output_type": "execute_result"
    }
   ],
   "source": [
    "src_power = q(src_count(\"1..\"))\n",
    "src_power.head()"
   ]
  },
  {
   "cell_type": "markdown",
   "metadata": {},
   "source": [
    "- квантили степеней вершин"
   ]
  },
  {
   "cell_type": "code",
   "execution_count": 12,
   "metadata": {},
   "outputs": [
    {
     "data": {
      "text/plain": [
       "(1.0, 2.0)"
      ]
     },
     "execution_count": 12,
     "metadata": {},
     "output_type": "execute_result"
    }
   ],
   "source": [
    "dst_power.Ndst.quantile(0.99), src_power.Nsrc.quantile(0.99)"
   ]
  },
  {
   "cell_type": "markdown",
   "metadata": {},
   "source": [
    "- 99% квантиль мощности множества достижимости для вершин графа равен 1.0 вершине\n",
    "- 99% квантиль мощности множества контрдостижимости для вершин графа равен 2.0 вершинам (98% квантиль - 1 вершина)\n",
    "\n",
    "Из этого можно сделать вывод, что все вершины в представленном графе, которые связаны более чем с 1 вершиной, можно считать выбросами с точки зрения статистики."
   ]
  },
  {
   "cell_type": "markdown",
   "metadata": {},
   "source": [
    "### <a id='toc4_1_3_'></a>[Циклы и компоненты сильной связности](#toc0_)\n",
    "\n",
    "В ориентированном графе циклы являются частным случаем компонент сильной связности. В общем случае компонента сильной связности ор.графа может состоять из нескольких циклов, имеющих общие вершины.\n",
    "\n",
    "Количество циклов `cycle_count`:\n",
    "- `length=\"0\"` количество вершин в графе\n",
    "- `length=\"1\"` количество петель в графе (**отсутствуют**)\n",
    "- `length=\"2\"` количество вершин, связанных условно неориентированным ребром (**отсутствуют**)\n",
    "- `length=\"3\"` количество циклов длины 3 (**отсутствуют**)\n",
    "- ..."
   ]
  },
  {
   "cell_type": "code",
   "execution_count": 13,
   "metadata": {},
   "outputs": [
    {
     "data": {
      "text/html": [
       "<div>\n",
       "<style scoped>\n",
       "    .dataframe tbody tr th:only-of-type {\n",
       "        vertical-align: middle;\n",
       "    }\n",
       "\n",
       "    .dataframe tbody tr th {\n",
       "        vertical-align: top;\n",
       "    }\n",
       "\n",
       "    .dataframe thead th {\n",
       "        text-align: right;\n",
       "    }\n",
       "</style>\n",
       "<table border=\"1\" class=\"dataframe\">\n",
       "  <thead>\n",
       "    <tr style=\"text-align: right;\">\n",
       "      <th></th>\n",
       "      <th>vid</th>\n",
       "      <th>name</th>\n",
       "      <th>length</th>\n",
       "      <th>cycle</th>\n",
       "    </tr>\n",
       "  </thead>\n",
       "  <tbody>\n",
       "    <tr>\n",
       "      <th>0</th>\n",
       "      <td>3710</td>\n",
       "      <td>Торгунаков Роман Кириллович</td>\n",
       "      <td>7</td>\n",
       "      <td>3710-&gt;1098-&gt;2042-&gt;3611-&gt;4727-&gt;503-&gt;4505</td>\n",
       "    </tr>\n",
       "    <tr>\n",
       "      <th>1</th>\n",
       "      <td>503</td>\n",
       "      <td>Пафомова Кира Вадимовна</td>\n",
       "      <td>7</td>\n",
       "      <td>503-&gt;4505-&gt;3710-&gt;1098-&gt;2042-&gt;3611-&gt;4727</td>\n",
       "    </tr>\n",
       "    <tr>\n",
       "      <th>2</th>\n",
       "      <td>4505</td>\n",
       "      <td>Ляуданский Валентин Владиславович</td>\n",
       "      <td>7</td>\n",
       "      <td>4505-&gt;3710-&gt;1098-&gt;2042-&gt;3611-&gt;4727-&gt;503</td>\n",
       "    </tr>\n",
       "    <tr>\n",
       "      <th>3</th>\n",
       "      <td>3611</td>\n",
       "      <td>Троекуров Глеб Ефимович</td>\n",
       "      <td>7</td>\n",
       "      <td>3611-&gt;4727-&gt;503-&gt;4505-&gt;3710-&gt;1098-&gt;2042</td>\n",
       "    </tr>\n",
       "    <tr>\n",
       "      <th>4</th>\n",
       "      <td>4727</td>\n",
       "      <td>Мараховская Дарья Романовна</td>\n",
       "      <td>7</td>\n",
       "      <td>4727-&gt;503-&gt;4505-&gt;3710-&gt;1098-&gt;2042-&gt;3611</td>\n",
       "    </tr>\n",
       "    <tr>\n",
       "      <th>5</th>\n",
       "      <td>2042</td>\n",
       "      <td>Нагайцева Анжелика Яновна</td>\n",
       "      <td>7</td>\n",
       "      <td>2042-&gt;3611-&gt;4727-&gt;503-&gt;4505-&gt;3710-&gt;1098</td>\n",
       "    </tr>\n",
       "    <tr>\n",
       "      <th>6</th>\n",
       "      <td>1098</td>\n",
       "      <td>Шолохов Игорь Робертович</td>\n",
       "      <td>7</td>\n",
       "      <td>1098-&gt;2042-&gt;3611-&gt;4727-&gt;503-&gt;4505-&gt;3710</td>\n",
       "    </tr>\n",
       "    <tr>\n",
       "      <th>7</th>\n",
       "      <td>3279</td>\n",
       "      <td>Батиевская Ангелина Романовна</td>\n",
       "      <td>6</td>\n",
       "      <td>3279-&gt;3959-&gt;1766-&gt;1926-&gt;4503-&gt;1455</td>\n",
       "    </tr>\n",
       "    <tr>\n",
       "      <th>8</th>\n",
       "      <td>4053</td>\n",
       "      <td>Поскребышев Яков Дмитриевич</td>\n",
       "      <td>6</td>\n",
       "      <td>4053-&gt;1627-&gt;3679-&gt;3366-&gt;975-&gt;3966</td>\n",
       "    </tr>\n",
       "    <tr>\n",
       "      <th>9</th>\n",
       "      <td>1455</td>\n",
       "      <td>Даниленко Владимир Семенович</td>\n",
       "      <td>6</td>\n",
       "      <td>1455-&gt;3279-&gt;3959-&gt;1766-&gt;1926-&gt;4503</td>\n",
       "    </tr>\n",
       "    <tr>\n",
       "      <th>10</th>\n",
       "      <td>1627</td>\n",
       "      <td>Майлина Гульнара Ивановна</td>\n",
       "      <td>6</td>\n",
       "      <td>1627-&gt;3679-&gt;3366-&gt;975-&gt;3966-&gt;4053</td>\n",
       "    </tr>\n",
       "    <tr>\n",
       "      <th>11</th>\n",
       "      <td>3366</td>\n",
       "      <td>Яцкой Роберт Ильдарович</td>\n",
       "      <td>6</td>\n",
       "      <td>3366-&gt;975-&gt;3966-&gt;4053-&gt;1627-&gt;3679</td>\n",
       "    </tr>\n",
       "    <tr>\n",
       "      <th>12</th>\n",
       "      <td>3966</td>\n",
       "      <td>Подолян Владислав Денисович</td>\n",
       "      <td>6</td>\n",
       "      <td>3966-&gt;4053-&gt;1627-&gt;3679-&gt;3366-&gt;975</td>\n",
       "    </tr>\n",
       "    <tr>\n",
       "      <th>13</th>\n",
       "      <td>4503</td>\n",
       "      <td>Рыскина Эльмира Ивановна</td>\n",
       "      <td>6</td>\n",
       "      <td>4503-&gt;1455-&gt;3279-&gt;3959-&gt;1766-&gt;1926</td>\n",
       "    </tr>\n",
       "    <tr>\n",
       "      <th>14</th>\n",
       "      <td>975</td>\n",
       "      <td>Недовесков Владимир Иванович</td>\n",
       "      <td>6</td>\n",
       "      <td>975-&gt;3966-&gt;4053-&gt;1627-&gt;3679-&gt;3366</td>\n",
       "    </tr>\n",
       "    <tr>\n",
       "      <th>15</th>\n",
       "      <td>3679</td>\n",
       "      <td>Каехтин Ильдар Эдуардович</td>\n",
       "      <td>6</td>\n",
       "      <td>3679-&gt;3366-&gt;975-&gt;3966-&gt;4053-&gt;1627</td>\n",
       "    </tr>\n",
       "    <tr>\n",
       "      <th>16</th>\n",
       "      <td>1766</td>\n",
       "      <td>Двигубская Валентина Геннадьевна</td>\n",
       "      <td>6</td>\n",
       "      <td>1766-&gt;1926-&gt;4503-&gt;1455-&gt;3279-&gt;3959</td>\n",
       "    </tr>\n",
       "    <tr>\n",
       "      <th>17</th>\n",
       "      <td>1926</td>\n",
       "      <td>Ивашев Вячеслав Игоревич</td>\n",
       "      <td>6</td>\n",
       "      <td>1926-&gt;4503-&gt;1455-&gt;3279-&gt;3959-&gt;1766</td>\n",
       "    </tr>\n",
       "    <tr>\n",
       "      <th>18</th>\n",
       "      <td>3959</td>\n",
       "      <td>Дорожкин Анатолий Егорович</td>\n",
       "      <td>6</td>\n",
       "      <td>3959-&gt;1766-&gt;1926-&gt;4503-&gt;1455-&gt;3279</td>\n",
       "    </tr>\n",
       "    <tr>\n",
       "      <th>19</th>\n",
       "      <td>2042</td>\n",
       "      <td>Нагайцева Анжелика Яновна</td>\n",
       "      <td>5</td>\n",
       "      <td>2042-&gt;3611-&gt;4727-&gt;503-&gt;1098</td>\n",
       "    </tr>\n",
       "    <tr>\n",
       "      <th>20</th>\n",
       "      <td>4727</td>\n",
       "      <td>Мараховская Дарья Романовна</td>\n",
       "      <td>5</td>\n",
       "      <td>4727-&gt;503-&gt;1098-&gt;2042-&gt;3611</td>\n",
       "    </tr>\n",
       "    <tr>\n",
       "      <th>21</th>\n",
       "      <td>1098</td>\n",
       "      <td>Шолохов Игорь Робертович</td>\n",
       "      <td>5</td>\n",
       "      <td>1098-&gt;2042-&gt;3611-&gt;4727-&gt;503</td>\n",
       "    </tr>\n",
       "    <tr>\n",
       "      <th>22</th>\n",
       "      <td>3611</td>\n",
       "      <td>Троекуров Глеб Ефимович</td>\n",
       "      <td>5</td>\n",
       "      <td>3611-&gt;4727-&gt;503-&gt;1098-&gt;2042</td>\n",
       "    </tr>\n",
       "    <tr>\n",
       "      <th>23</th>\n",
       "      <td>503</td>\n",
       "      <td>Пафомова Кира Вадимовна</td>\n",
       "      <td>5</td>\n",
       "      <td>503-&gt;1098-&gt;2042-&gt;3611-&gt;4727</td>\n",
       "    </tr>\n",
       "  </tbody>\n",
       "</table>\n",
       "</div>"
      ],
      "text/plain": [
       "     vid                               name  length  \\\n",
       "0   3710        Торгунаков Роман Кириллович       7   \n",
       "1    503            Пафомова Кира Вадимовна       7   \n",
       "2   4505  Ляуданский Валентин Владиславович       7   \n",
       "3   3611            Троекуров Глеб Ефимович       7   \n",
       "4   4727        Мараховская Дарья Романовна       7   \n",
       "5   2042          Нагайцева Анжелика Яновна       7   \n",
       "6   1098           Шолохов Игорь Робертович       7   \n",
       "7   3279      Батиевская Ангелина Романовна       6   \n",
       "8   4053        Поскребышев Яков Дмитриевич       6   \n",
       "9   1455       Даниленко Владимир Семенович       6   \n",
       "10  1627          Майлина Гульнара Ивановна       6   \n",
       "11  3366            Яцкой Роберт Ильдарович       6   \n",
       "12  3966        Подолян Владислав Денисович       6   \n",
       "13  4503           Рыскина Эльмира Ивановна       6   \n",
       "14   975       Недовесков Владимир Иванович       6   \n",
       "15  3679          Каехтин Ильдар Эдуардович       6   \n",
       "16  1766   Двигубская Валентина Геннадьевна       6   \n",
       "17  1926           Ивашев Вячеслав Игоревич       6   \n",
       "18  3959         Дорожкин Анатолий Егорович       6   \n",
       "19  2042          Нагайцева Анжелика Яновна       5   \n",
       "20  4727        Мараховская Дарья Романовна       5   \n",
       "21  1098           Шолохов Игорь Робертович       5   \n",
       "22  3611            Троекуров Глеб Ефимович       5   \n",
       "23   503            Пафомова Кира Вадимовна       5   \n",
       "\n",
       "                                      cycle  \n",
       "0   3710->1098->2042->3611->4727->503->4505  \n",
       "1   503->4505->3710->1098->2042->3611->4727  \n",
       "2   4505->3710->1098->2042->3611->4727->503  \n",
       "3   3611->4727->503->4505->3710->1098->2042  \n",
       "4   4727->503->4505->3710->1098->2042->3611  \n",
       "5   2042->3611->4727->503->4505->3710->1098  \n",
       "6   1098->2042->3611->4727->503->4505->3710  \n",
       "7        3279->3959->1766->1926->4503->1455  \n",
       "8         4053->1627->3679->3366->975->3966  \n",
       "9        1455->3279->3959->1766->1926->4503  \n",
       "10        1627->3679->3366->975->3966->4053  \n",
       "11        3366->975->3966->4053->1627->3679  \n",
       "12        3966->4053->1627->3679->3366->975  \n",
       "13       4503->1455->3279->3959->1766->1926  \n",
       "14        975->3966->4053->1627->3679->3366  \n",
       "15        3679->3366->975->3966->4053->1627  \n",
       "16       1766->1926->4503->1455->3279->3959  \n",
       "17       1926->4503->1455->3279->3959->1766  \n",
       "18       3959->1766->1926->4503->1455->3279  \n",
       "19              2042->3611->4727->503->1098  \n",
       "20              4727->503->1098->2042->3611  \n",
       "21              1098->2042->3611->4727->503  \n",
       "22              3611->4727->503->1098->2042  \n",
       "23              503->1098->2042->3611->4727  "
      ]
     },
     "execution_count": 13,
     "metadata": {},
     "output_type": "execute_result"
    }
   ],
   "source": [
    "def cycle_count(length=\"1\"):\n",
    "    \"\"\"Вершины, которые входят в цикл длины length\"\"\"\n",
    "    return f\"MATCH p = (v)-[r*{length}]->(v) RETURN id(v) AS vid, v.person.name AS name, length(p) AS length, r AS cycle ORDER BY length DESC\"\n",
    "\n",
    "def path_to_idx(path):\n",
    "    return \"->\".join([e.start_vertex_id().as_string() for e in path])\n",
    "\n",
    "cycles = q(cycle_count(\"2..\"))\n",
    "cycles['cycle'] = cycles.cycle.apply(path_to_idx)\n",
    "cycles"
   ]
  },
  {
   "cell_type": "markdown",
   "metadata": {},
   "source": [
    "В графе есть циклы: один $C_5$, два $C_6$ и один $C_7$. Все вершины цикла длины 5 принадлежат множеству вершин цикла длины 7."
   ]
  },
  {
   "cell_type": "markdown",
   "metadata": {},
   "source": [
    "## <a id='toc4_2_'></a>[Неориентированный граф](#toc0_)\n",
    "### <a id='toc4_2_1_'></a>[Степени вершин](#toc0_)\n",
    "\n",
    "Смежные вершины получаются при `length=\"1\"`, при других значениях - множества достижимости с максимальной длиной пути `length`."
   ]
  },
  {
   "cell_type": "code",
   "execution_count": 14,
   "metadata": {},
   "outputs": [
    {
     "data": {
      "text/html": [
       "<div>\n",
       "<style scoped>\n",
       "    .dataframe tbody tr th:only-of-type {\n",
       "        vertical-align: middle;\n",
       "    }\n",
       "\n",
       "    .dataframe tbody tr th {\n",
       "        vertical-align: top;\n",
       "    }\n",
       "\n",
       "    .dataframe thead th {\n",
       "        text-align: right;\n",
       "    }\n",
       "</style>\n",
       "<table border=\"1\" class=\"dataframe\">\n",
       "  <thead>\n",
       "    <tr style=\"text-align: right;\">\n",
       "      <th></th>\n",
       "      <th>vid</th>\n",
       "      <th>name</th>\n",
       "      <th>deg</th>\n",
       "    </tr>\n",
       "  </thead>\n",
       "  <tbody>\n",
       "    <tr>\n",
       "      <th>0</th>\n",
       "      <td>221</td>\n",
       "      <td>Ахромеева Алина Ивановна</td>\n",
       "      <td>50</td>\n",
       "    </tr>\n",
       "    <tr>\n",
       "      <th>1</th>\n",
       "      <td>341</td>\n",
       "      <td>Башнина Антонина Глебовна</td>\n",
       "      <td>14</td>\n",
       "    </tr>\n",
       "    <tr>\n",
       "      <th>2</th>\n",
       "      <td>873</td>\n",
       "      <td>Медведева Дарья Алексеевна</td>\n",
       "      <td>6</td>\n",
       "    </tr>\n",
       "    <tr>\n",
       "      <th>3</th>\n",
       "      <td>1794</td>\n",
       "      <td>Диомидов Игорь Ильдарович</td>\n",
       "      <td>5</td>\n",
       "    </tr>\n",
       "    <tr>\n",
       "      <th>4</th>\n",
       "      <td>661</td>\n",
       "      <td>Зимнухова Карина Даниловна</td>\n",
       "      <td>5</td>\n",
       "    </tr>\n",
       "  </tbody>\n",
       "</table>\n",
       "</div>"
      ],
      "text/plain": [
       "    vid                        name  deg\n",
       "0   221    Ахромеева Алина Ивановна   50\n",
       "1   341   Башнина Антонина Глебовна   14\n",
       "2   873  Медведева Дарья Алексеевна    6\n",
       "3  1794   Диомидов Игорь Ильдарович    5\n",
       "4   661  Зимнухова Карина Даниловна    5"
      ]
     },
     "execution_count": 14,
     "metadata": {},
     "output_type": "execute_result"
    }
   ],
   "source": [
    "def deg(vid, length=\"1\"):\n",
    "    \"\"\"Вершины, которые принадлежат пути длины length\"\"\"\n",
    "    return f\"MATCH (v1)-[e:r*{length}]-(v2) WHERE id(v1) == '{vid}' RETURN id(v2) AS vid, v2.person.name AS name;\"\n",
    "\n",
    "def deg_count(length=\"1\"):\n",
    "    \"\"\"Количество вершин, которое достижимо из данной вершины\"\"\"\n",
    "    return f\"MATCH (v1:person)-[r*{length}]-(v2:person) RETURN id(v1) as vid, v1.person.name AS name, COUNT(*) as deg ORDER BY deg DESC;\"\n",
    "\n",
    "degs = q(deg_count(\"1\"))\n",
    "degs.head()"
   ]
  },
  {
   "cell_type": "code",
   "execution_count": 15,
   "metadata": {},
   "outputs": [
    {
     "data": {
      "text/plain": [
       "27"
      ]
     },
     "execution_count": 15,
     "metadata": {},
     "output_type": "execute_result"
    }
   ],
   "source": [
    "degs[degs['deg'] > 1].shape[0]"
   ]
  },
  {
   "cell_type": "markdown",
   "metadata": {},
   "source": [
    "### <a id='toc4_2_2_'></a>[Циклы и компоненты связности](#toc0_)"
   ]
  },
  {
   "cell_type": "code",
   "execution_count": 16,
   "metadata": {},
   "outputs": [
    {
     "data": {
      "text/plain": [
       "2.357142857142857"
      ]
     },
     "execution_count": 16,
     "metadata": {},
     "output_type": "execute_result"
    }
   ],
   "source": [
    "def cycle1_count(length=\"1\"):\n",
    "    \"\"\"Вершины, которые входят в цикл длины length\"\"\"\n",
    "    return f\"MATCH p = (v)-[r*{length}]-(v) RETURN id(v) AS vid, v.person.name AS name, length(p) AS length, r AS relations ORDER BY length DESC;\"\n",
    "\n",
    "def path1_to_vid(vid, path, to_set=False):\n",
    "    \"\"\"Путь из произвольно ориентированных ребер в последовательность вершин\n",
    "    - если хотим группировать по множеству вершин цикла, то через frozenset хешируемый тип\"\"\"\n",
    "\n",
    "    result = [None] * len(path)\n",
    "    result[0], prev = vid, vid\n",
    "\n",
    "    for i in range(len(path)):\n",
    "        if prev == path[i].start_vertex_id().as_string():\n",
    "            nxt = path[i].end_vertex_id().as_string()\n",
    "        else:\n",
    "            nxt = path[i].start_vertex_id().as_string()\n",
    "        if i > 0: result[i] = prev\n",
    "        prev = nxt\n",
    "    return frozenset(result) if to_set else \"-\".join(result)\n",
    "\n",
    "\n",
    "cycles1 = q(cycle1_count(\"1..\"))\n",
    "cycles1['cycle'] = cycles1.apply(lambda x: path1_to_vid(x.vid, x.relations), axis=1)\n",
    "cycles1['nodes'] = cycles1.apply(lambda x: path1_to_vid(x.vid, x.relations, to_set=True), axis=1)\n",
    "\n",
    "\n",
    "# добавим в датафрейм степень вершины, может пригодиться\n",
    "cycle_degs = pd.merge(cycles1.vid, degs, on='vid', how=\"left\")   \n",
    "cycles1[\"deg\"] = cycle_degs[\"deg\"]\n",
    "\n",
    "cycles1[[\"vid\", \"name\", \"deg\", \"length\", \"cycle\", \"nodes\"]]\n",
    "\n",
    "cycles1['deg'].mean()"
   ]
  },
  {
   "cell_type": "markdown",
   "metadata": {},
   "source": [
    "Степени вершин, входящих в циклы, не превышают 4 и в целом большинство их них имеют степень 2, т.е. они не имеют связи с другими вершинами графа"
   ]
  },
  {
   "cell_type": "code",
   "execution_count": 17,
   "metadata": {},
   "outputs": [
    {
     "data": {
      "text/html": [
       "<div>\n",
       "<style scoped>\n",
       "    .dataframe tbody tr th:only-of-type {\n",
       "        vertical-align: middle;\n",
       "    }\n",
       "\n",
       "    .dataframe tbody tr th {\n",
       "        vertical-align: top;\n",
       "    }\n",
       "\n",
       "    .dataframe thead th {\n",
       "        text-align: right;\n",
       "    }\n",
       "</style>\n",
       "<table border=\"1\" class=\"dataframe\">\n",
       "  <thead>\n",
       "    <tr style=\"text-align: right;\">\n",
       "      <th></th>\n",
       "      <th>cycle</th>\n",
       "      <th>length</th>\n",
       "    </tr>\n",
       "    <tr>\n",
       "      <th>nodes</th>\n",
       "      <th></th>\n",
       "      <th></th>\n",
       "    </tr>\n",
       "  </thead>\n",
       "  <tbody>\n",
       "    <tr>\n",
       "      <th>(4505, 503, 1098, 3611, 3710, 2042, 4727)</th>\n",
       "      <td>3611-4727-503-4505-3710-1098-2042</td>\n",
       "      <td>7</td>\n",
       "    </tr>\n",
       "    <tr>\n",
       "      <th>(3679, 1627, 3966, 3366, 4053, 975)</th>\n",
       "      <td>3366-975-3966-4053-1627-3679</td>\n",
       "      <td>6</td>\n",
       "    </tr>\n",
       "    <tr>\n",
       "      <th>(1455, 1926, 1766, 3959, 4503, 3279)</th>\n",
       "      <td>4503-1455-3279-3959-1766-1926</td>\n",
       "      <td>6</td>\n",
       "    </tr>\n",
       "    <tr>\n",
       "      <th>(503, 1098, 3611, 2042, 4727)</th>\n",
       "      <td>3611-4727-503-1098-2042</td>\n",
       "      <td>5</td>\n",
       "    </tr>\n",
       "    <tr>\n",
       "      <th>(3710, 503, 4505, 1098)</th>\n",
       "      <td>4505-503-1098-3710</td>\n",
       "      <td>4</td>\n",
       "    </tr>\n",
       "  </tbody>\n",
       "</table>\n",
       "</div>"
      ],
      "text/plain": [
       "                                                                       cycle  \\\n",
       "nodes                                                                          \n",
       "(4505, 503, 1098, 3611, 3710, 2042, 4727)  3611-4727-503-4505-3710-1098-2042   \n",
       "(3679, 1627, 3966, 3366, 4053, 975)             3366-975-3966-4053-1627-3679   \n",
       "(1455, 1926, 1766, 3959, 4503, 3279)           4503-1455-3279-3959-1766-1926   \n",
       "(503, 1098, 3611, 2042, 4727)                        3611-4727-503-1098-2042   \n",
       "(3710, 503, 4505, 1098)                                   4505-503-1098-3710   \n",
       "\n",
       "                                           length  \n",
       "nodes                                              \n",
       "(4505, 503, 1098, 3611, 3710, 2042, 4727)       7  \n",
       "(3679, 1627, 3966, 3366, 4053, 975)             6  \n",
       "(1455, 1926, 1766, 3959, 4503, 3279)            6  \n",
       "(503, 1098, 3611, 2042, 4727)                   5  \n",
       "(3710, 503, 4505, 1098)                         4  "
      ]
     },
     "execution_count": 17,
     "metadata": {},
     "output_type": "execute_result"
    }
   ],
   "source": [
    "cycles1.groupby(by = \"nodes\").first()[[\"cycle\", \"length\"]]"
   ]
  },
  {
   "cell_type": "markdown",
   "metadata": {},
   "source": [
    "В неор.графе есть циклы длины 4, 5, 6, 7. Есть циклы нечетной длины => граф не является двудольным (нельзя разделить множество вершин графа на два подмножества, внутри которых все вершины попарно несвязаны).\n",
    "\n",
    "К циклам ор.графа, которые по множеству вершин должны входить в циклы неор.графа, добавился неор.цикл длины 4\n",
    "- это возможно только в случае, когда в ор.графе есть 2 соединенные ребром вершины не входящие в цикл длины 5, и связанные с двумя соединенными ребром вершинами цикла длины 5\n",
    "    - это вершины 3710 и 4505"
   ]
  },
  {
   "cell_type": "code",
   "execution_count": 18,
   "metadata": {},
   "outputs": [
    {
     "data": {
      "text/html": [
       "<div>\n",
       "<style scoped>\n",
       "    .dataframe tbody tr th:only-of-type {\n",
       "        vertical-align: middle;\n",
       "    }\n",
       "\n",
       "    .dataframe tbody tr th {\n",
       "        vertical-align: top;\n",
       "    }\n",
       "\n",
       "    .dataframe thead th {\n",
       "        text-align: right;\n",
       "    }\n",
       "</style>\n",
       "<table border=\"1\" class=\"dataframe\">\n",
       "  <thead>\n",
       "    <tr style=\"text-align: right;\">\n",
       "      <th></th>\n",
       "      <th>vid</th>\n",
       "      <th>cc_power</th>\n",
       "    </tr>\n",
       "  </thead>\n",
       "  <tbody>\n",
       "    <tr>\n",
       "      <th>0</th>\n",
       "      <td>7008</td>\n",
       "      <td>51</td>\n",
       "    </tr>\n",
       "    <tr>\n",
       "      <th>1</th>\n",
       "      <td>5205</td>\n",
       "      <td>51</td>\n",
       "    </tr>\n",
       "    <tr>\n",
       "      <th>2</th>\n",
       "      <td>7872</td>\n",
       "      <td>51</td>\n",
       "    </tr>\n",
       "    <tr>\n",
       "      <th>3</th>\n",
       "      <td>5151</td>\n",
       "      <td>51</td>\n",
       "    </tr>\n",
       "    <tr>\n",
       "      <th>4</th>\n",
       "      <td>7064</td>\n",
       "      <td>51</td>\n",
       "    </tr>\n",
       "    <tr>\n",
       "      <th>...</th>\n",
       "      <td>...</td>\n",
       "      <td>...</td>\n",
       "    </tr>\n",
       "    <tr>\n",
       "      <th>100</th>\n",
       "      <td>3366</td>\n",
       "      <td>6</td>\n",
       "    </tr>\n",
       "    <tr>\n",
       "      <th>101</th>\n",
       "      <td>3679</td>\n",
       "      <td>6</td>\n",
       "    </tr>\n",
       "    <tr>\n",
       "      <th>102</th>\n",
       "      <td>3966</td>\n",
       "      <td>6</td>\n",
       "    </tr>\n",
       "    <tr>\n",
       "      <th>103</th>\n",
       "      <td>4053</td>\n",
       "      <td>6</td>\n",
       "    </tr>\n",
       "    <tr>\n",
       "      <th>104</th>\n",
       "      <td>975</td>\n",
       "      <td>6</td>\n",
       "    </tr>\n",
       "  </tbody>\n",
       "</table>\n",
       "<p>105 rows × 2 columns</p>\n",
       "</div>"
      ],
      "text/plain": [
       "      vid  cc_power\n",
       "0    7008        51\n",
       "1    5205        51\n",
       "2    7872        51\n",
       "3    5151        51\n",
       "4    7064        51\n",
       "..    ...       ...\n",
       "100  3366         6\n",
       "101  3679         6\n",
       "102  3966         6\n",
       "103  4053         6\n",
       "104   975         6\n",
       "\n",
       "[105 rows x 2 columns]"
      ]
     },
     "execution_count": 18,
     "metadata": {},
     "output_type": "execute_result"
    }
   ],
   "source": [
    "def cc(vid):\n",
    "    \"\"\"Вершины, принадлежащие одной компоненте связаности с vid\"\"\"\n",
    "    return f\"MATCH p = (v)-[r*1..]-() WHERE id(v) == '{vid}' WITH v, nodes(p) AS n UNWIND n AS n1 RETURN id(v) AS vid, collect(DISTINCT n1) AS connected;\"\n",
    "\n",
    "def cс_count():\n",
    "    \"\"\"Мощности компоненты связности, которой принадлежит данная вершина\"\"\"\n",
    "    return f\"MATCH p = (v)-[r*1..]-() WITH v, nodes(p) AS n UNWIND n AS n1 RETURN DISTINCT id(v) AS vid, COUNT(DISTINCT n1) AS cc_power ORDER BY cc_power DESC;\"\n",
    "\n",
    "cc_powers = q(cс_count())\n",
    "\n",
    "cc_powers[cc_powers.cc_power > 2]"
   ]
  },
  {
   "cell_type": "code",
   "execution_count": 19,
   "metadata": {},
   "outputs": [
    {
     "data": {
      "text/plain": [
       "array([51, 15, 13,  7,  6,  2])"
      ]
     },
     "execution_count": 19,
     "metadata": {},
     "output_type": "execute_result"
    }
   ],
   "source": [
    "cc_powers.cc_power.unique()"
   ]
  },
  {
   "cell_type": "markdown",
   "metadata": {},
   "source": [
    "Кроме тривиальных компонент связности из 2 вершин граф включает к.с. из 51, 15, 13, 7,  6 вершин."
   ]
  },
  {
   "cell_type": "markdown",
   "metadata": {},
   "source": [
    "## <a id='toc4_3_'></a>[Визуализация](#toc0_)\n",
    "\n",
    "Основные варианты визуализации графовых данных:\n",
    "\n",
    "- python + graphviz\n",
    "- NebulaGraph Explorer (платная лицензия или триал)\n",
    "- сторонние инструменты визуализации Gephi и т.п.\n",
    "\n",
    "Нам больше по душе python + graphviz"
   ]
  },
  {
   "cell_type": "code",
   "execution_count": 20,
   "metadata": {},
   "outputs": [],
   "source": [
    "from graphviz import Digraph\n",
    "\n",
    "compact_nodes = {'shape':'circle', 'fixedsize':'true','fontsize':\"6\", 'width':'0.25', 'height':'0.25', 'color': 'lightgreen', 'style': 'filled'}\n",
    "\n",
    "def draw(nodes, edges, red_nodes=(),\n",
    "         engine='dot', # ['circo', 'dot', 'fdp', 'neato', 'osage', 'patchwork', 'sfdp', 'twopi']\n",
    "         node_attr=compact_nodes, \n",
    "         edge_attr={'fontsize':\"10\", 'arrowsize':'0.5'},\n",
    "        ): \n",
    "    \"\"\"Рисует граф заданный nodes, edges\"\"\"\n",
    "    dot = Digraph(engine=engine, node_attr=node_attr, edge_attr=edge_attr)\n",
    "    [dot.node(node, color='red') if node in red_nodes else dot.node(node) for node in nodes]\n",
    "    [dot.edge(*edge, color='red') if edge[0] in red_nodes else dot.edge(*edge) for edge in edges]\n",
    "\n",
    "    return dot"
   ]
  },
  {
   "cell_type": "markdown",
   "metadata": {},
   "source": [
    "- ребра, соединяющие вершины, из которых хотя бы одна не является листом"
   ]
  },
  {
   "cell_type": "code",
   "execution_count": 21,
   "metadata": {},
   "outputs": [
    {
     "data": {
      "image/svg+xml": "<?xml version=\"1.0\" encoding=\"UTF-8\" standalone=\"no\"?>\n<!DOCTYPE svg PUBLIC \"-//W3C//DTD SVG 1.1//EN\"\n \"http://www.w3.org/Graphics/SVG/1.1/DTD/svg11.dtd\">\n<!-- Generated by graphviz version 3.0.0 (0)\n -->\n<!-- Pages: 1 -->\n<svg width=\"702pt\" height=\"700pt\"\n viewBox=\"0.00 0.00 702.27 700.47\" xmlns=\"http://www.w3.org/2000/svg\" xmlns:xlink=\"http://www.w3.org/1999/xlink\">\n<g id=\"graph0\" class=\"graph\" transform=\"scale(1 1) rotate(0) translate(4 696.47)\">\n<polygon fill=\"white\" stroke=\"transparent\" points=\"-4,4 -4,-696.47 698.27,-696.47 698.27,4 -4,4\"/>\n<!-- 873 -->\n<g id=\"node1\" class=\"node\">\n<title>873</title>\n<ellipse fill=\"lightgreen\" stroke=\"lightgreen\" cx=\"109.78\" cy=\"-120.51\" rx=\"9\" ry=\"9\"/>\n<text text-anchor=\"middle\" x=\"109.78\" y=\"-119.21\" font-family=\"Times,serif\" font-size=\"6.00\">873</text>\n</g>\n<!-- 5807 -->\n<g id=\"node12\" class=\"node\">\n<title>5807</title>\n<ellipse fill=\"lightgreen\" stroke=\"lightgreen\" cx=\"109.62\" cy=\"-38\" rx=\"9\" ry=\"9\"/>\n<text text-anchor=\"middle\" x=\"109.62\" y=\"-36.7\" font-family=\"Times,serif\" font-size=\"6.00\">5807</text>\n</g>\n<!-- 873&#45;&gt;5807 -->\n<g id=\"edge88\" class=\"edge\">\n<title>873&#45;&gt;5807</title>\n<path fill=\"none\" stroke=\"black\" d=\"M109.76,-111.37C109.74,-97.12 109.68,-69.49 109.65,-52.51\"/>\n<polygon fill=\"black\" stroke=\"black\" points=\"111.4,-52.18 109.64,-47.19 107.9,-52.19 111.4,-52.18\"/>\n</g>\n<!-- 3968 -->\n<g id=\"node2\" class=\"node\">\n<title>3968</title>\n<ellipse fill=\"red\" stroke=\"red\" cx=\"480.13\" cy=\"-306.82\" rx=\"9\" ry=\"9\"/>\n<text text-anchor=\"middle\" x=\"480.13\" y=\"-305.52\" font-family=\"Times,serif\" font-size=\"6.00\">3968</text>\n</g>\n<!-- 221 -->\n<g id=\"node88\" class=\"node\">\n<title>221</title>\n<ellipse fill=\"lightgreen\" stroke=\"lightgreen\" cx=\"580.15\" cy=\"-347.19\" rx=\"9\" ry=\"9\"/>\n<text text-anchor=\"middle\" x=\"580.15\" y=\"-345.89\" font-family=\"Times,serif\" font-size=\"6.00\">221</text>\n</g>\n<!-- 3968&#45;&gt;221 -->\n<g id=\"edge40\" class=\"edge\">\n<title>3968&#45;&gt;221</title>\n<path fill=\"none\" stroke=\"red\" d=\"M488.66,-310.26C506.08,-317.29 545.87,-333.35 566.76,-341.78\"/>\n<polygon fill=\"red\" stroke=\"red\" points=\"566.35,-343.5 571.65,-343.75 567.66,-340.26 566.35,-343.5\"/>\n</g>\n<!-- 9160 -->\n<g id=\"node3\" class=\"node\">\n<title>9160</title>\n<ellipse fill=\"lightgreen\" stroke=\"lightgreen\" cx=\"649.16\" cy=\"-326.29\" rx=\"9\" ry=\"9\"/>\n<text text-anchor=\"middle\" x=\"649.16\" y=\"-324.99\" font-family=\"Times,serif\" font-size=\"6.00\">9160</text>\n</g>\n<!-- 6616 -->\n<g id=\"node4\" class=\"node\">\n<title>6616</title>\n<ellipse fill=\"lightgreen\" stroke=\"lightgreen\" cx=\"562.97\" cy=\"-241\" rx=\"9\" ry=\"9\"/>\n<text text-anchor=\"middle\" x=\"562.97\" y=\"-239.7\" font-family=\"Times,serif\" font-size=\"6.00\">6616</text>\n</g>\n<!-- 7321 -->\n<g id=\"node5\" class=\"node\">\n<title>7321</title>\n<ellipse fill=\"lightgreen\" stroke=\"lightgreen\" cx=\"9\" cy=\"-596.6\" rx=\"9\" ry=\"9\"/>\n<text text-anchor=\"middle\" x=\"9\" y=\"-595.3\" font-family=\"Times,serif\" font-size=\"6.00\">7321</text>\n</g>\n<!-- 9202 -->\n<g id=\"node6\" class=\"node\">\n<title>9202</title>\n<ellipse fill=\"lightgreen\" stroke=\"lightgreen\" cx=\"543.15\" cy=\"-444.16\" rx=\"9\" ry=\"9\"/>\n<text text-anchor=\"middle\" x=\"543.15\" y=\"-442.86\" font-family=\"Times,serif\" font-size=\"6.00\">9202</text>\n</g>\n<!-- 9105 -->\n<g id=\"node7\" class=\"node\">\n<title>9105</title>\n<ellipse fill=\"lightgreen\" stroke=\"lightgreen\" cx=\"620.48\" cy=\"-323.19\" rx=\"9\" ry=\"9\"/>\n<text text-anchor=\"middle\" x=\"620.48\" y=\"-321.89\" font-family=\"Times,serif\" font-size=\"6.00\">9105</text>\n</g>\n<!-- 450 -->\n<g id=\"node8\" class=\"node\">\n<title>450</title>\n<ellipse fill=\"lightgreen\" stroke=\"lightgreen\" cx=\"181.18\" cy=\"-79.01\" rx=\"9\" ry=\"9\"/>\n<text text-anchor=\"middle\" x=\"181.18\" y=\"-77.71\" font-family=\"Times,serif\" font-size=\"6.00\">450</text>\n</g>\n<!-- 450&#45;&gt;873 -->\n<g id=\"edge89\" class=\"edge\">\n<title>450&#45;&gt;873</title>\n<path fill=\"none\" stroke=\"black\" d=\"M173.26,-83.61C161,-90.74 137.28,-104.53 122.57,-113.08\"/>\n<polygon fill=\"black\" stroke=\"black\" points=\"121.39,-111.74 117.95,-115.76 123.15,-114.76 121.39,-111.74\"/>\n</g>\n<!-- 3966 -->\n<g id=\"node9\" class=\"node\">\n<title>3966</title>\n<ellipse fill=\"lightgreen\" stroke=\"lightgreen\" cx=\"502\" cy=\"-71.45\" rx=\"9\" ry=\"9\"/>\n<text text-anchor=\"middle\" x=\"502\" y=\"-70.15\" font-family=\"Times,serif\" font-size=\"6.00\">3966</text>\n</g>\n<!-- 4053 -->\n<g id=\"node67\" class=\"node\">\n<title>4053</title>\n<ellipse fill=\"lightgreen\" stroke=\"lightgreen\" cx=\"552.47\" cy=\"-9\" rx=\"9\" ry=\"9\"/>\n<text text-anchor=\"middle\" x=\"552.47\" y=\"-7.7\" font-family=\"Times,serif\" font-size=\"6.00\">4053</text>\n</g>\n<!-- 3966&#45;&gt;4053 -->\n<g id=\"edge10\" class=\"edge\">\n<title>3966&#45;&gt;4053</title>\n<path fill=\"none\" stroke=\"black\" d=\"M507.79,-64.28C516.54,-53.46 533.19,-32.85 543.51,-20.08\"/>\n<polygon fill=\"black\" stroke=\"black\" points=\"544.97,-21.07 546.75,-16.08 542.25,-18.87 544.97,-21.07\"/>\n</g>\n<!-- 3710 -->\n<g id=\"node10\" class=\"node\">\n<title>3710</title>\n<ellipse fill=\"lightgreen\" stroke=\"lightgreen\" cx=\"252.73\" cy=\"-563.14\" rx=\"9\" ry=\"9\"/>\n<text text-anchor=\"middle\" x=\"252.73\" y=\"-561.84\" font-family=\"Times,serif\" font-size=\"6.00\">3710</text>\n</g>\n<!-- 1098 -->\n<g id=\"node37\" class=\"node\">\n<title>1098</title>\n<ellipse fill=\"lightgreen\" stroke=\"lightgreen\" cx=\"336.03\" cy=\"-540.81\" rx=\"9\" ry=\"9\"/>\n<text text-anchor=\"middle\" x=\"336.03\" y=\"-539.51\" font-family=\"Times,serif\" font-size=\"6.00\">1098</text>\n</g>\n<!-- 3710&#45;&gt;1098 -->\n<g id=\"edge7\" class=\"edge\">\n<title>3710&#45;&gt;1098</title>\n<path fill=\"none\" stroke=\"black\" d=\"M261.65,-560.75C276.18,-556.86 305.06,-549.11 322.25,-544.51\"/>\n<polygon fill=\"black\" stroke=\"black\" points=\"322.8,-546.17 327.18,-543.19 321.89,-542.79 322.8,-546.17\"/>\n</g>\n<!-- 2901 -->\n<g id=\"node11\" class=\"node\">\n<title>2901</title>\n<ellipse fill=\"lightgreen\" stroke=\"lightgreen\" cx=\"161.96\" cy=\"-273.26\" rx=\"9\" ry=\"9\"/>\n<text text-anchor=\"middle\" x=\"161.96\" y=\"-271.96\" font-family=\"Times,serif\" font-size=\"6.00\">2901</text>\n</g>\n<!-- 4804 -->\n<g id=\"node30\" class=\"node\">\n<title>4804</title>\n<ellipse fill=\"lightgreen\" stroke=\"lightgreen\" cx=\"230.02\" cy=\"-237.8\" rx=\"9\" ry=\"9\"/>\n<text text-anchor=\"middle\" x=\"230.02\" y=\"-236.5\" font-family=\"Times,serif\" font-size=\"6.00\">4804</text>\n</g>\n<!-- 2901&#45;&gt;4804 -->\n<g id=\"edge12\" class=\"edge\">\n<title>2901&#45;&gt;4804</title>\n<path fill=\"none\" stroke=\"black\" d=\"M170.04,-269.05C181.7,-262.98 203.39,-251.68 217.24,-244.46\"/>\n<polygon fill=\"black\" stroke=\"black\" points=\"218.33,-245.87 221.96,-242 216.72,-242.76 218.33,-245.87\"/>\n</g>\n<!-- 7139 -->\n<g id=\"node13\" class=\"node\">\n<title>7139</title>\n<ellipse fill=\"lightgreen\" stroke=\"lightgreen\" cx=\"521.73\" cy=\"-344.42\" rx=\"9\" ry=\"9\"/>\n<text text-anchor=\"middle\" x=\"521.73\" y=\"-343.12\" font-family=\"Times,serif\" font-size=\"6.00\">7139</text>\n</g>\n<!-- 4727 -->\n<g id=\"node14\" class=\"node\">\n<title>4727</title>\n<ellipse fill=\"lightgreen\" stroke=\"lightgreen\" cx=\"372.95\" cy=\"-681.26\" rx=\"9\" ry=\"9\"/>\n<text text-anchor=\"middle\" x=\"372.95\" y=\"-679.96\" font-family=\"Times,serif\" font-size=\"6.00\">4727</text>\n</g>\n<!-- 503 -->\n<g id=\"node99\" class=\"node\">\n<title>503</title>\n<ellipse fill=\"lightgreen\" stroke=\"lightgreen\" cx=\"318.65\" cy=\"-621.21\" rx=\"9\" ry=\"9\"/>\n<text text-anchor=\"middle\" x=\"318.65\" y=\"-619.91\" font-family=\"Times,serif\" font-size=\"6.00\">503</text>\n</g>\n<!-- 4727&#45;&gt;503 -->\n<g id=\"edge15\" class=\"edge\">\n<title>4727&#45;&gt;503</title>\n<path fill=\"none\" stroke=\"black\" d=\"M366.72,-674.37C357.31,-663.96 339.39,-644.15 328.29,-631.87\"/>\n<polygon fill=\"black\" stroke=\"black\" points=\"329.46,-630.55 324.81,-628.02 326.86,-632.9 329.46,-630.55\"/>\n</g>\n<!-- 9198 -->\n<g id=\"node15\" class=\"node\">\n<title>9198</title>\n<ellipse fill=\"lightgreen\" stroke=\"lightgreen\" cx=\"169.26\" cy=\"-587.41\" rx=\"9\" ry=\"9\"/>\n<text text-anchor=\"middle\" x=\"169.26\" y=\"-586.11\" font-family=\"Times,serif\" font-size=\"6.00\">9198</text>\n</g>\n<!-- 9178 -->\n<g id=\"node16\" class=\"node\">\n<title>9178</title>\n<ellipse fill=\"lightgreen\" stroke=\"lightgreen\" cx=\"502.88\" cy=\"-274.23\" rx=\"9\" ry=\"9\"/>\n<text text-anchor=\"middle\" x=\"502.88\" y=\"-272.93\" font-family=\"Times,serif\" font-size=\"6.00\">9178</text>\n</g>\n<!-- 7711 -->\n<g id=\"node17\" class=\"node\">\n<title>7711</title>\n<ellipse fill=\"lightgreen\" stroke=\"lightgreen\" cx=\"68.16\" cy=\"-502\" rx=\"9\" ry=\"9\"/>\n<text text-anchor=\"middle\" x=\"68.16\" y=\"-500.7\" font-family=\"Times,serif\" font-size=\"6.00\">7711</text>\n</g>\n<!-- 7872 -->\n<g id=\"node18\" class=\"node\">\n<title>7872</title>\n<ellipse fill=\"lightgreen\" stroke=\"lightgreen\" cx=\"654.81\" cy=\"-275.55\" rx=\"9\" ry=\"9\"/>\n<text text-anchor=\"middle\" x=\"654.81\" y=\"-274.25\" font-family=\"Times,serif\" font-size=\"6.00\">7872</text>\n</g>\n<!-- 6779 -->\n<g id=\"node19\" class=\"node\">\n<title>6779</title>\n<ellipse fill=\"lightgreen\" stroke=\"lightgreen\" cx=\"553.89\" cy=\"-258.07\" rx=\"9\" ry=\"9\"/>\n<text text-anchor=\"middle\" x=\"553.89\" y=\"-256.77\" font-family=\"Times,serif\" font-size=\"6.00\">6779</text>\n</g>\n<!-- 5151 -->\n<g id=\"node20\" class=\"node\">\n<title>5151</title>\n<ellipse fill=\"lightgreen\" stroke=\"lightgreen\" cx=\"618.05\" cy=\"-251.34\" rx=\"9\" ry=\"9\"/>\n<text text-anchor=\"middle\" x=\"618.05\" y=\"-250.04\" font-family=\"Times,serif\" font-size=\"6.00\">5151</text>\n</g>\n<!-- 6847 -->\n<g id=\"node21\" class=\"node\">\n<title>6847</title>\n<ellipse fill=\"lightgreen\" stroke=\"lightgreen\" cx=\"46.09\" cy=\"-663.12\" rx=\"9\" ry=\"9\"/>\n<text text-anchor=\"middle\" x=\"46.09\" y=\"-661.82\" font-family=\"Times,serif\" font-size=\"6.00\">6847</text>\n</g>\n<!-- 6821 -->\n<g id=\"node22\" class=\"node\">\n<title>6821</title>\n<ellipse fill=\"lightgreen\" stroke=\"lightgreen\" cx=\"117.04\" cy=\"-663.98\" rx=\"9\" ry=\"9\"/>\n<text text-anchor=\"middle\" x=\"117.04\" y=\"-662.68\" font-family=\"Times,serif\" font-size=\"6.00\">6821</text>\n</g>\n<!-- 3679 -->\n<g id=\"node23\" class=\"node\">\n<title>3679</title>\n<ellipse fill=\"lightgreen\" stroke=\"lightgreen\" cx=\"660.98\" cy=\"-95.74\" rx=\"9\" ry=\"9\"/>\n<text text-anchor=\"middle\" x=\"660.98\" y=\"-94.44\" font-family=\"Times,serif\" font-size=\"6.00\">3679</text>\n</g>\n<!-- 3366 -->\n<g id=\"node32\" class=\"node\">\n<title>3366</title>\n<ellipse fill=\"lightgreen\" stroke=\"lightgreen\" cx=\"610.63\" cy=\"-158.29\" rx=\"9\" ry=\"9\"/>\n<text text-anchor=\"middle\" x=\"610.63\" y=\"-156.99\" font-family=\"Times,serif\" font-size=\"6.00\">3366</text>\n</g>\n<!-- 3679&#45;&gt;3366 -->\n<g id=\"edge18\" class=\"edge\">\n<title>3679&#45;&gt;3366</title>\n<path fill=\"none\" stroke=\"black\" d=\"M655.2,-102.91C646.48,-113.75 629.86,-134.4 619.57,-147.19\"/>\n<polygon fill=\"black\" stroke=\"black\" points=\"618.11,-146.21 616.34,-151.2 620.84,-148.4 618.11,-146.21\"/>\n</g>\n<!-- 7755 -->\n<g id=\"node24\" class=\"node\">\n<title>7755</title>\n<ellipse fill=\"lightgreen\" stroke=\"lightgreen\" cx=\"579.37\" cy=\"-262.3\" rx=\"9\" ry=\"9\"/>\n<text text-anchor=\"middle\" x=\"579.37\" y=\"-261\" font-family=\"Times,serif\" font-size=\"6.00\">7755</text>\n</g>\n<!-- 6533 -->\n<g id=\"node25\" class=\"node\">\n<title>6533</title>\n<ellipse fill=\"lightgreen\" stroke=\"lightgreen\" cx=\"473\" cy=\"-358.49\" rx=\"9\" ry=\"9\"/>\n<text text-anchor=\"middle\" x=\"473\" y=\"-357.19\" font-family=\"Times,serif\" font-size=\"6.00\">6533</text>\n</g>\n<!-- 8790 -->\n<g id=\"node26\" class=\"node\">\n<title>8790</title>\n<ellipse fill=\"lightgreen\" stroke=\"lightgreen\" cx=\"683.66\" cy=\"-330.88\" rx=\"9\" ry=\"9\"/>\n<text text-anchor=\"middle\" x=\"683.66\" y=\"-329.58\" font-family=\"Times,serif\" font-size=\"6.00\">8790</text>\n</g>\n<!-- 1627 -->\n<g id=\"node27\" class=\"node\">\n<title>1627</title>\n<ellipse fill=\"lightgreen\" stroke=\"lightgreen\" cx=\"631.88\" cy=\"-20.91\" rx=\"9\" ry=\"9\"/>\n<text text-anchor=\"middle\" x=\"631.88\" y=\"-19.61\" font-family=\"Times,serif\" font-size=\"6.00\">1627</text>\n</g>\n<!-- 1627&#45;&gt;3679 -->\n<g id=\"edge19\" class=\"edge\">\n<title>1627&#45;&gt;3679</title>\n<path fill=\"none\" stroke=\"black\" d=\"M635.22,-29.5C640.26,-42.47 649.86,-67.16 655.81,-82.46\"/>\n<polygon fill=\"black\" stroke=\"black\" points=\"654.23,-83.23 657.68,-87.25 657.5,-81.96 654.23,-83.23\"/>\n</g>\n<!-- 5594 -->\n<g id=\"node28\" class=\"node\">\n<title>5594</title>\n<ellipse fill=\"lightgreen\" stroke=\"lightgreen\" cx=\"456.16\" cy=\"-187.28\" rx=\"9\" ry=\"9\"/>\n<text text-anchor=\"middle\" x=\"456.16\" y=\"-185.98\" font-family=\"Times,serif\" font-size=\"6.00\">5594</text>\n</g>\n<!-- 5616 -->\n<g id=\"node29\" class=\"node\">\n<title>5616</title>\n<ellipse fill=\"lightgreen\" stroke=\"lightgreen\" cx=\"651.01\" cy=\"-385.07\" rx=\"9\" ry=\"9\"/>\n<text text-anchor=\"middle\" x=\"651.01\" y=\"-383.77\" font-family=\"Times,serif\" font-size=\"6.00\">5616</text>\n</g>\n<!-- 1733 -->\n<g id=\"node56\" class=\"node\">\n<title>1733</title>\n<ellipse fill=\"lightgreen\" stroke=\"lightgreen\" cx=\"300.54\" cy=\"-207.54\" rx=\"9\" ry=\"9\"/>\n<text text-anchor=\"middle\" x=\"300.54\" y=\"-206.24\" font-family=\"Times,serif\" font-size=\"6.00\">1733</text>\n</g>\n<!-- 4804&#45;&gt;1733 -->\n<g id=\"edge13\" class=\"edge\">\n<title>4804&#45;&gt;1733</title>\n<path fill=\"none\" stroke=\"black\" d=\"M238.39,-234.21C250.48,-229.03 272.95,-219.39 287.3,-213.23\"/>\n<polygon fill=\"black\" stroke=\"black\" points=\"288.28,-214.71 292.19,-211.13 286.9,-211.49 288.28,-214.71\"/>\n</g>\n<!-- 9155 -->\n<g id=\"node31\" class=\"node\">\n<title>9155</title>\n<ellipse fill=\"lightgreen\" stroke=\"lightgreen\" cx=\"580.96\" cy=\"-445.24\" rx=\"9\" ry=\"9\"/>\n<text text-anchor=\"middle\" x=\"580.96\" y=\"-443.94\" font-family=\"Times,serif\" font-size=\"6.00\">9155</text>\n</g>\n<!-- 975 -->\n<g id=\"node89\" class=\"node\">\n<title>975</title>\n<ellipse fill=\"lightgreen\" stroke=\"lightgreen\" cx=\"531.25\" cy=\"-146.21\" rx=\"9\" ry=\"9\"/>\n<text text-anchor=\"middle\" x=\"531.25\" y=\"-144.91\" font-family=\"Times,serif\" font-size=\"6.00\">975</text>\n</g>\n<!-- 3366&#45;&gt;975 -->\n<g id=\"edge28\" class=\"edge\">\n<title>3366&#45;&gt;975</title>\n<path fill=\"none\" stroke=\"black\" d=\"M601.53,-156.91C587.77,-154.81 561.57,-150.82 545.34,-148.35\"/>\n<polygon fill=\"black\" stroke=\"black\" points=\"545.46,-146.6 540.25,-147.58 544.93,-150.06 545.46,-146.6\"/>\n</g>\n<!-- 547 -->\n<g id=\"node33\" class=\"node\">\n<title>547</title>\n<ellipse fill=\"lightgreen\" stroke=\"lightgreen\" cx=\"39.04\" cy=\"-162.96\" rx=\"9\" ry=\"9\"/>\n<text text-anchor=\"middle\" x=\"39.04\" y=\"-161.66\" font-family=\"Times,serif\" font-size=\"6.00\">547</text>\n</g>\n<!-- 547&#45;&gt;873 -->\n<g id=\"edge87\" class=\"edge\">\n<title>547&#45;&gt;873</title>\n<path fill=\"none\" stroke=\"black\" d=\"M46.88,-158.26C59.03,-150.96 82.53,-136.86 97.11,-128.11\"/>\n<polygon fill=\"black\" stroke=\"black\" points=\"98.3,-129.44 101.69,-125.37 96.5,-126.44 98.3,-129.44\"/>\n</g>\n<!-- 4505 -->\n<g id=\"node34\" class=\"node\">\n<title>4505</title>\n<ellipse fill=\"lightgreen\" stroke=\"lightgreen\" cx=\"241\" cy=\"-640.24\" rx=\"9\" ry=\"9\"/>\n<text text-anchor=\"middle\" x=\"241\" y=\"-638.94\" font-family=\"Times,serif\" font-size=\"6.00\">4505</text>\n</g>\n<!-- 4505&#45;&gt;3710 -->\n<g id=\"edge6\" class=\"edge\">\n<title>4505&#45;&gt;3710</title>\n<path fill=\"none\" stroke=\"black\" d=\"M242.39,-631.09C244.4,-617.88 248.14,-593.31 250.53,-577.62\"/>\n<polygon fill=\"black\" stroke=\"black\" points=\"252.32,-577.48 251.34,-572.28 248.86,-576.96 252.32,-577.48\"/>\n</g>\n<!-- 6658 -->\n<g id=\"node35\" class=\"node\">\n<title>6658</title>\n<ellipse fill=\"lightgreen\" stroke=\"lightgreen\" cx=\"415.42\" cy=\"-249.48\" rx=\"9\" ry=\"9\"/>\n<text text-anchor=\"middle\" x=\"415.42\" y=\"-248.18\" font-family=\"Times,serif\" font-size=\"6.00\">6658</text>\n</g>\n<!-- 7008 -->\n<g id=\"node36\" class=\"node\">\n<title>7008</title>\n<ellipse fill=\"lightgreen\" stroke=\"lightgreen\" cx=\"605.26\" cy=\"-274.4\" rx=\"9\" ry=\"9\"/>\n<text text-anchor=\"middle\" x=\"605.26\" y=\"-273.1\" font-family=\"Times,serif\" font-size=\"6.00\">7008</text>\n</g>\n<!-- 1766 -->\n<g id=\"node44\" class=\"node\">\n<title>1766</title>\n<ellipse fill=\"lightgreen\" stroke=\"lightgreen\" cx=\"339.85\" cy=\"-456.55\" rx=\"9\" ry=\"9\"/>\n<text text-anchor=\"middle\" x=\"339.85\" y=\"-455.25\" font-family=\"Times,serif\" font-size=\"6.00\">1766</text>\n</g>\n<!-- 1098&#45;&gt;1766 -->\n<g id=\"edge92\" class=\"edge\">\n<title>1098&#45;&gt;1766</title>\n<path fill=\"none\" stroke=\"black\" d=\"M336.44,-531.8C337.1,-517.18 338.42,-488.18 339.21,-470.77\"/>\n<polygon fill=\"black\" stroke=\"black\" points=\"340.96,-470.84 339.43,-465.76 337.46,-470.68 340.96,-470.84\"/>\n</g>\n<!-- 2042 -->\n<g id=\"node94\" class=\"node\">\n<title>2042</title>\n<ellipse fill=\"lightgreen\" stroke=\"lightgreen\" cx=\"415.43\" cy=\"-572.33\" rx=\"9\" ry=\"9\"/>\n<text text-anchor=\"middle\" x=\"415.43\" y=\"-571.03\" font-family=\"Times,serif\" font-size=\"6.00\">2042</text>\n</g>\n<!-- 1098&#45;&gt;2042 -->\n<g id=\"edge17\" class=\"edge\">\n<title>1098&#45;&gt;2042</title>\n<path fill=\"none\" stroke=\"black\" d=\"M344.52,-544.19C358.3,-549.66 385.62,-560.5 402.04,-567.02\"/>\n<polygon fill=\"black\" stroke=\"black\" points=\"401.46,-568.67 406.75,-568.89 402.75,-565.42 401.46,-568.67\"/>\n</g>\n<!-- 341 -->\n<g id=\"node38\" class=\"node\">\n<title>341</title>\n<ellipse fill=\"lightgreen\" stroke=\"lightgreen\" cx=\"95.01\" cy=\"-591.8\" rx=\"9\" ry=\"9\"/>\n<text text-anchor=\"middle\" x=\"95.01\" y=\"-590.5\" font-family=\"Times,serif\" font-size=\"6.00\">341</text>\n</g>\n<!-- 341&#45;&gt;7321 -->\n<g id=\"edge103\" class=\"edge\">\n<title>341&#45;&gt;7321</title>\n<path fill=\"none\" stroke=\"black\" d=\"M85.81,-592.32C70.8,-593.15 40.98,-594.82 23.23,-595.81\"/>\n<polygon fill=\"black\" stroke=\"black\" points=\"23.03,-594.06 18.14,-596.09 23.23,-597.56 23.03,-594.06\"/>\n</g>\n<!-- 341&#45;&gt;9198 -->\n<g id=\"edge98\" class=\"edge\">\n<title>341&#45;&gt;9198</title>\n<path fill=\"none\" stroke=\"black\" d=\"M104.12,-591.26C116.81,-590.51 139.95,-589.14 154.95,-588.25\"/>\n<polygon fill=\"black\" stroke=\"black\" points=\"155.19,-589.99 160.08,-587.95 154.99,-586.5 155.19,-589.99\"/>\n</g>\n<!-- 341&#45;&gt;7711 -->\n<g id=\"edge101\" class=\"edge\">\n<title>341&#45;&gt;7711</title>\n<path fill=\"none\" stroke=\"black\" d=\"M92.34,-582.86C87.61,-567.05 77.75,-534.06 72.19,-515.47\"/>\n<polygon fill=\"black\" stroke=\"black\" points=\"73.86,-514.93 70.75,-510.64 70.5,-515.93 73.86,-514.93\"/>\n</g>\n<!-- 341&#45;&gt;6847 -->\n<g id=\"edge94\" class=\"edge\">\n<title>341&#45;&gt;6847</title>\n<path fill=\"none\" stroke=\"black\" d=\"M89.78,-599.44C81.29,-611.81 64.45,-636.35 54.34,-651.09\"/>\n<polygon fill=\"black\" stroke=\"black\" points=\"52.82,-650.21 51.43,-655.33 55.71,-652.19 52.82,-650.21\"/>\n</g>\n<!-- 341&#45;&gt;6821 -->\n<g id=\"edge99\" class=\"edge\">\n<title>341&#45;&gt;6821</title>\n<path fill=\"none\" stroke=\"black\" d=\"M97.71,-600.65C101.48,-612.99 108.34,-635.48 112.8,-650.07\"/>\n<polygon fill=\"black\" stroke=\"black\" points=\"111.18,-650.79 114.32,-655.06 114.53,-649.77 111.18,-650.79\"/>\n</g>\n<!-- 6387 -->\n<g id=\"node59\" class=\"node\">\n<title>6387</title>\n<ellipse fill=\"lightgreen\" stroke=\"lightgreen\" cx=\"10.79\" cy=\"-554.33\" rx=\"9\" ry=\"9\"/>\n<text text-anchor=\"middle\" x=\"10.79\" y=\"-553.03\" font-family=\"Times,serif\" font-size=\"6.00\">6387</text>\n</g>\n<!-- 341&#45;&gt;6387 -->\n<g id=\"edge81\" class=\"edge\">\n<title>341&#45;&gt;6387</title>\n<path fill=\"none\" stroke=\"black\" d=\"M86.63,-588.07C72,-581.56 41.69,-568.08 24.14,-560.28\"/>\n<polygon fill=\"black\" stroke=\"black\" points=\"24.42,-558.48 19.14,-558.05 22.99,-561.68 24.42,-558.48\"/>\n</g>\n<!-- 6066 -->\n<g id=\"node64\" class=\"node\">\n<title>6066</title>\n<ellipse fill=\"lightgreen\" stroke=\"lightgreen\" cx=\"177.06\" cy=\"-549.38\" rx=\"9\" ry=\"9\"/>\n<text text-anchor=\"middle\" x=\"177.06\" y=\"-548.08\" font-family=\"Times,serif\" font-size=\"6.00\">6066</text>\n</g>\n<!-- 341&#45;&gt;6066 -->\n<g id=\"edge3\" class=\"edge\">\n<title>341&#45;&gt;6066</title>\n<path fill=\"none\" stroke=\"black\" d=\"M103.18,-587.58C117.43,-580.21 146.96,-564.95 164.05,-556.11\"/>\n<polygon fill=\"black\" stroke=\"black\" points=\"165.29,-557.44 168.93,-553.59 163.68,-554.33 165.29,-557.44\"/>\n</g>\n<!-- 7502 -->\n<g id=\"node69\" class=\"node\">\n<title>7502</title>\n<ellipse fill=\"lightgreen\" stroke=\"lightgreen\" cx=\"44.11\" cy=\"-534.6\" rx=\"9\" ry=\"9\"/>\n<text text-anchor=\"middle\" x=\"44.11\" y=\"-533.3\" font-family=\"Times,serif\" font-size=\"6.00\">7502</text>\n</g>\n<!-- 341&#45;&gt;7502 -->\n<g id=\"edge102\" class=\"edge\">\n<title>341&#45;&gt;7502</title>\n<path fill=\"none\" stroke=\"black\" d=\"M88.77,-584.79C80.07,-575.01 64.21,-557.19 53.92,-545.62\"/>\n<polygon fill=\"black\" stroke=\"black\" points=\"55.03,-544.24 50.4,-541.67 52.42,-546.57 55.03,-544.24\"/>\n</g>\n<!-- 6772 -->\n<g id=\"node77\" class=\"node\">\n<title>6772</title>\n<ellipse fill=\"lightgreen\" stroke=\"lightgreen\" cx=\"146.78\" cy=\"-517.5\" rx=\"9\" ry=\"9\"/>\n<text text-anchor=\"middle\" x=\"146.78\" y=\"-516.2\" font-family=\"Times,serif\" font-size=\"6.00\">6772</text>\n</g>\n<!-- 341&#45;&gt;6772 -->\n<g id=\"edge16\" class=\"edge\">\n<title>341&#45;&gt;6772</title>\n<path fill=\"none\" stroke=\"black\" d=\"M100.16,-584.41C109.06,-571.63 127.4,-545.31 138.23,-529.76\"/>\n<polygon fill=\"black\" stroke=\"black\" points=\"139.91,-530.41 141.33,-525.31 137.04,-528.41 139.91,-530.41\"/>\n</g>\n<!-- 9493 -->\n<g id=\"node78\" class=\"node\">\n<title>9493</title>\n<ellipse fill=\"lightgreen\" stroke=\"lightgreen\" cx=\"108.42\" cy=\"-511.42\" rx=\"9\" ry=\"9\"/>\n<text text-anchor=\"middle\" x=\"108.42\" y=\"-510.12\" font-family=\"Times,serif\" font-size=\"6.00\">9493</text>\n</g>\n<!-- 341&#45;&gt;9493 -->\n<g id=\"edge68\" class=\"edge\">\n<title>341&#45;&gt;9493</title>\n<path fill=\"none\" stroke=\"black\" d=\"M96.5,-582.89C98.8,-569.09 103.26,-542.39 106.02,-525.82\"/>\n<polygon fill=\"black\" stroke=\"black\" points=\"107.79,-525.84 106.89,-520.62 104.34,-525.26 107.79,-525.84\"/>\n</g>\n<!-- 7380 -->\n<g id=\"node82\" class=\"node\">\n<title>7380</title>\n<ellipse fill=\"lightgreen\" stroke=\"lightgreen\" cx=\"18.71\" cy=\"-634.73\" rx=\"9\" ry=\"9\"/>\n<text text-anchor=\"middle\" x=\"18.71\" y=\"-633.43\" font-family=\"Times,serif\" font-size=\"6.00\">7380</text>\n</g>\n<!-- 341&#45;&gt;7380 -->\n<g id=\"edge55\" class=\"edge\">\n<title>341&#45;&gt;7380</title>\n<path fill=\"none\" stroke=\"black\" d=\"M87.13,-596.24C73.88,-603.69 47.04,-618.8 31.2,-627.71\"/>\n<polygon fill=\"black\" stroke=\"black\" points=\"30.16,-626.28 26.66,-630.26 31.88,-629.33 30.16,-626.28\"/>\n</g>\n<!-- 8218 -->\n<g id=\"node85\" class=\"node\">\n<title>8218</title>\n<ellipse fill=\"lightgreen\" stroke=\"lightgreen\" cx=\"182.19\" cy=\"-623.58\" rx=\"9\" ry=\"9\"/>\n<text text-anchor=\"middle\" x=\"182.19\" y=\"-622.28\" font-family=\"Times,serif\" font-size=\"6.00\">8218</text>\n</g>\n<!-- 341&#45;&gt;8218 -->\n<g id=\"edge100\" class=\"edge\">\n<title>341&#45;&gt;8218</title>\n<path fill=\"none\" stroke=\"black\" d=\"M103.69,-594.97C118.96,-600.53 150.74,-612.12 168.83,-618.71\"/>\n<polygon fill=\"black\" stroke=\"black\" points=\"168.25,-620.36 173.55,-620.43 169.45,-617.07 168.25,-620.36\"/>\n</g>\n<!-- 5274 -->\n<g id=\"node86\" class=\"node\">\n<title>5274</title>\n<ellipse fill=\"lightgreen\" stroke=\"lightgreen\" cx=\"155.55\" cy=\"-661.3\" rx=\"9\" ry=\"9\"/>\n<text text-anchor=\"middle\" x=\"155.55\" y=\"-660\" font-family=\"Times,serif\" font-size=\"6.00\">5274</text>\n</g>\n<!-- 341&#45;&gt;5274 -->\n<g id=\"edge29\" class=\"edge\">\n<title>341&#45;&gt;5274</title>\n<path fill=\"none\" stroke=\"black\" d=\"M101.04,-598.72C111.55,-610.79 133.34,-635.8 145.95,-650.28\"/>\n<polygon fill=\"black\" stroke=\"black\" points=\"144.95,-651.79 149.55,-654.41 147.59,-649.49 144.95,-651.79\"/>\n</g>\n<!-- 5974 -->\n<g id=\"node87\" class=\"node\">\n<title>5974</title>\n<ellipse fill=\"lightgreen\" stroke=\"lightgreen\" cx=\"83.37\" cy=\"-683.47\" rx=\"9\" ry=\"9\"/>\n<text text-anchor=\"middle\" x=\"83.37\" y=\"-682.17\" font-family=\"Times,serif\" font-size=\"6.00\">5974</text>\n</g>\n<!-- 341&#45;&gt;5974 -->\n<g id=\"edge42\" class=\"edge\">\n<title>341&#45;&gt;5974</title>\n<path fill=\"none\" stroke=\"black\" d=\"M93.85,-600.93C91.83,-616.85 87.64,-649.83 85.22,-668.93\"/>\n<polygon fill=\"black\" stroke=\"black\" points=\"83.42,-669.2 84.53,-674.38 86.89,-669.64 83.42,-669.2\"/>\n</g>\n<!-- 8996 -->\n<g id=\"node39\" class=\"node\">\n<title>8996</title>\n<ellipse fill=\"lightgreen\" stroke=\"lightgreen\" cx=\"637.62\" cy=\"-260.61\" rx=\"9\" ry=\"9\"/>\n<text text-anchor=\"middle\" x=\"637.62\" y=\"-259.31\" font-family=\"Times,serif\" font-size=\"6.00\">8996</text>\n</g>\n<!-- 5811 -->\n<g id=\"node40\" class=\"node\">\n<title>5811</title>\n<ellipse fill=\"lightgreen\" stroke=\"lightgreen\" cx=\"503.37\" cy=\"-420.02\" rx=\"9\" ry=\"9\"/>\n<text text-anchor=\"middle\" x=\"503.37\" y=\"-418.72\" font-family=\"Times,serif\" font-size=\"6.00\">5811</text>\n</g>\n<!-- 7469 -->\n<g id=\"node41\" class=\"node\">\n<title>7469</title>\n<ellipse fill=\"lightgreen\" stroke=\"lightgreen\" cx=\"47.97\" cy=\"-381.11\" rx=\"9\" ry=\"9\"/>\n<text text-anchor=\"middle\" x=\"47.97\" y=\"-379.81\" font-family=\"Times,serif\" font-size=\"6.00\">7469</text>\n</g>\n<!-- 5931 -->\n<g id=\"node42\" class=\"node\">\n<title>5931</title>\n<ellipse fill=\"lightgreen\" stroke=\"lightgreen\" cx=\"488.47\" cy=\"-398.66\" rx=\"9\" ry=\"9\"/>\n<text text-anchor=\"middle\" x=\"488.47\" y=\"-397.36\" font-family=\"Times,serif\" font-size=\"6.00\">5931</text>\n</g>\n<!-- 8820 -->\n<g id=\"node43\" class=\"node\">\n<title>8820</title>\n<ellipse fill=\"lightgreen\" stroke=\"lightgreen\" cx=\"521.44\" cy=\"-402.83\" rx=\"9\" ry=\"9\"/>\n<text text-anchor=\"middle\" x=\"521.44\" y=\"-401.53\" font-family=\"Times,serif\" font-size=\"6.00\">8820</text>\n</g>\n<!-- 1926 -->\n<g id=\"node65\" class=\"node\">\n<title>1926</title>\n<ellipse fill=\"lightgreen\" stroke=\"lightgreen\" cx=\"402.59\" cy=\"-401.26\" rx=\"9\" ry=\"9\"/>\n<text text-anchor=\"middle\" x=\"402.59\" y=\"-399.96\" font-family=\"Times,serif\" font-size=\"6.00\">1926</text>\n</g>\n<!-- 1766&#45;&gt;1926 -->\n<g id=\"edge8\" class=\"edge\">\n<title>1766&#45;&gt;1926</title>\n<path fill=\"none\" stroke=\"black\" d=\"M347.05,-450.21C357.92,-440.63 378.63,-422.38 391.46,-411.08\"/>\n<polygon fill=\"black\" stroke=\"black\" points=\"392.88,-412.15 395.48,-407.53 390.57,-409.52 392.88,-412.15\"/>\n</g>\n<!-- 5569 -->\n<g id=\"node45\" class=\"node\">\n<title>5569</title>\n<ellipse fill=\"lightgreen\" stroke=\"lightgreen\" cx=\"547.59\" cy=\"-310.8\" rx=\"9\" ry=\"9\"/>\n<text text-anchor=\"middle\" x=\"547.59\" y=\"-309.5\" font-family=\"Times,serif\" font-size=\"6.00\">5569</text>\n</g>\n<!-- 8066 -->\n<g id=\"node46\" class=\"node\">\n<title>8066</title>\n<ellipse fill=\"lightgreen\" stroke=\"lightgreen\" cx=\"519.16\" cy=\"-293.09\" rx=\"9\" ry=\"9\"/>\n<text text-anchor=\"middle\" x=\"519.16\" y=\"-291.79\" font-family=\"Times,serif\" font-size=\"6.00\">8066</text>\n</g>\n<!-- 2843 -->\n<g id=\"node47\" class=\"node\">\n<title>2843</title>\n<ellipse fill=\"lightgreen\" stroke=\"lightgreen\" cx=\"181.76\" cy=\"-161.05\" rx=\"9\" ry=\"9\"/>\n<text text-anchor=\"middle\" x=\"181.76\" y=\"-159.75\" font-family=\"Times,serif\" font-size=\"6.00\">2843</text>\n</g>\n<!-- 2843&#45;&gt;873 -->\n<g id=\"edge85\" class=\"edge\">\n<title>2843&#45;&gt;873</title>\n<path fill=\"none\" stroke=\"black\" d=\"M173.78,-156.56C161.42,-149.59 137.51,-136.13 122.67,-127.77\"/>\n<polygon fill=\"black\" stroke=\"black\" points=\"123.23,-126.08 118.02,-125.15 121.52,-129.13 123.23,-126.08\"/>\n</g>\n<!-- 1794 -->\n<g id=\"node48\" class=\"node\">\n<title>1794</title>\n<ellipse fill=\"lightgreen\" stroke=\"lightgreen\" cx=\"89.73\" cy=\"-311.43\" rx=\"9\" ry=\"9\"/>\n<text text-anchor=\"middle\" x=\"89.73\" y=\"-310.13\" font-family=\"Times,serif\" font-size=\"6.00\">1794</text>\n</g>\n<!-- 1794&#45;&gt;2901 -->\n<g id=\"edge24\" class=\"edge\">\n<title>1794&#45;&gt;2901</title>\n<path fill=\"none\" stroke=\"black\" d=\"M97.74,-307.2C110.15,-300.64 134.14,-287.96 149.03,-280.09\"/>\n<polygon fill=\"black\" stroke=\"black\" points=\"150.09,-281.51 153.7,-277.63 148.46,-278.42 150.09,-281.51\"/>\n</g>\n<!-- 1794&#45;&gt;7469 -->\n<g id=\"edge21\" class=\"edge\">\n<title>1794&#45;&gt;7469</title>\n<path fill=\"none\" stroke=\"black\" d=\"M85.1,-319.15C77.93,-331.12 64.06,-354.27 55.45,-368.63\"/>\n<polygon fill=\"black\" stroke=\"black\" points=\"53.82,-367.95 52.75,-373.14 56.82,-369.75 53.82,-367.95\"/>\n</g>\n<!-- 9327 -->\n<g id=\"node79\" class=\"node\">\n<title>9327</title>\n<ellipse fill=\"lightgreen\" stroke=\"lightgreen\" cx=\"44.91\" cy=\"-240.34\" rx=\"9\" ry=\"9\"/>\n<text text-anchor=\"middle\" x=\"44.91\" y=\"-239.04\" font-family=\"Times,serif\" font-size=\"6.00\">9327</text>\n</g>\n<!-- 1794&#45;&gt;9327 -->\n<g id=\"edge20\" class=\"edge\">\n<title>1794&#45;&gt;9327</title>\n<path fill=\"none\" stroke=\"black\" d=\"M84.76,-303.55C76.98,-291.21 61.86,-267.22 52.64,-252.6\"/>\n<polygon fill=\"black\" stroke=\"black\" points=\"53.91,-251.33 49.76,-248.04 50.95,-253.2 53.91,-251.33\"/>\n</g>\n<!-- 6733 -->\n<g id=\"node80\" class=\"node\">\n<title>6733</title>\n<ellipse fill=\"lightgreen\" stroke=\"lightgreen\" cx=\"121.91\" cy=\"-388.81\" rx=\"9\" ry=\"9\"/>\n<text text-anchor=\"middle\" x=\"121.91\" y=\"-387.51\" font-family=\"Times,serif\" font-size=\"6.00\">6733</text>\n</g>\n<!-- 1794&#45;&gt;6733 -->\n<g id=\"edge22\" class=\"edge\">\n<title>1794&#45;&gt;6733</title>\n<path fill=\"none\" stroke=\"black\" d=\"M93.3,-320.01C98.88,-333.44 109.74,-359.55 116.36,-375.46\"/>\n<polygon fill=\"black\" stroke=\"black\" points=\"114.89,-376.48 118.42,-380.43 118.12,-375.14 114.89,-376.48\"/>\n</g>\n<!-- 9443 -->\n<g id=\"node97\" class=\"node\">\n<title>9443</title>\n<ellipse fill=\"lightgreen\" stroke=\"lightgreen\" cx=\"9\" cy=\"-306.71\" rx=\"9\" ry=\"9\"/>\n<text text-anchor=\"middle\" x=\"9\" y=\"-305.41\" font-family=\"Times,serif\" font-size=\"6.00\">9443</text>\n</g>\n<!-- 1794&#45;&gt;9443 -->\n<g id=\"edge23\" class=\"edge\">\n<title>1794&#45;&gt;9443</title>\n<path fill=\"none\" stroke=\"black\" d=\"M80.47,-310.89C66.48,-310.07 39.84,-308.51 23.33,-307.54\"/>\n<polygon fill=\"black\" stroke=\"black\" points=\"23.25,-305.79 18.15,-307.24 23.04,-309.28 23.25,-305.79\"/>\n</g>\n<!-- 5405 -->\n<g id=\"node49\" class=\"node\">\n<title>5405</title>\n<ellipse fill=\"lightgreen\" stroke=\"lightgreen\" cx=\"612.18\" cy=\"-428.93\" rx=\"9\" ry=\"9\"/>\n<text text-anchor=\"middle\" x=\"612.18\" y=\"-427.63\" font-family=\"Times,serif\" font-size=\"6.00\">5405</text>\n</g>\n<!-- 9055 -->\n<g id=\"node50\" class=\"node\">\n<title>9055</title>\n<ellipse fill=\"lightgreen\" stroke=\"lightgreen\" cx=\"632.19\" cy=\"-439.55\" rx=\"9\" ry=\"9\"/>\n<text text-anchor=\"middle\" x=\"632.19\" y=\"-438.25\" font-family=\"Times,serif\" font-size=\"6.00\">9055</text>\n</g>\n<!-- 8674 -->\n<g id=\"node51\" class=\"node\">\n<title>8674</title>\n<ellipse fill=\"lightgreen\" stroke=\"lightgreen\" cx=\"563.02\" cy=\"-448.93\" rx=\"9\" ry=\"9\"/>\n<text text-anchor=\"middle\" x=\"563.02\" y=\"-447.63\" font-family=\"Times,serif\" font-size=\"6.00\">8674</text>\n</g>\n<!-- 7202 -->\n<g id=\"node52\" class=\"node\">\n<title>7202</title>\n<ellipse fill=\"lightgreen\" stroke=\"lightgreen\" cx=\"594.66\" cy=\"-242.8\" rx=\"9\" ry=\"9\"/>\n<text text-anchor=\"middle\" x=\"594.66\" y=\"-241.5\" font-family=\"Times,serif\" font-size=\"6.00\">7202</text>\n</g>\n<!-- 5250 -->\n<g id=\"node53\" class=\"node\">\n<title>5250</title>\n<ellipse fill=\"lightgreen\" stroke=\"lightgreen\" cx=\"653.06\" cy=\"-422.39\" rx=\"9\" ry=\"9\"/>\n<text text-anchor=\"middle\" x=\"653.06\" y=\"-421.09\" font-family=\"Times,serif\" font-size=\"6.00\">5250</text>\n</g>\n<!-- 5838 -->\n<g id=\"node54\" class=\"node\">\n<title>5838</title>\n<ellipse fill=\"lightgreen\" stroke=\"lightgreen\" cx=\"548.09\" cy=\"-366.07\" rx=\"9\" ry=\"9\"/>\n<text text-anchor=\"middle\" x=\"548.09\" y=\"-364.77\" font-family=\"Times,serif\" font-size=\"6.00\">5838</text>\n</g>\n<!-- 1455 -->\n<g id=\"node55\" class=\"node\">\n<title>1455</title>\n<ellipse fill=\"lightgreen\" stroke=\"lightgreen\" cx=\"342.34\" cy=\"-270\" rx=\"9\" ry=\"9\"/>\n<text text-anchor=\"middle\" x=\"342.34\" y=\"-268.7\" font-family=\"Times,serif\" font-size=\"6.00\">1455</text>\n</g>\n<!-- 3279 -->\n<g id=\"node62\" class=\"node\">\n<title>3279</title>\n<ellipse fill=\"lightgreen\" stroke=\"lightgreen\" cx=\"276.92\" cy=\"-318.55\" rx=\"9\" ry=\"9\"/>\n<text text-anchor=\"middle\" x=\"276.92\" y=\"-317.25\" font-family=\"Times,serif\" font-size=\"6.00\">3279</text>\n</g>\n<!-- 1455&#45;&gt;3279 -->\n<g id=\"edge26\" class=\"edge\">\n<title>1455&#45;&gt;3279</title>\n<path fill=\"none\" stroke=\"black\" d=\"M335.09,-275.38C323.85,-283.72 302.12,-299.85 288.63,-309.85\"/>\n<polygon fill=\"black\" stroke=\"black\" points=\"287.37,-308.61 284.4,-312.99 289.46,-311.42 287.37,-308.61\"/>\n</g>\n<!-- 661 -->\n<g id=\"node98\" class=\"node\">\n<title>661</title>\n<ellipse fill=\"lightgreen\" stroke=\"lightgreen\" cx=\"375.78\" cy=\"-175.65\" rx=\"9\" ry=\"9\"/>\n<text text-anchor=\"middle\" x=\"375.78\" y=\"-174.35\" font-family=\"Times,serif\" font-size=\"6.00\">661</text>\n</g>\n<!-- 1733&#45;&gt;661 -->\n<g id=\"edge14\" class=\"edge\">\n<title>1733&#45;&gt;661</title>\n<path fill=\"none\" stroke=\"black\" d=\"M308.88,-204.01C321.81,-198.53 346.8,-187.93 362.31,-181.36\"/>\n<polygon fill=\"black\" stroke=\"black\" points=\"363.25,-182.86 367.17,-179.3 361.88,-179.64 363.25,-182.86\"/>\n</g>\n<!-- 8992 -->\n<g id=\"node57\" class=\"node\">\n<title>8992</title>\n<ellipse fill=\"lightgreen\" stroke=\"lightgreen\" cx=\"539.1\" cy=\"-273.51\" rx=\"9\" ry=\"9\"/>\n<text text-anchor=\"middle\" x=\"539.1\" y=\"-272.21\" font-family=\"Times,serif\" font-size=\"6.00\">8992</text>\n</g>\n<!-- 6670 -->\n<g id=\"node58\" class=\"node\">\n<title>6670</title>\n<ellipse fill=\"lightgreen\" stroke=\"lightgreen\" cx=\"669.29\" cy=\"-292.76\" rx=\"9\" ry=\"9\"/>\n<text text-anchor=\"middle\" x=\"669.29\" y=\"-291.46\" font-family=\"Times,serif\" font-size=\"6.00\">6670</text>\n</g>\n<!-- 7761 -->\n<g id=\"node60\" class=\"node\">\n<title>7761</title>\n<ellipse fill=\"lightgreen\" stroke=\"lightgreen\" cx=\"583.81\" cy=\"-416.11\" rx=\"9\" ry=\"9\"/>\n<text text-anchor=\"middle\" x=\"583.81\" y=\"-414.81\" font-family=\"Times,serif\" font-size=\"6.00\">7761</text>\n</g>\n<!-- 6068 -->\n<g id=\"node61\" class=\"node\">\n<title>6068</title>\n<ellipse fill=\"lightgreen\" stroke=\"lightgreen\" cx=\"621.83\" cy=\"-362.96\" rx=\"9\" ry=\"9\"/>\n<text text-anchor=\"middle\" x=\"621.83\" y=\"-361.66\" font-family=\"Times,serif\" font-size=\"6.00\">6068</text>\n</g>\n<!-- 3959 -->\n<g id=\"node81\" class=\"node\">\n<title>3959</title>\n<ellipse fill=\"lightgreen\" stroke=\"lightgreen\" cx=\"279.16\" cy=\"-398.93\" rx=\"9\" ry=\"9\"/>\n<text text-anchor=\"middle\" x=\"279.16\" y=\"-397.63\" font-family=\"Times,serif\" font-size=\"6.00\">3959</text>\n</g>\n<!-- 3279&#45;&gt;3959 -->\n<g id=\"edge5\" class=\"edge\">\n<title>3279&#45;&gt;3959</title>\n<path fill=\"none\" stroke=\"black\" d=\"M277.17,-327.77C277.56,-341.7 278.3,-368.22 278.76,-384.66\"/>\n<polygon fill=\"black\" stroke=\"black\" points=\"277.02,-384.87 278.91,-389.82 280.52,-384.77 277.02,-384.87\"/>\n</g>\n<!-- 7064 -->\n<g id=\"node63\" class=\"node\">\n<title>7064</title>\n<ellipse fill=\"lightgreen\" stroke=\"lightgreen\" cx=\"523.61\" cy=\"-257.01\" rx=\"9\" ry=\"9\"/>\n<text text-anchor=\"middle\" x=\"523.61\" y=\"-255.71\" font-family=\"Times,serif\" font-size=\"6.00\">7064</text>\n</g>\n<!-- 4503 -->\n<g id=\"node68\" class=\"node\">\n<title>4503</title>\n<ellipse fill=\"lightgreen\" stroke=\"lightgreen\" cx=\"406.24\" cy=\"-320.67\" rx=\"9\" ry=\"9\"/>\n<text text-anchor=\"middle\" x=\"406.24\" y=\"-319.37\" font-family=\"Times,serif\" font-size=\"6.00\">4503</text>\n</g>\n<!-- 1926&#45;&gt;4503 -->\n<g id=\"edge9\" class=\"edge\">\n<title>1926&#45;&gt;4503</title>\n<path fill=\"none\" stroke=\"black\" d=\"M403.01,-392.02C403.64,-378.05 404.85,-351.45 405.59,-334.97\"/>\n<polygon fill=\"black\" stroke=\"black\" points=\"407.35,-334.88 405.83,-329.81 403.85,-334.72 407.35,-334.88\"/>\n</g>\n<!-- 8532 -->\n<g id=\"node66\" class=\"node\">\n<title>8532</title>\n<ellipse fill=\"lightgreen\" stroke=\"lightgreen\" cx=\"547.42\" cy=\"-414.48\" rx=\"9\" ry=\"9\"/>\n<text text-anchor=\"middle\" x=\"547.42\" y=\"-413.18\" font-family=\"Times,serif\" font-size=\"6.00\">8532</text>\n</g>\n<!-- 4053&#45;&gt;1627 -->\n<g id=\"edge11\" class=\"edge\">\n<title>4053&#45;&gt;1627</title>\n<path fill=\"none\" stroke=\"black\" d=\"M561.58,-10.37C575.34,-12.43 601.55,-16.36 617.78,-18.8\"/>\n<polygon fill=\"black\" stroke=\"black\" points=\"617.67,-20.55 622.88,-19.56 618.19,-17.09 617.67,-20.55\"/>\n</g>\n<!-- 4503&#45;&gt;1455 -->\n<g id=\"edge27\" class=\"edge\">\n<title>4503&#45;&gt;1455</title>\n<path fill=\"none\" stroke=\"black\" d=\"M398.91,-314.86C387.84,-306.08 366.75,-289.35 353.68,-278.99\"/>\n<polygon fill=\"black\" stroke=\"black\" points=\"354.59,-277.48 349.58,-275.74 352.41,-280.22 354.59,-277.48\"/>\n</g>\n<!-- 9295 -->\n<g id=\"node70\" class=\"node\">\n<title>9295</title>\n<ellipse fill=\"lightgreen\" stroke=\"lightgreen\" cx=\"632.88\" cy=\"-408.26\" rx=\"9\" ry=\"9\"/>\n<text text-anchor=\"middle\" x=\"632.88\" y=\"-406.96\" font-family=\"Times,serif\" font-size=\"6.00\">9295</text>\n</g>\n<!-- 1614 -->\n<g id=\"node71\" class=\"node\">\n<title>1614</title>\n<ellipse fill=\"lightgreen\" stroke=\"lightgreen\" cx=\"111.22\" cy=\"-203.07\" rx=\"9\" ry=\"9\"/>\n<text text-anchor=\"middle\" x=\"111.22\" y=\"-201.77\" font-family=\"Times,serif\" font-size=\"6.00\">1614</text>\n</g>\n<!-- 1614&#45;&gt;873 -->\n<g id=\"edge84\" class=\"edge\">\n<title>1614&#45;&gt;873</title>\n<path fill=\"none\" stroke=\"black\" d=\"M111.06,-193.92C110.81,-179.66 110.33,-152.02 110.04,-135.03\"/>\n<polygon fill=\"black\" stroke=\"black\" points=\"111.78,-134.67 109.94,-129.7 108.28,-134.73 111.78,-134.67\"/>\n</g>\n<!-- 9017 -->\n<g id=\"node72\" class=\"node\">\n<title>9017</title>\n<ellipse fill=\"lightgreen\" stroke=\"lightgreen\" cx=\"584.49\" cy=\"-299.87\" rx=\"9\" ry=\"9\"/>\n<text text-anchor=\"middle\" x=\"584.49\" y=\"-298.57\" font-family=\"Times,serif\" font-size=\"6.00\">9017</text>\n</g>\n<!-- 8178 -->\n<g id=\"node73\" class=\"node\">\n<title>8178</title>\n<ellipse fill=\"lightgreen\" stroke=\"lightgreen\" cx=\"596.44\" cy=\"-390.43\" rx=\"9\" ry=\"9\"/>\n<text text-anchor=\"middle\" x=\"596.44\" y=\"-389.13\" font-family=\"Times,serif\" font-size=\"6.00\">8178</text>\n</g>\n<!-- 7567 -->\n<g id=\"node74\" class=\"node\">\n<title>7567</title>\n<ellipse fill=\"lightgreen\" stroke=\"lightgreen\" cx=\"603.18\" cy=\"-450.8\" rx=\"9\" ry=\"9\"/>\n<text text-anchor=\"middle\" x=\"603.18\" y=\"-449.5\" font-family=\"Times,serif\" font-size=\"6.00\">7567</text>\n</g>\n<!-- 7420 -->\n<g id=\"node75\" class=\"node\">\n<title>7420</title>\n<ellipse fill=\"lightgreen\" stroke=\"lightgreen\" cx=\"423.1\" cy=\"-110.07\" rx=\"9\" ry=\"9\"/>\n<text text-anchor=\"middle\" x=\"423.1\" y=\"-108.77\" font-family=\"Times,serif\" font-size=\"6.00\">7420</text>\n</g>\n<!-- 7993 -->\n<g id=\"node76\" class=\"node\">\n<title>7993</title>\n<ellipse fill=\"lightgreen\" stroke=\"lightgreen\" cx=\"486.73\" cy=\"-376.5\" rx=\"9\" ry=\"9\"/>\n<text text-anchor=\"middle\" x=\"486.73\" y=\"-375.2\" font-family=\"Times,serif\" font-size=\"6.00\">7993</text>\n</g>\n<!-- 3959&#45;&gt;1766 -->\n<g id=\"edge4\" class=\"edge\">\n<title>3959&#45;&gt;1766</title>\n<path fill=\"none\" stroke=\"black\" d=\"M286.12,-405.54C296.64,-415.53 316.67,-434.54 329.08,-446.33\"/>\n<polygon fill=\"black\" stroke=\"black\" points=\"328.14,-447.85 332.97,-450.02 330.55,-445.31 328.14,-447.85\"/>\n</g>\n<!-- 6142 -->\n<g id=\"node83\" class=\"node\">\n<title>6142</title>\n<ellipse fill=\"lightgreen\" stroke=\"lightgreen\" cx=\"348.98\" cy=\"-96\" rx=\"9\" ry=\"9\"/>\n<text text-anchor=\"middle\" x=\"348.98\" y=\"-94.7\" font-family=\"Times,serif\" font-size=\"6.00\">6142</text>\n</g>\n<!-- 7363 -->\n<g id=\"node84\" class=\"node\">\n<title>7363</title>\n<ellipse fill=\"lightgreen\" stroke=\"lightgreen\" cx=\"482.52\" cy=\"-344.53\" rx=\"9\" ry=\"9\"/>\n<text text-anchor=\"middle\" x=\"482.52\" y=\"-343.23\" font-family=\"Times,serif\" font-size=\"6.00\">7363</text>\n</g>\n<!-- 221&#45;&gt;9160 -->\n<g id=\"edge32\" class=\"edge\">\n<title>221&#45;&gt;9160</title>\n<path fill=\"none\" stroke=\"black\" d=\"M588.89,-344.54C600.55,-341.01 621.31,-334.72 635.16,-330.53\"/>\n<polygon fill=\"black\" stroke=\"black\" points=\"635.99,-332.11 640.27,-328.98 634.98,-328.76 635.99,-332.11\"/>\n</g>\n<!-- 221&#45;&gt;6616 -->\n<g id=\"edge78\" class=\"edge\">\n<title>221&#45;&gt;6616</title>\n<path fill=\"none\" stroke=\"black\" d=\"M578.69,-338.13C575.7,-319.64 568.86,-277.4 565.27,-255.21\"/>\n<polygon fill=\"black\" stroke=\"black\" points=\"566.96,-254.69 564.43,-250.03 563.51,-255.25 566.96,-254.69\"/>\n</g>\n<!-- 221&#45;&gt;9202 -->\n<g id=\"edge72\" class=\"edge\">\n<title>221&#45;&gt;9202</title>\n<path fill=\"none\" stroke=\"black\" d=\"M576.87,-355.79C570.38,-372.8 555.88,-410.81 548.18,-430.99\"/>\n<polygon fill=\"black\" stroke=\"black\" points=\"546.53,-430.41 546.38,-435.71 549.8,-431.66 546.53,-430.41\"/>\n</g>\n<!-- 221&#45;&gt;9105 -->\n<g id=\"edge41\" class=\"edge\">\n<title>221&#45;&gt;9105</title>\n<path fill=\"none\" stroke=\"black\" d=\"M587.93,-342.56C593.73,-339.11 601.76,-334.33 608.4,-330.38\"/>\n<polygon fill=\"black\" stroke=\"black\" points=\"609.32,-331.87 612.72,-327.8 607.53,-328.86 609.32,-331.87\"/>\n</g>\n<!-- 221&#45;&gt;7139 -->\n<g id=\"edge49\" class=\"edge\">\n<title>221&#45;&gt;7139</title>\n<path fill=\"none\" stroke=\"black\" d=\"M571.02,-346.75C561.65,-346.31 546.92,-345.61 536,-345.09\"/>\n<polygon fill=\"black\" stroke=\"black\" points=\"536.07,-343.35 530.99,-344.86 535.9,-346.84 536.07,-343.35\"/>\n</g>\n<!-- 221&#45;&gt;9178 -->\n<g id=\"edge31\" class=\"edge\">\n<title>221&#45;&gt;9178</title>\n<path fill=\"none\" stroke=\"black\" d=\"M573.56,-340.97C560.11,-328.26 529.37,-299.24 513.22,-283.99\"/>\n<polygon fill=\"black\" stroke=\"black\" points=\"514.29,-282.59 509.45,-280.43 511.89,-285.14 514.29,-282.59\"/>\n</g>\n<!-- 221&#45;&gt;7872 -->\n<g id=\"edge69\" class=\"edge\">\n<title>221&#45;&gt;7872</title>\n<path fill=\"none\" stroke=\"black\" d=\"M586.78,-340.83C599.81,-328.33 628.84,-300.47 644.44,-285.51\"/>\n<polygon fill=\"black\" stroke=\"black\" points=\"645.7,-286.72 648.09,-282 643.27,-284.2 645.7,-286.72\"/>\n</g>\n<!-- 221&#45;&gt;6779 -->\n<g id=\"edge76\" class=\"edge\">\n<title>221&#45;&gt;6779</title>\n<path fill=\"none\" stroke=\"black\" d=\"M577.54,-338.32C572.94,-322.7 563.36,-290.22 557.91,-271.73\"/>\n<polygon fill=\"black\" stroke=\"black\" points=\"559.58,-271.21 556.49,-266.91 556.23,-272.2 559.58,-271.21\"/>\n</g>\n<!-- 221&#45;&gt;5151 -->\n<g id=\"edge83\" class=\"edge\">\n<title>221&#45;&gt;5151</title>\n<path fill=\"none\" stroke=\"black\" d=\"M583.52,-338.68C590.13,-321.96 604.87,-284.68 612.79,-264.66\"/>\n<polygon fill=\"black\" stroke=\"black\" points=\"614.43,-265.26 614.64,-259.97 611.18,-263.97 614.43,-265.26\"/>\n</g>\n<!-- 221&#45;&gt;7755 -->\n<g id=\"edge74\" class=\"edge\">\n<title>221&#45;&gt;7755</title>\n<path fill=\"none\" stroke=\"black\" d=\"M580.07,-338.1C579.93,-323.3 579.66,-293.86 579.5,-276.34\"/>\n<polygon fill=\"black\" stroke=\"black\" points=\"581.25,-276.3 579.46,-271.32 577.75,-276.33 581.25,-276.3\"/>\n</g>\n<!-- 221&#45;&gt;6533 -->\n<g id=\"edge51\" class=\"edge\">\n<title>221&#45;&gt;6533</title>\n<path fill=\"none\" stroke=\"black\" d=\"M571.02,-348.15C552.35,-350.12 509.73,-354.61 487.34,-356.97\"/>\n<polygon fill=\"black\" stroke=\"black\" points=\"486.9,-355.26 482.11,-357.52 487.27,-358.74 486.9,-355.26\"/>\n</g>\n<!-- 221&#45;&gt;8790 -->\n<g id=\"edge56\" class=\"edge\">\n<title>221&#45;&gt;8790</title>\n<path fill=\"none\" stroke=\"black\" d=\"M589.34,-345.74C607.49,-342.88 648.07,-336.49 669.6,-333.09\"/>\n<polygon fill=\"black\" stroke=\"black\" points=\"669.98,-334.81 674.64,-332.3 669.43,-331.35 669.98,-334.81\"/>\n</g>\n<!-- 221&#45;&gt;5616 -->\n<g id=\"edge38\" class=\"edge\">\n<title>221&#45;&gt;5616</title>\n<path fill=\"none\" stroke=\"black\" d=\"M588.28,-351.53C600.56,-358.1 623.95,-370.6 638.43,-378.35\"/>\n<polygon fill=\"black\" stroke=\"black\" points=\"637.74,-379.96 642.98,-380.78 639.39,-376.88 637.74,-379.96\"/>\n</g>\n<!-- 221&#45;&gt;9155 -->\n<g id=\"edge53\" class=\"edge\">\n<title>221&#45;&gt;9155</title>\n<path fill=\"none\" stroke=\"black\" d=\"M580.23,-356.24C580.37,-373.38 580.67,-410.72 580.84,-431.17\"/>\n<polygon fill=\"black\" stroke=\"black\" points=\"579.09,-431.23 580.88,-436.22 582.59,-431.2 579.09,-431.23\"/>\n</g>\n<!-- 221&#45;&gt;7008 -->\n<g id=\"edge60\" class=\"edge\">\n<title>221&#45;&gt;7008</title>\n<path fill=\"none\" stroke=\"black\" d=\"M583.13,-338.55C587.43,-326.07 595.43,-302.88 600.55,-288.07\"/>\n<polygon fill=\"black\" stroke=\"black\" points=\"602.31,-288.32 602.29,-283.02 599,-287.18 602.31,-288.32\"/>\n</g>\n<!-- 221&#45;&gt;8996 -->\n<g id=\"edge43\" class=\"edge\">\n<title>221&#45;&gt;8996</title>\n<path fill=\"none\" stroke=\"black\" d=\"M585.25,-339.5C595.33,-324.32 617.86,-290.38 629.82,-272.37\"/>\n<polygon fill=\"black\" stroke=\"black\" points=\"631.31,-273.29 632.62,-268.15 628.39,-271.35 631.31,-273.29\"/>\n</g>\n<!-- 221&#45;&gt;5811 -->\n<g id=\"edge61\" class=\"edge\">\n<title>221&#45;&gt;5811</title>\n<path fill=\"none\" stroke=\"black\" d=\"M573.61,-353.4C560.37,-365.95 530.3,-394.47 514.14,-409.81\"/>\n<polygon fill=\"black\" stroke=\"black\" points=\"512.77,-408.7 510.34,-413.41 515.18,-411.23 512.77,-408.7\"/>\n</g>\n<!-- 221&#45;&gt;5931 -->\n<g id=\"edge70\" class=\"edge\">\n<title>221&#45;&gt;5931</title>\n<path fill=\"none\" stroke=\"black\" d=\"M572.02,-351.75C555.94,-360.78 520,-380.96 500.92,-391.67\"/>\n<polygon fill=\"black\" stroke=\"black\" points=\"499.96,-390.2 496.46,-394.18 501.68,-393.25 499.96,-390.2\"/>\n</g>\n<!-- 221&#45;&gt;8820 -->\n<g id=\"edge73\" class=\"edge\">\n<title>221&#45;&gt;8820</title>\n<path fill=\"none\" stroke=\"black\" d=\"M573.42,-353.57C563.24,-363.21 543.87,-381.57 531.87,-392.95\"/>\n<polygon fill=\"black\" stroke=\"black\" points=\"530.53,-391.81 528.1,-396.52 532.93,-394.35 530.53,-391.81\"/>\n</g>\n<!-- 221&#45;&gt;5569 -->\n<g id=\"edge62\" class=\"edge\">\n<title>221&#45;&gt;5569</title>\n<path fill=\"none\" stroke=\"black\" d=\"M573.87,-340.17C569.13,-334.87 562.54,-327.5 557.14,-321.47\"/>\n<polygon fill=\"black\" stroke=\"black\" points=\"558.27,-320.11 553.63,-317.55 555.66,-322.44 558.27,-320.11\"/>\n</g>\n<!-- 221&#45;&gt;8066 -->\n<g id=\"edge67\" class=\"edge\">\n<title>221&#45;&gt;8066</title>\n<path fill=\"none\" stroke=\"black\" d=\"M573.16,-340.98C562.59,-331.61 542.46,-313.75 529.99,-302.69\"/>\n<polygon fill=\"black\" stroke=\"black\" points=\"530.98,-301.23 526.07,-299.22 528.65,-303.85 530.98,-301.23\"/>\n</g>\n<!-- 221&#45;&gt;5405 -->\n<g id=\"edge80\" class=\"edge\">\n<title>221&#45;&gt;5405</title>\n<path fill=\"none\" stroke=\"black\" d=\"M583.46,-355.63C589.02,-369.82 600.29,-398.58 606.94,-415.55\"/>\n<polygon fill=\"black\" stroke=\"black\" points=\"605.39,-416.39 608.84,-420.41 608.64,-415.12 605.39,-416.39\"/>\n</g>\n<!-- 221&#45;&gt;9055 -->\n<g id=\"edge54\" class=\"edge\">\n<title>221&#45;&gt;9055</title>\n<path fill=\"none\" stroke=\"black\" d=\"M584.59,-355.06C593.65,-371.15 614.35,-407.89 625.23,-427.19\"/>\n<polygon fill=\"black\" stroke=\"black\" points=\"623.79,-428.2 627.77,-431.7 626.84,-426.48 623.79,-428.2\"/>\n</g>\n<!-- 221&#45;&gt;8674 -->\n<g id=\"edge66\" class=\"edge\">\n<title>221&#45;&gt;8674</title>\n<path fill=\"none\" stroke=\"black\" d=\"M578.63,-356.22C575.64,-373.97 568.98,-413.54 565.4,-434.79\"/>\n<polygon fill=\"black\" stroke=\"black\" points=\"563.67,-434.56 564.56,-439.78 567.12,-435.14 563.67,-434.56\"/>\n</g>\n<!-- 221&#45;&gt;7202 -->\n<g id=\"edge75\" class=\"edge\">\n<title>221&#45;&gt;7202</title>\n<path fill=\"none\" stroke=\"black\" d=\"M581.44,-337.92C583.98,-319.62 589.67,-278.7 592.69,-256.98\"/>\n<polygon fill=\"black\" stroke=\"black\" points=\"594.44,-257.09 593.4,-251.9 590.97,-256.61 594.44,-257.09\"/>\n</g>\n<!-- 221&#45;&gt;5250 -->\n<g id=\"edge63\" class=\"edge\">\n<title>221&#45;&gt;5250</title>\n<path fill=\"none\" stroke=\"black\" d=\"M586.62,-353.86C599.35,-366.98 627.7,-396.23 642.93,-411.94\"/>\n<polygon fill=\"black\" stroke=\"black\" points=\"641.77,-413.25 646.5,-415.62 644.28,-410.82 641.77,-413.25\"/>\n</g>\n<!-- 221&#45;&gt;5838 -->\n<g id=\"edge71\" class=\"edge\">\n<title>221&#45;&gt;5838</title>\n<path fill=\"none\" stroke=\"black\" d=\"M572.39,-351.76C568.87,-353.83 564.62,-356.33 560.67,-358.66\"/>\n<polygon fill=\"black\" stroke=\"black\" points=\"559.64,-357.23 556.22,-361.28 561.42,-360.25 559.64,-357.23\"/>\n</g>\n<!-- 221&#45;&gt;8992 -->\n<g id=\"edge44\" class=\"edge\">\n<title>221&#45;&gt;8992</title>\n<path fill=\"none\" stroke=\"black\" d=\"M575.76,-339.3C568.64,-326.52 554.51,-301.16 546.02,-285.93\"/>\n<polygon fill=\"black\" stroke=\"black\" points=\"547.55,-285.07 543.59,-281.56 544.49,-286.78 547.55,-285.07\"/>\n</g>\n<!-- 221&#45;&gt;6670 -->\n<g id=\"edge77\" class=\"edge\">\n<title>221&#45;&gt;6670</title>\n<path fill=\"none\" stroke=\"black\" d=\"M588.06,-342.36C603.7,-332.81 638.63,-311.48 657.18,-300.15\"/>\n<polygon fill=\"black\" stroke=\"black\" points=\"658.17,-301.6 661.52,-297.5 656.34,-298.62 658.17,-301.6\"/>\n</g>\n<!-- 221&#45;&gt;7761 -->\n<g id=\"edge58\" class=\"edge\">\n<title>221&#45;&gt;7761</title>\n<path fill=\"none\" stroke=\"black\" d=\"M580.63,-356.2C581.25,-367.79 582.32,-388.08 583.05,-401.79\"/>\n<polygon fill=\"black\" stroke=\"black\" points=\"581.31,-401.97 583.32,-406.87 584.8,-401.79 581.31,-401.97\"/>\n</g>\n<!-- 221&#45;&gt;6068 -->\n<g id=\"edge79\" class=\"edge\">\n<title>221&#45;&gt;6068</title>\n<path fill=\"none\" stroke=\"black\" d=\"M588.59,-350.38C594.35,-352.56 602.1,-355.49 608.67,-357.98\"/>\n<polygon fill=\"black\" stroke=\"black\" points=\"608.11,-359.64 613.41,-359.77 609.35,-356.36 608.11,-359.64\"/>\n</g>\n<!-- 221&#45;&gt;7064 -->\n<g id=\"edge59\" class=\"edge\">\n<title>221&#45;&gt;7064</title>\n<path fill=\"none\" stroke=\"black\" d=\"M575.33,-339.5C565.48,-323.79 542.99,-287.92 531.18,-269.08\"/>\n<polygon fill=\"black\" stroke=\"black\" points=\"532.56,-267.98 528.42,-264.68 529.6,-269.84 532.56,-267.98\"/>\n</g>\n<!-- 221&#45;&gt;8532 -->\n<g id=\"edge35\" class=\"edge\">\n<title>221&#45;&gt;8532</title>\n<path fill=\"none\" stroke=\"black\" d=\"M576.14,-355.44C570.54,-366.94 560.35,-387.91 553.73,-401.51\"/>\n<polygon fill=\"black\" stroke=\"black\" points=\"552.08,-400.9 551.47,-406.16 555.23,-402.43 552.08,-400.9\"/>\n</g>\n<!-- 221&#45;&gt;9295 -->\n<g id=\"edge30\" class=\"edge\">\n<title>221&#45;&gt;9295</title>\n<path fill=\"none\" stroke=\"black\" d=\"M586.2,-354.19C595.34,-364.78 612.74,-384.93 623.52,-397.42\"/>\n<polygon fill=\"black\" stroke=\"black\" points=\"622.31,-398.7 626.9,-401.34 624.96,-396.41 622.31,-398.7\"/>\n</g>\n<!-- 221&#45;&gt;9017 -->\n<g id=\"edge33\" class=\"edge\">\n<title>221&#45;&gt;9017</title>\n<path fill=\"none\" stroke=\"black\" d=\"M580.99,-338.06C581.61,-331.26 582.48,-321.83 583.19,-314.04\"/>\n<polygon fill=\"black\" stroke=\"black\" points=\"584.94,-314.1 583.66,-308.96 581.46,-313.78 584.94,-314.1\"/>\n</g>\n<!-- 221&#45;&gt;8178 -->\n<g id=\"edge45\" class=\"edge\">\n<title>221&#45;&gt;8178</title>\n<path fill=\"none\" stroke=\"black\" d=\"M583.45,-355.94C585.73,-361.99 588.81,-370.17 591.4,-377.04\"/>\n<polygon fill=\"black\" stroke=\"black\" points=\"589.86,-377.93 593.26,-381.99 593.13,-376.69 589.86,-377.93\"/>\n</g>\n<!-- 221&#45;&gt;7567 -->\n<g id=\"edge47\" class=\"edge\">\n<title>221&#45;&gt;7567</title>\n<path fill=\"none\" stroke=\"black\" d=\"M582.12,-356.02C586.13,-374.07 595.29,-415.28 600.1,-436.93\"/>\n<polygon fill=\"black\" stroke=\"black\" points=\"598.43,-437.49 601.22,-441.99 601.85,-436.73 598.43,-437.49\"/>\n</g>\n<!-- 221&#45;&gt;7993 -->\n<g id=\"edge46\" class=\"edge\">\n<title>221&#45;&gt;7993</title>\n<path fill=\"none\" stroke=\"black\" d=\"M571.53,-349.89C555.26,-355 519.92,-366.09 500.39,-372.21\"/>\n<polygon fill=\"black\" stroke=\"black\" points=\"499.57,-370.64 495.33,-373.8 500.62,-373.97 499.57,-370.64\"/>\n</g>\n<!-- 221&#45;&gt;7363 -->\n<g id=\"edge48\" class=\"edge\">\n<title>221&#45;&gt;7363</title>\n<path fill=\"none\" stroke=\"black\" d=\"M571.14,-346.94C554.16,-346.48 517.27,-345.47 496.85,-344.92\"/>\n<polygon fill=\"black\" stroke=\"black\" points=\"496.84,-343.17 491.79,-344.78 496.74,-346.66 496.84,-343.17\"/>\n</g>\n<!-- 5205 -->\n<g id=\"node90\" class=\"node\">\n<title>5205</title>\n<ellipse fill=\"lightgreen\" stroke=\"lightgreen\" cx=\"524.33\" cy=\"-433.47\" rx=\"9\" ry=\"9\"/>\n<text text-anchor=\"middle\" x=\"524.33\" y=\"-432.17\" font-family=\"Times,serif\" font-size=\"6.00\">5205</text>\n</g>\n<!-- 221&#45;&gt;5205 -->\n<g id=\"edge39\" class=\"edge\">\n<title>221&#45;&gt;5205</title>\n<path fill=\"none\" stroke=\"black\" d=\"M575.2,-354.84C565.46,-369.9 543.74,-403.46 532.09,-421.48\"/>\n<polygon fill=\"black\" stroke=\"black\" points=\"530.6,-420.56 529.35,-425.71 533.54,-422.46 530.6,-420.56\"/>\n</g>\n<!-- 8089 -->\n<g id=\"node91\" class=\"node\">\n<title>8089</title>\n<ellipse fill=\"lightgreen\" stroke=\"lightgreen\" cx=\"517.05\" cy=\"-377.87\" rx=\"9\" ry=\"9\"/>\n<text text-anchor=\"middle\" x=\"517.05\" y=\"-376.57\" font-family=\"Times,serif\" font-size=\"6.00\">8089</text>\n</g>\n<!-- 221&#45;&gt;8089 -->\n<g id=\"edge36\" class=\"edge\">\n<title>221&#45;&gt;8089</title>\n<path fill=\"none\" stroke=\"black\" d=\"M571.9,-351.2C561.28,-356.36 542.71,-365.39 530.15,-371.5\"/>\n<polygon fill=\"black\" stroke=\"black\" points=\"529.23,-370 525.5,-373.76 530.76,-373.15 529.23,-370\"/>\n</g>\n<!-- 6855 -->\n<g id=\"node92\" class=\"node\">\n<title>6855</title>\n<ellipse fill=\"lightgreen\" stroke=\"lightgreen\" cx=\"668.99\" cy=\"-403.45\" rx=\"9\" ry=\"9\"/>\n<text text-anchor=\"middle\" x=\"668.99\" y=\"-402.15\" font-family=\"Times,serif\" font-size=\"6.00\">6855</text>\n</g>\n<!-- 221&#45;&gt;6855 -->\n<g id=\"edge50\" class=\"edge\">\n<title>221&#45;&gt;6855</title>\n<path fill=\"none\" stroke=\"black\" d=\"M588.04,-352.18C603.62,-362.05 638.44,-384.1 656.92,-395.81\"/>\n<polygon fill=\"black\" stroke=\"black\" points=\"656.09,-397.35 661.25,-398.55 657.96,-394.39 656.09,-397.35\"/>\n</g>\n<!-- 8208 -->\n<g id=\"node93\" class=\"node\">\n<title>8208</title>\n<ellipse fill=\"lightgreen\" stroke=\"lightgreen\" cx=\"662.25\" cy=\"-355.5\" rx=\"9\" ry=\"9\"/>\n<text text-anchor=\"middle\" x=\"662.25\" y=\"-354.2\" font-family=\"Times,serif\" font-size=\"6.00\">8208</text>\n</g>\n<!-- 221&#45;&gt;8208 -->\n<g id=\"edge57\" class=\"edge\">\n<title>221&#45;&gt;8208</title>\n<path fill=\"none\" stroke=\"black\" d=\"M589.25,-348.11C603.43,-349.54 630.92,-352.33 647.82,-354.04\"/>\n<polygon fill=\"black\" stroke=\"black\" points=\"647.96,-355.81 653.11,-354.57 648.32,-352.33 647.96,-355.81\"/>\n</g>\n<!-- 6145 -->\n<g id=\"node95\" class=\"node\">\n<title>6145</title>\n<ellipse fill=\"lightgreen\" stroke=\"lightgreen\" cx=\"499.14\" cy=\"-303.12\" rx=\"9\" ry=\"9\"/>\n<text text-anchor=\"middle\" x=\"499.14\" y=\"-301.82\" font-family=\"Times,serif\" font-size=\"6.00\">6145</text>\n</g>\n<!-- 221&#45;&gt;6145 -->\n<g id=\"edge52\" class=\"edge\">\n<title>221&#45;&gt;6145</title>\n<path fill=\"none\" stroke=\"black\" d=\"M572.09,-342.8C558.02,-335.14 528.87,-319.29 511.98,-310.1\"/>\n<polygon fill=\"black\" stroke=\"black\" points=\"512.4,-308.34 507.17,-307.49 510.73,-311.41 512.4,-308.34\"/>\n</g>\n<!-- 8084 -->\n<g id=\"node100\" class=\"node\">\n<title>8084</title>\n<ellipse fill=\"lightgreen\" stroke=\"lightgreen\" cx=\"673\" cy=\"-312.77\" rx=\"9\" ry=\"9\"/>\n<text text-anchor=\"middle\" x=\"673\" y=\"-311.47\" font-family=\"Times,serif\" font-size=\"6.00\">8084</text>\n</g>\n<!-- 221&#45;&gt;8084 -->\n<g id=\"edge37\" class=\"edge\">\n<title>221&#45;&gt;8084</title>\n<path fill=\"none\" stroke=\"black\" d=\"M588.72,-344.01C604.89,-338.02 640.01,-325 659.42,-317.81\"/>\n<polygon fill=\"black\" stroke=\"black\" points=\"660.37,-319.32 664.45,-315.94 659.15,-316.04 660.37,-319.32\"/>\n</g>\n<!-- 8561 -->\n<g id=\"node101\" class=\"node\">\n<title>8561</title>\n<ellipse fill=\"lightgreen\" stroke=\"lightgreen\" cx=\"633.87\" cy=\"-291.44\" rx=\"9\" ry=\"9\"/>\n<text text-anchor=\"middle\" x=\"633.87\" y=\"-290.14\" font-family=\"Times,serif\" font-size=\"6.00\">8561</text>\n</g>\n<!-- 221&#45;&gt;8561 -->\n<g id=\"edge34\" class=\"edge\">\n<title>221&#45;&gt;8561</title>\n<path fill=\"none\" stroke=\"black\" d=\"M586.74,-340.35C596.02,-330.72 613.02,-313.07 623.87,-301.82\"/>\n<polygon fill=\"black\" stroke=\"black\" points=\"625.35,-302.8 627.56,-297.98 622.83,-300.37 625.35,-302.8\"/>\n</g>\n<!-- 9146 -->\n<g id=\"node103\" class=\"node\">\n<title>9146</title>\n<ellipse fill=\"lightgreen\" stroke=\"lightgreen\" cx=\"678.37\" cy=\"-380.48\" rx=\"9\" ry=\"9\"/>\n<text text-anchor=\"middle\" x=\"678.37\" y=\"-379.18\" font-family=\"Times,serif\" font-size=\"6.00\">9146</text>\n</g>\n<!-- 221&#45;&gt;9146 -->\n<g id=\"edge65\" class=\"edge\">\n<title>221&#45;&gt;9146</title>\n<path fill=\"none\" stroke=\"black\" d=\"M588.87,-350.14C606.09,-355.98 644.59,-369.03 665.03,-375.96\"/>\n<polygon fill=\"black\" stroke=\"black\" points=\"664.52,-377.64 669.81,-377.58 665.64,-374.32 664.52,-377.64\"/>\n</g>\n<!-- 5238 -->\n<g id=\"node104\" class=\"node\">\n<title>5238</title>\n<ellipse fill=\"lightgreen\" stroke=\"lightgreen\" cx=\"685.27\" cy=\"-355.7\" rx=\"9\" ry=\"9\"/>\n<text text-anchor=\"middle\" x=\"685.27\" y=\"-354.4\" font-family=\"Times,serif\" font-size=\"6.00\">5238</text>\n</g>\n<!-- 221&#45;&gt;5238 -->\n<g id=\"edge64\" class=\"edge\">\n<title>221&#45;&gt;5238</title>\n<path fill=\"none\" stroke=\"black\" d=\"M589.48,-347.94C607.92,-349.43 649.12,-352.77 671,-354.54\"/>\n<polygon fill=\"black\" stroke=\"black\" points=\"670.99,-356.3 676.11,-354.96 671.27,-352.81 670.99,-356.3\"/>\n</g>\n<!-- 5400 -->\n<g id=\"node105\" class=\"node\">\n<title>5400</title>\n<ellipse fill=\"lightgreen\" stroke=\"lightgreen\" cx=\"492.14\" cy=\"-327.84\" rx=\"9\" ry=\"9\"/>\n<text text-anchor=\"middle\" x=\"492.14\" y=\"-326.54\" font-family=\"Times,serif\" font-size=\"6.00\">5400</text>\n</g>\n<!-- 221&#45;&gt;5400 -->\n<g id=\"edge82\" class=\"edge\">\n<title>221&#45;&gt;5400</title>\n<path fill=\"none\" stroke=\"black\" d=\"M571.06,-345.19C555.7,-341.81 524.49,-334.95 506.25,-330.94\"/>\n<polygon fill=\"black\" stroke=\"black\" points=\"506.3,-329.16 501.04,-329.8 505.55,-332.58 506.3,-329.16\"/>\n</g>\n<!-- 975&#45;&gt;3966 -->\n<g id=\"edge25\" class=\"edge\">\n<title>975&#45;&gt;3966</title>\n<path fill=\"none\" stroke=\"black\" d=\"M527.9,-137.63C522.83,-124.68 513.17,-100 507.19,-84.72\"/>\n<polygon fill=\"black\" stroke=\"black\" points=\"508.77,-83.94 505.32,-79.92 505.51,-85.22 508.77,-83.94\"/>\n</g>\n<!-- 3611 -->\n<g id=\"node102\" class=\"node\">\n<title>3611</title>\n<ellipse fill=\"lightgreen\" stroke=\"lightgreen\" cx=\"441.48\" cy=\"-647.09\" rx=\"9\" ry=\"9\"/>\n<text text-anchor=\"middle\" x=\"441.48\" y=\"-645.79\" font-family=\"Times,serif\" font-size=\"6.00\">3611</text>\n</g>\n<!-- 2042&#45;&gt;3611 -->\n<g id=\"edge1\" class=\"edge\">\n<title>2042&#45;&gt;3611</title>\n<path fill=\"none\" stroke=\"black\" d=\"M418.42,-580.91C422.88,-593.73 431.35,-618.01 436.68,-633.33\"/>\n<polygon fill=\"black\" stroke=\"black\" points=\"435.07,-634 438.36,-638.15 438.37,-632.85 435.07,-634\"/>\n</g>\n<!-- 980 -->\n<g id=\"node96\" class=\"node\">\n<title>980</title>\n<ellipse fill=\"lightgreen\" stroke=\"lightgreen\" cx=\"38\" cy=\"-79.9\" rx=\"9\" ry=\"9\"/>\n<text text-anchor=\"middle\" x=\"38\" y=\"-78.6\" font-family=\"Times,serif\" font-size=\"6.00\">980</text>\n</g>\n<!-- 980&#45;&gt;873 -->\n<g id=\"edge86\" class=\"edge\">\n<title>980&#45;&gt;873</title>\n<path fill=\"none\" stroke=\"black\" d=\"M45.96,-84.4C58.29,-91.38 82.13,-104.87 96.93,-113.24\"/>\n<polygon fill=\"black\" stroke=\"black\" points=\"96.36,-114.93 101.57,-115.87 98.08,-111.88 96.36,-114.93\"/>\n</g>\n<!-- 661&#45;&gt;5594 -->\n<g id=\"edge96\" class=\"edge\">\n<title>661&#45;&gt;5594</title>\n<path fill=\"none\" stroke=\"black\" d=\"M384.69,-176.94C398.5,-178.94 425.2,-182.8 441.77,-185.2\"/>\n<polygon fill=\"black\" stroke=\"black\" points=\"441.77,-186.96 446.97,-185.95 442.27,-183.5 441.77,-186.96\"/>\n</g>\n<!-- 661&#45;&gt;6658 -->\n<g id=\"edge95\" class=\"edge\">\n<title>661&#45;&gt;6658</title>\n<path fill=\"none\" stroke=\"black\" d=\"M380.17,-183.83C387.05,-196.65 400.43,-221.56 408.58,-236.74\"/>\n<polygon fill=\"black\" stroke=\"black\" points=\"407.22,-237.91 411.12,-241.49 410.3,-236.25 407.22,-237.91\"/>\n</g>\n<!-- 661&#45;&gt;7420 -->\n<g id=\"edge97\" class=\"edge\">\n<title>661&#45;&gt;7420</title>\n<path fill=\"none\" stroke=\"black\" d=\"M381.21,-168.13C389.41,-156.76 405.02,-135.12 414.7,-121.71\"/>\n<polygon fill=\"black\" stroke=\"black\" points=\"416.23,-122.59 417.73,-117.51 413.39,-120.54 416.23,-122.59\"/>\n</g>\n<!-- 661&#45;&gt;6142 -->\n<g id=\"edge93\" class=\"edge\">\n<title>661&#45;&gt;6142</title>\n<path fill=\"none\" stroke=\"black\" d=\"M372.81,-166.82C368.16,-152.99 359.11,-126.12 353.6,-109.74\"/>\n<polygon fill=\"black\" stroke=\"black\" points=\"355.14,-108.81 351.88,-104.63 351.82,-109.92 355.14,-108.81\"/>\n</g>\n<!-- 503&#45;&gt;4505 -->\n<g id=\"edge90\" class=\"edge\">\n<title>503&#45;&gt;4505</title>\n<path fill=\"none\" stroke=\"black\" d=\"M309.74,-623.39C296.29,-626.69 270.66,-632.97 254.78,-636.86\"/>\n<polygon fill=\"black\" stroke=\"black\" points=\"254.24,-635.19 249.8,-638.08 255.08,-638.59 254.24,-635.19\"/>\n</g>\n<!-- 503&#45;&gt;1098 -->\n<g id=\"edge91\" class=\"edge\">\n<title>503&#45;&gt;1098</title>\n<path fill=\"none\" stroke=\"black\" d=\"M320.58,-612.3C323.56,-598.49 329.33,-571.78 332.91,-555.21\"/>\n<polygon fill=\"black\" stroke=\"black\" points=\"334.69,-555.27 334.04,-550.01 331.27,-554.53 334.69,-555.27\"/>\n</g>\n<!-- 3611&#45;&gt;4727 -->\n<g id=\"edge2\" class=\"edge\">\n<title>3611&#45;&gt;4727</title>\n<path fill=\"none\" stroke=\"black\" d=\"M433.35,-651.14C421.6,-657 399.76,-667.89 385.82,-674.84\"/>\n<polygon fill=\"black\" stroke=\"black\" points=\"384.76,-673.41 381.07,-677.21 386.32,-676.55 384.76,-673.41\"/>\n</g>\n</g>\n</svg>\n",
      "text/plain": [
       "<graphviz.graphs.Digraph at 0x7fbf5d2cf6a0>"
      ]
     },
     "execution_count": 21,
     "metadata": {},
     "output_type": "execute_result"
    }
   ],
   "source": [
    "q1 = q(\"MATCH ()-[e]-()--() RETURN DISTINCT e;\")\n",
    "\n",
    "q1[\"v1\"] = q1.e.apply(lambda x: x.start_vertex_id().as_string())\n",
    "q1[\"v2\"] = q1.e.apply(lambda x: x.end_vertex_id().as_string())\n",
    "q1[\"edges\"] = q1.apply(lambda x: (x.v1, x.v2), axis=1)\n",
    "\n",
    "nodes = set(q1.v1).union(set(q1.v2))\n",
    "edges = q1.edges\n",
    "\n",
    "draw(nodes, edges, red_nodes=['3968'], engine='neato')    # можно подкрасить некоторые вершины"
   ]
  },
  {
   "cell_type": "markdown",
   "metadata": {},
   "source": [
    "## <a id='toc4_4_'></a>[Выводы](#toc0_)\n",
    "\n",
    "1. Графовые СУБД - это сила!\n",
    "3. В ориентированном графе есть циклы: один $C_5$, два $C_6$ и один $C_7$. Все вершины $C_5$ принадлежат также множеству вершин $C_7$.\n",
    "4. В аналогичном неориентированном графе к этим циклам добавляется еще один цикл $C_4$.\n",
    "2. В представленном графе компоненты связности из более чем 2 вершин можно считать выбросами с точки зрения статистики.\n",
    "5. Таких компонент связности с более чем 2 вершинами в графе насчитывается 6 штук.\n",
    "6. Кроме тривиальных для данного графа компонент связности из 2 вершин, граф включает к.с. из 51, 15, 13, 7 и 6 вершин.\n",
    "7. Визуализация компонент связности графа подтвеждает выводы, полученные алгоритмически. \n",
    "\n"
   ]
  },
  {
   "cell_type": "markdown",
   "metadata": {},
   "source": [
    "# <a id='toc5_'></a>[REST сервис](#toc0_)\n",
    "\n",
    "REST сервис на python к графовой БД в котором на вход поступает ФИО, на выходе json"
   ]
  },
  {
   "cell_type": "code",
   "execution_count": 22,
   "metadata": {},
   "outputs": [
    {
     "data": {
      "text/plain": [
       "(2, 12, 49, 49, 0, 0, 0)"
      ]
     },
     "execution_count": 22,
     "metadata": {},
     "output_type": "execute_result"
    }
   ],
   "source": [
    "def rest(query, conn=connection_pool):\n",
    "    \"\"\"Запрос к БД на языке NGQL\"\"\"\n",
    "\n",
    "    with conn.session_context(USER, PASS) as session:\n",
    "        session.execute(f\"USE {SPACE};\")\n",
    "        result = session.execute(query)\n",
    "        if not result.is_succeeded():\n",
    "            return []\n",
    "    \n",
    "    names = []\n",
    "    if result.column_values(\"connected\"):\n",
    "        for node in [x.cast() for x in result.column_values(\"connected\")][0]:\n",
    "            names.append(node.prop_values(\"person\")[0].cast())\n",
    "        names = names[1:] # исключить саму вершину\n",
    "\n",
    "    return names\n",
    "\n",
    "def neighbours(name):\n",
    "    \"\"\"Вершины, смежные для name\"\"\"\n",
    "\n",
    "    return f\"MATCH p = (v)-[r*1]->() WHERE v.person.name == '{name}' WITH v, nodes(p) AS n UNWIND n AS n1 RETURN id(v) AS vid, collect(DISTINCT n1) AS connected;\"\n",
    "\n",
    "def reachable(name):\n",
    "    \"\"\"Вершины, достижимые из name\"\"\"\n",
    "    \n",
    "    return f\"MATCH p = (v)-[r*1..]->() WHERE v.person.name == '{name}' WITH v, nodes(p) AS n UNWIND n AS n1 RETURN id(v) AS vid, collect(DISTINCT n1) AS connected;\"\n",
    "\n",
    "(\n",
    "    len(rest(neighbours('Пафомова Кира Вадимовна'))),    # 2\n",
    "    len(rest(reachable('Пафомова Кира Вадимовна'))),     # 12\n",
    "\n",
    "    len(rest(neighbours('Ахромеева Алина Ивановна'))),   # 49\n",
    "    len(rest(reachable('Ахромеева Алина Ивановна'))),    # 49\n",
    "\n",
    "    len(rest(neighbours('Сапожник Борис Валерьевич'))),  # 0\n",
    "    len(rest(reachable('Сапожник Борис Валерьевич'))),   # 0\n",
    "\n",
    "    len(rest(neighbours('Нет Такого Персонажа'))),       # 0\n",
    ")"
   ]
  },
  {
   "cell_type": "markdown",
   "metadata": {},
   "source": [
    "```\n",
    "$ pip install \"uvicorn[standard]\"\n",
    "$ cd ./app\n",
    "$ echo \"DATABASE_USER=***\" > ./.env\n",
    "$ echo \"DATABASE_PASS=***\" >> ./.env\n",
    "$ uvicorn main:app --reload\n",
    "...\n",
    "```\n",
    "\n",
    "http://127.0.0.1:8000/docs"
   ]
  }
 ],
 "metadata": {
  "kernelspec": {
   "display_name": "Python 3.10.8 ('py310')",
   "language": "python",
   "name": "python3"
  },
  "language_info": {
   "codemirror_mode": {
    "name": "ipython",
    "version": 3
   },
   "file_extension": ".py",
   "mimetype": "text/x-python",
   "name": "python",
   "nbconvert_exporter": "python",
   "pygments_lexer": "ipython3",
   "version": "3.10.8"
  },
  "orig_nbformat": 4,
  "vscode": {
   "interpreter": {
    "hash": "53d00ba0b92f737b23b3e678e3a3ceb3fe4e948ad1ab95d9c6fdcbb4b4ec65f3"
   }
  }
 },
 "nbformat": 4,
 "nbformat_minor": 2
}
